{
 "cells": [
  {
   "cell_type": "code",
   "execution_count": 1,
   "id": "b32cc270",
   "metadata": {},
   "outputs": [],
   "source": [
    "import os\n",
    "import numpy as np\n",
    "import pandas as pd\n",
    "import matplotlib.pyplot as plt\n",
    "import seaborn as sns\n",
    "%matplotlib inline\n",
    "\n",
    "from sklearn.preprocessing import MinMaxScaler\n",
    "from sklearn.model_selection import train_test_split, KFold, cross_val_score\n",
    "from sklearn.tree import DecisionTreeClassifier\n",
    "from sklearn.ensemble import RandomForestClassifier, AdaBoostClassifier\n",
    "from sklearn.pipeline import make_pipeline\n",
    "from sklearn.metrics import (\n",
    "    zero_one_loss, \n",
    "    accuracy_score, \n",
    "    f1_score,\n",
    "    confusion_matrix, \n",
    "    ConfusionMatrixDisplay, \n",
    "    classification_report\n",
    ")\n",
    "\n",
    "import warnings\n",
    "warnings.filterwarnings('ignore')"
   ]
  },
  {
   "cell_type": "code",
   "execution_count": 2,
   "id": "3333db38",
   "metadata": {},
   "outputs": [
    {
     "data": {
      "text/html": [
       "<div>\n",
       "<style scoped>\n",
       "    .dataframe tbody tr th:only-of-type {\n",
       "        vertical-align: middle;\n",
       "    }\n",
       "\n",
       "    .dataframe tbody tr th {\n",
       "        vertical-align: top;\n",
       "    }\n",
       "\n",
       "    .dataframe thead th {\n",
       "        text-align: right;\n",
       "    }\n",
       "</style>\n",
       "<table border=\"1\" class=\"dataframe\">\n",
       "  <thead>\n",
       "    <tr style=\"text-align: right;\">\n",
       "      <th></th>\n",
       "      <th>36.6</th>\n",
       "      <th>228.69</th>\n",
       "      <th>bmi</th>\n",
       "    </tr>\n",
       "  </thead>\n",
       "  <tbody>\n",
       "    <tr>\n",
       "      <th>0</th>\n",
       "      <td>27.75</td>\n",
       "      <td>202.21</td>\n",
       "      <td>NaN</td>\n",
       "    </tr>\n",
       "    <tr>\n",
       "      <th>1</th>\n",
       "      <td>32.50</td>\n",
       "      <td>105.92</td>\n",
       "      <td>NaN</td>\n",
       "    </tr>\n",
       "    <tr>\n",
       "      <th>2</th>\n",
       "      <td>34.40</td>\n",
       "      <td>171.23</td>\n",
       "      <td>NaN</td>\n",
       "    </tr>\n",
       "    <tr>\n",
       "      <th>3</th>\n",
       "      <td>24.00</td>\n",
       "      <td>174.12</td>\n",
       "      <td>NaN</td>\n",
       "    </tr>\n",
       "    <tr>\n",
       "      <th>4</th>\n",
       "      <td>29.00</td>\n",
       "      <td>186.21</td>\n",
       "      <td>NaN</td>\n",
       "    </tr>\n",
       "    <tr>\n",
       "      <th>...</th>\n",
       "      <td>...</td>\n",
       "      <td>...</td>\n",
       "      <td>...</td>\n",
       "    </tr>\n",
       "    <tr>\n",
       "      <th>5104</th>\n",
       "      <td>27.75</td>\n",
       "      <td>83.75</td>\n",
       "      <td>NaN</td>\n",
       "    </tr>\n",
       "    <tr>\n",
       "      <th>5105</th>\n",
       "      <td>40.00</td>\n",
       "      <td>125.20</td>\n",
       "      <td>NaN</td>\n",
       "    </tr>\n",
       "    <tr>\n",
       "      <th>5106</th>\n",
       "      <td>30.60</td>\n",
       "      <td>82.99</td>\n",
       "      <td>NaN</td>\n",
       "    </tr>\n",
       "    <tr>\n",
       "      <th>5107</th>\n",
       "      <td>25.60</td>\n",
       "      <td>166.29</td>\n",
       "      <td>NaN</td>\n",
       "    </tr>\n",
       "    <tr>\n",
       "      <th>5108</th>\n",
       "      <td>26.20</td>\n",
       "      <td>85.28</td>\n",
       "      <td>NaN</td>\n",
       "    </tr>\n",
       "  </tbody>\n",
       "</table>\n",
       "<p>5109 rows × 3 columns</p>\n",
       "</div>"
      ],
      "text/plain": [
       "       36.6  228.69  bmi\n",
       "0     27.75  202.21  NaN\n",
       "1     32.50  105.92  NaN\n",
       "2     34.40  171.23  NaN\n",
       "3     24.00  174.12  NaN\n",
       "4     29.00  186.21  NaN\n",
       "...     ...     ...  ...\n",
       "5104  27.75   83.75  NaN\n",
       "5105  40.00  125.20  NaN\n",
       "5106  30.60   82.99  NaN\n",
       "5107  25.60  166.29  NaN\n",
       "5108  26.20   85.28  NaN\n",
       "\n",
       "[5109 rows x 3 columns]"
      ]
     },
     "execution_count": 2,
     "metadata": {},
     "output_type": "execute_result"
    }
   ],
   "source": [
    "data=pd.read_csv(r\"C:\\Users\\Pooja\\Downloads\\healthcare-dataset-stroke-data.csv\")\n",
    "data"
   ]
  },
  {
   "cell_type": "code",
   "execution_count": 3,
   "id": "953756bc",
   "metadata": {},
   "outputs": [
    {
     "data": {
      "text/plain": [
       "(5109, 3)"
      ]
     },
     "execution_count": 3,
     "metadata": {},
     "output_type": "execute_result"
    }
   ],
   "source": [
    "data.shape"
   ]
  },
  {
   "cell_type": "code",
   "execution_count": 4,
   "id": "2d05b059",
   "metadata": {},
   "outputs": [
    {
     "name": "stdout",
     "output_type": "stream",
     "text": [
      "<class 'pandas.core.frame.DataFrame'>\n",
      "RangeIndex: 5109 entries, 0 to 5108\n",
      "Data columns (total 3 columns):\n",
      " #   Column  Non-Null Count  Dtype  \n",
      "---  ------  --------------  -----  \n",
      " 0   36.6    5109 non-null   float64\n",
      " 1   228.69  5109 non-null   float64\n",
      " 2   bmi     0 non-null      float64\n",
      "dtypes: float64(3)\n",
      "memory usage: 119.9 KB\n"
     ]
    }
   ],
   "source": [
    "data.info()"
   ]
  },
  {
   "cell_type": "code",
   "execution_count": 5,
   "id": "307b7363",
   "metadata": {},
   "outputs": [
    {
     "data": {
      "text/html": [
       "<div>\n",
       "<style scoped>\n",
       "    .dataframe tbody tr th:only-of-type {\n",
       "        vertical-align: middle;\n",
       "    }\n",
       "\n",
       "    .dataframe tbody tr th {\n",
       "        vertical-align: top;\n",
       "    }\n",
       "\n",
       "    .dataframe thead th {\n",
       "        text-align: right;\n",
       "    }\n",
       "</style>\n",
       "<table border=\"1\" class=\"dataframe\">\n",
       "  <thead>\n",
       "    <tr style=\"text-align: right;\">\n",
       "      <th></th>\n",
       "      <th>36.6</th>\n",
       "      <th>228.69</th>\n",
       "      <th>bmi</th>\n",
       "    </tr>\n",
       "  </thead>\n",
       "  <tbody>\n",
       "    <tr>\n",
       "      <th>count</th>\n",
       "      <td>5109.000000</td>\n",
       "      <td>5109.000000</td>\n",
       "      <td>0.0</td>\n",
       "    </tr>\n",
       "    <tr>\n",
       "      <th>mean</th>\n",
       "      <td>28.846751</td>\n",
       "      <td>106.123692</td>\n",
       "      <td>NaN</td>\n",
       "    </tr>\n",
       "    <tr>\n",
       "      <th>std</th>\n",
       "      <td>7.701216</td>\n",
       "      <td>45.255518</td>\n",
       "      <td>NaN</td>\n",
       "    </tr>\n",
       "    <tr>\n",
       "      <th>min</th>\n",
       "      <td>10.300000</td>\n",
       "      <td>55.120000</td>\n",
       "      <td>NaN</td>\n",
       "    </tr>\n",
       "    <tr>\n",
       "      <th>25%</th>\n",
       "      <td>23.800000</td>\n",
       "      <td>77.240000</td>\n",
       "      <td>NaN</td>\n",
       "    </tr>\n",
       "    <tr>\n",
       "      <th>50%</th>\n",
       "      <td>27.750000</td>\n",
       "      <td>91.880000</td>\n",
       "      <td>NaN</td>\n",
       "    </tr>\n",
       "    <tr>\n",
       "      <th>75%</th>\n",
       "      <td>32.800000</td>\n",
       "      <td>114.090000</td>\n",
       "      <td>NaN</td>\n",
       "    </tr>\n",
       "    <tr>\n",
       "      <th>max</th>\n",
       "      <td>97.600000</td>\n",
       "      <td>271.740000</td>\n",
       "      <td>NaN</td>\n",
       "    </tr>\n",
       "  </tbody>\n",
       "</table>\n",
       "</div>"
      ],
      "text/plain": [
       "              36.6       228.69  bmi\n",
       "count  5109.000000  5109.000000  0.0\n",
       "mean     28.846751   106.123692  NaN\n",
       "std       7.701216    45.255518  NaN\n",
       "min      10.300000    55.120000  NaN\n",
       "25%      23.800000    77.240000  NaN\n",
       "50%      27.750000    91.880000  NaN\n",
       "75%      32.800000   114.090000  NaN\n",
       "max      97.600000   271.740000  NaN"
      ]
     },
     "execution_count": 5,
     "metadata": {},
     "output_type": "execute_result"
    }
   ],
   "source": [
    "data.describe()"
   ]
  },
  {
   "cell_type": "code",
   "execution_count": 6,
   "id": "b21bf8e5",
   "metadata": {},
   "outputs": [
    {
     "data": {
      "text/plain": [
       "id                   5110\n",
       "gender                  3\n",
       "age                   104\n",
       "hypertension            2\n",
       "heart_disease           2\n",
       "ever_married            2\n",
       "work_type               5\n",
       "Residence_type          2\n",
       "avg_glucose_level    3979\n",
       "bmi                   418\n",
       "smoking_status          4\n",
       "stroke                  2\n",
       "dtype: int64"
      ]
     },
     "execution_count": 6,
     "metadata": {},
     "output_type": "execute_result"
    }
   ],
   "source": [
    "data.nunique()"
   ]
  },
  {
   "cell_type": "code",
   "execution_count": 7,
   "id": "97172d73",
   "metadata": {},
   "outputs": [
    {
     "data": {
      "text/plain": [
       "id                     int64\n",
       "gender                object\n",
       "age                  float64\n",
       "hypertension           int64\n",
       "heart_disease          int64\n",
       "ever_married          object\n",
       "work_type             object\n",
       "Residence_type        object\n",
       "avg_glucose_level    float64\n",
       "bmi                  float64\n",
       "smoking_status        object\n",
       "stroke                 int64\n",
       "dtype: object"
      ]
     },
     "execution_count": 7,
     "metadata": {},
     "output_type": "execute_result"
    }
   ],
   "source": [
    "data.dtypes"
   ]
  },
  {
   "cell_type": "code",
   "execution_count": 8,
   "id": "dfc890dd",
   "metadata": {},
   "outputs": [
    {
     "data": {
      "text/plain": [
       "0    4861\n",
       "1     249\n",
       "Name: stroke, dtype: int64"
      ]
     },
     "execution_count": 8,
     "metadata": {},
     "output_type": "execute_result"
    }
   ],
   "source": [
    "data.stroke.value_counts()"
   ]
  },
  {
   "cell_type": "raw",
   "id": "1186a5b1",
   "metadata": {},
   "source": [
    "brain stroke data is having class imbalance problem"
   ]
  },
  {
   "cell_type": "markdown",
   "id": "93f92016",
   "metadata": {},
   "source": [
    "# Drop ID"
   ]
  },
  {
   "cell_type": "code",
   "execution_count": 4,
   "id": "b16d9afd",
   "metadata": {},
   "outputs": [
    {
     "data": {
      "text/plain": [
       "0        9046\n",
       "1       51676\n",
       "2       31112\n",
       "3       60182\n",
       "4        1665\n",
       "        ...  \n",
       "5105    18234\n",
       "5106    44873\n",
       "5107    19723\n",
       "5108    37544\n",
       "5109    44679\n",
       "Name: id, Length: 5110, dtype: int64"
      ]
     },
     "execution_count": 4,
     "metadata": {},
     "output_type": "execute_result"
    }
   ],
   "source": [
    "Id=data[\"id\"]\n",
    "Id"
   ]
  },
  {
   "cell_type": "code",
   "execution_count": 5,
   "id": "bbd2acc8",
   "metadata": {},
   "outputs": [
    {
     "data": {
      "text/html": [
       "<div>\n",
       "<style scoped>\n",
       "    .dataframe tbody tr th:only-of-type {\n",
       "        vertical-align: middle;\n",
       "    }\n",
       "\n",
       "    .dataframe tbody tr th {\n",
       "        vertical-align: top;\n",
       "    }\n",
       "\n",
       "    .dataframe thead th {\n",
       "        text-align: right;\n",
       "    }\n",
       "</style>\n",
       "<table border=\"1\" class=\"dataframe\">\n",
       "  <thead>\n",
       "    <tr style=\"text-align: right;\">\n",
       "      <th></th>\n",
       "      <th>gender</th>\n",
       "      <th>age</th>\n",
       "      <th>hypertension</th>\n",
       "      <th>heart_disease</th>\n",
       "      <th>ever_married</th>\n",
       "      <th>work_type</th>\n",
       "      <th>Residence_type</th>\n",
       "      <th>avg_glucose_level</th>\n",
       "      <th>bmi</th>\n",
       "      <th>smoking_status</th>\n",
       "      <th>stroke</th>\n",
       "    </tr>\n",
       "  </thead>\n",
       "  <tbody>\n",
       "    <tr>\n",
       "      <th>0</th>\n",
       "      <td>Male</td>\n",
       "      <td>67.0</td>\n",
       "      <td>0</td>\n",
       "      <td>1</td>\n",
       "      <td>Yes</td>\n",
       "      <td>Private</td>\n",
       "      <td>Urban</td>\n",
       "      <td>228.69</td>\n",
       "      <td>36.6</td>\n",
       "      <td>formerly smoked</td>\n",
       "      <td>1</td>\n",
       "    </tr>\n",
       "    <tr>\n",
       "      <th>1</th>\n",
       "      <td>Female</td>\n",
       "      <td>61.0</td>\n",
       "      <td>0</td>\n",
       "      <td>0</td>\n",
       "      <td>Yes</td>\n",
       "      <td>Self-employed</td>\n",
       "      <td>Rural</td>\n",
       "      <td>202.21</td>\n",
       "      <td>NaN</td>\n",
       "      <td>never smoked</td>\n",
       "      <td>1</td>\n",
       "    </tr>\n",
       "    <tr>\n",
       "      <th>2</th>\n",
       "      <td>Male</td>\n",
       "      <td>80.0</td>\n",
       "      <td>0</td>\n",
       "      <td>1</td>\n",
       "      <td>Yes</td>\n",
       "      <td>Private</td>\n",
       "      <td>Rural</td>\n",
       "      <td>105.92</td>\n",
       "      <td>32.5</td>\n",
       "      <td>never smoked</td>\n",
       "      <td>1</td>\n",
       "    </tr>\n",
       "    <tr>\n",
       "      <th>3</th>\n",
       "      <td>Female</td>\n",
       "      <td>49.0</td>\n",
       "      <td>0</td>\n",
       "      <td>0</td>\n",
       "      <td>Yes</td>\n",
       "      <td>Private</td>\n",
       "      <td>Urban</td>\n",
       "      <td>171.23</td>\n",
       "      <td>34.4</td>\n",
       "      <td>smokes</td>\n",
       "      <td>1</td>\n",
       "    </tr>\n",
       "    <tr>\n",
       "      <th>4</th>\n",
       "      <td>Female</td>\n",
       "      <td>79.0</td>\n",
       "      <td>1</td>\n",
       "      <td>0</td>\n",
       "      <td>Yes</td>\n",
       "      <td>Self-employed</td>\n",
       "      <td>Rural</td>\n",
       "      <td>174.12</td>\n",
       "      <td>24.0</td>\n",
       "      <td>never smoked</td>\n",
       "      <td>1</td>\n",
       "    </tr>\n",
       "    <tr>\n",
       "      <th>...</th>\n",
       "      <td>...</td>\n",
       "      <td>...</td>\n",
       "      <td>...</td>\n",
       "      <td>...</td>\n",
       "      <td>...</td>\n",
       "      <td>...</td>\n",
       "      <td>...</td>\n",
       "      <td>...</td>\n",
       "      <td>...</td>\n",
       "      <td>...</td>\n",
       "      <td>...</td>\n",
       "    </tr>\n",
       "    <tr>\n",
       "      <th>5105</th>\n",
       "      <td>Female</td>\n",
       "      <td>80.0</td>\n",
       "      <td>1</td>\n",
       "      <td>0</td>\n",
       "      <td>Yes</td>\n",
       "      <td>Private</td>\n",
       "      <td>Urban</td>\n",
       "      <td>83.75</td>\n",
       "      <td>NaN</td>\n",
       "      <td>never smoked</td>\n",
       "      <td>0</td>\n",
       "    </tr>\n",
       "    <tr>\n",
       "      <th>5106</th>\n",
       "      <td>Female</td>\n",
       "      <td>81.0</td>\n",
       "      <td>0</td>\n",
       "      <td>0</td>\n",
       "      <td>Yes</td>\n",
       "      <td>Self-employed</td>\n",
       "      <td>Urban</td>\n",
       "      <td>125.20</td>\n",
       "      <td>40.0</td>\n",
       "      <td>never smoked</td>\n",
       "      <td>0</td>\n",
       "    </tr>\n",
       "    <tr>\n",
       "      <th>5107</th>\n",
       "      <td>Female</td>\n",
       "      <td>35.0</td>\n",
       "      <td>0</td>\n",
       "      <td>0</td>\n",
       "      <td>Yes</td>\n",
       "      <td>Self-employed</td>\n",
       "      <td>Rural</td>\n",
       "      <td>82.99</td>\n",
       "      <td>30.6</td>\n",
       "      <td>never smoked</td>\n",
       "      <td>0</td>\n",
       "    </tr>\n",
       "    <tr>\n",
       "      <th>5108</th>\n",
       "      <td>Male</td>\n",
       "      <td>51.0</td>\n",
       "      <td>0</td>\n",
       "      <td>0</td>\n",
       "      <td>Yes</td>\n",
       "      <td>Private</td>\n",
       "      <td>Rural</td>\n",
       "      <td>166.29</td>\n",
       "      <td>25.6</td>\n",
       "      <td>formerly smoked</td>\n",
       "      <td>0</td>\n",
       "    </tr>\n",
       "    <tr>\n",
       "      <th>5109</th>\n",
       "      <td>Female</td>\n",
       "      <td>44.0</td>\n",
       "      <td>0</td>\n",
       "      <td>0</td>\n",
       "      <td>Yes</td>\n",
       "      <td>Govt_job</td>\n",
       "      <td>Urban</td>\n",
       "      <td>85.28</td>\n",
       "      <td>26.2</td>\n",
       "      <td>Unknown</td>\n",
       "      <td>0</td>\n",
       "    </tr>\n",
       "  </tbody>\n",
       "</table>\n",
       "<p>5110 rows × 11 columns</p>\n",
       "</div>"
      ],
      "text/plain": [
       "      gender   age  hypertension  heart_disease ever_married      work_type  \\\n",
       "0       Male  67.0             0              1          Yes        Private   \n",
       "1     Female  61.0             0              0          Yes  Self-employed   \n",
       "2       Male  80.0             0              1          Yes        Private   \n",
       "3     Female  49.0             0              0          Yes        Private   \n",
       "4     Female  79.0             1              0          Yes  Self-employed   \n",
       "...      ...   ...           ...            ...          ...            ...   \n",
       "5105  Female  80.0             1              0          Yes        Private   \n",
       "5106  Female  81.0             0              0          Yes  Self-employed   \n",
       "5107  Female  35.0             0              0          Yes  Self-employed   \n",
       "5108    Male  51.0             0              0          Yes        Private   \n",
       "5109  Female  44.0             0              0          Yes       Govt_job   \n",
       "\n",
       "     Residence_type  avg_glucose_level   bmi   smoking_status  stroke  \n",
       "0             Urban             228.69  36.6  formerly smoked       1  \n",
       "1             Rural             202.21   NaN     never smoked       1  \n",
       "2             Rural             105.92  32.5     never smoked       1  \n",
       "3             Urban             171.23  34.4           smokes       1  \n",
       "4             Rural             174.12  24.0     never smoked       1  \n",
       "...             ...                ...   ...              ...     ...  \n",
       "5105          Urban              83.75   NaN     never smoked       0  \n",
       "5106          Urban             125.20  40.0     never smoked       0  \n",
       "5107          Rural              82.99  30.6     never smoked       0  \n",
       "5108          Rural             166.29  25.6  formerly smoked       0  \n",
       "5109          Urban              85.28  26.2          Unknown       0  \n",
       "\n",
       "[5110 rows x 11 columns]"
      ]
     },
     "execution_count": 5,
     "metadata": {},
     "output_type": "execute_result"
    }
   ],
   "source": [
    "data=data.drop([\"id\"],axis=1)\n",
    "data\n"
   ]
  },
  {
   "cell_type": "code",
   "execution_count": 15,
   "id": "43c776ee",
   "metadata": {},
   "outputs": [],
   "source": [
    "data['stroke'].replace({0: 'No', 1: 'Yes'}, inplace = True)\n",
    "data['heart_disease'].replace({0: 'No', 1: 'Yes'}, inplace = True)\n"
   ]
  },
  {
   "cell_type": "code",
   "execution_count": 16,
   "id": "a885ae0b",
   "metadata": {},
   "outputs": [
    {
     "data": {
      "text/html": [
       "<div>\n",
       "<style scoped>\n",
       "    .dataframe tbody tr th:only-of-type {\n",
       "        vertical-align: middle;\n",
       "    }\n",
       "\n",
       "    .dataframe tbody tr th {\n",
       "        vertical-align: top;\n",
       "    }\n",
       "\n",
       "    .dataframe thead th {\n",
       "        text-align: right;\n",
       "    }\n",
       "</style>\n",
       "<table border=\"1\" class=\"dataframe\">\n",
       "  <thead>\n",
       "    <tr style=\"text-align: right;\">\n",
       "      <th></th>\n",
       "      <th>gender</th>\n",
       "      <th>age</th>\n",
       "      <th>hypertension</th>\n",
       "      <th>heart_disease</th>\n",
       "      <th>ever_married</th>\n",
       "      <th>work_type</th>\n",
       "      <th>Residence_type</th>\n",
       "      <th>avg_glucose_level</th>\n",
       "      <th>bmi</th>\n",
       "      <th>smoking_status</th>\n",
       "      <th>stroke</th>\n",
       "    </tr>\n",
       "  </thead>\n",
       "  <tbody>\n",
       "    <tr>\n",
       "      <th>0</th>\n",
       "      <td>Male</td>\n",
       "      <td>67.0</td>\n",
       "      <td>0</td>\n",
       "      <td>Yes</td>\n",
       "      <td>Yes</td>\n",
       "      <td>Private</td>\n",
       "      <td>Urban</td>\n",
       "      <td>228.69</td>\n",
       "      <td>36.600000</td>\n",
       "      <td>formerly smoked</td>\n",
       "      <td>Yes</td>\n",
       "    </tr>\n",
       "    <tr>\n",
       "      <th>1</th>\n",
       "      <td>Female</td>\n",
       "      <td>61.0</td>\n",
       "      <td>0</td>\n",
       "      <td>No</td>\n",
       "      <td>Yes</td>\n",
       "      <td>Self-employed</td>\n",
       "      <td>Rural</td>\n",
       "      <td>202.21</td>\n",
       "      <td>28.893237</td>\n",
       "      <td>never smoked</td>\n",
       "      <td>Yes</td>\n",
       "    </tr>\n",
       "    <tr>\n",
       "      <th>2</th>\n",
       "      <td>Male</td>\n",
       "      <td>80.0</td>\n",
       "      <td>0</td>\n",
       "      <td>Yes</td>\n",
       "      <td>Yes</td>\n",
       "      <td>Private</td>\n",
       "      <td>Rural</td>\n",
       "      <td>105.92</td>\n",
       "      <td>32.500000</td>\n",
       "      <td>never smoked</td>\n",
       "      <td>Yes</td>\n",
       "    </tr>\n",
       "    <tr>\n",
       "      <th>3</th>\n",
       "      <td>Female</td>\n",
       "      <td>49.0</td>\n",
       "      <td>0</td>\n",
       "      <td>No</td>\n",
       "      <td>Yes</td>\n",
       "      <td>Private</td>\n",
       "      <td>Urban</td>\n",
       "      <td>171.23</td>\n",
       "      <td>34.400000</td>\n",
       "      <td>smokes</td>\n",
       "      <td>Yes</td>\n",
       "    </tr>\n",
       "    <tr>\n",
       "      <th>4</th>\n",
       "      <td>Female</td>\n",
       "      <td>79.0</td>\n",
       "      <td>1</td>\n",
       "      <td>No</td>\n",
       "      <td>Yes</td>\n",
       "      <td>Self-employed</td>\n",
       "      <td>Rural</td>\n",
       "      <td>174.12</td>\n",
       "      <td>24.000000</td>\n",
       "      <td>never smoked</td>\n",
       "      <td>Yes</td>\n",
       "    </tr>\n",
       "    <tr>\n",
       "      <th>...</th>\n",
       "      <td>...</td>\n",
       "      <td>...</td>\n",
       "      <td>...</td>\n",
       "      <td>...</td>\n",
       "      <td>...</td>\n",
       "      <td>...</td>\n",
       "      <td>...</td>\n",
       "      <td>...</td>\n",
       "      <td>...</td>\n",
       "      <td>...</td>\n",
       "      <td>...</td>\n",
       "    </tr>\n",
       "    <tr>\n",
       "      <th>5105</th>\n",
       "      <td>Female</td>\n",
       "      <td>80.0</td>\n",
       "      <td>1</td>\n",
       "      <td>No</td>\n",
       "      <td>Yes</td>\n",
       "      <td>Private</td>\n",
       "      <td>Urban</td>\n",
       "      <td>83.75</td>\n",
       "      <td>28.893237</td>\n",
       "      <td>never smoked</td>\n",
       "      <td>No</td>\n",
       "    </tr>\n",
       "    <tr>\n",
       "      <th>5106</th>\n",
       "      <td>Female</td>\n",
       "      <td>81.0</td>\n",
       "      <td>0</td>\n",
       "      <td>No</td>\n",
       "      <td>Yes</td>\n",
       "      <td>Self-employed</td>\n",
       "      <td>Urban</td>\n",
       "      <td>125.20</td>\n",
       "      <td>40.000000</td>\n",
       "      <td>never smoked</td>\n",
       "      <td>No</td>\n",
       "    </tr>\n",
       "    <tr>\n",
       "      <th>5107</th>\n",
       "      <td>Female</td>\n",
       "      <td>35.0</td>\n",
       "      <td>0</td>\n",
       "      <td>No</td>\n",
       "      <td>Yes</td>\n",
       "      <td>Self-employed</td>\n",
       "      <td>Rural</td>\n",
       "      <td>82.99</td>\n",
       "      <td>30.600000</td>\n",
       "      <td>never smoked</td>\n",
       "      <td>No</td>\n",
       "    </tr>\n",
       "    <tr>\n",
       "      <th>5108</th>\n",
       "      <td>Male</td>\n",
       "      <td>51.0</td>\n",
       "      <td>0</td>\n",
       "      <td>No</td>\n",
       "      <td>Yes</td>\n",
       "      <td>Private</td>\n",
       "      <td>Rural</td>\n",
       "      <td>166.29</td>\n",
       "      <td>25.600000</td>\n",
       "      <td>formerly smoked</td>\n",
       "      <td>No</td>\n",
       "    </tr>\n",
       "    <tr>\n",
       "      <th>5109</th>\n",
       "      <td>Female</td>\n",
       "      <td>44.0</td>\n",
       "      <td>0</td>\n",
       "      <td>No</td>\n",
       "      <td>Yes</td>\n",
       "      <td>Govt_job</td>\n",
       "      <td>Urban</td>\n",
       "      <td>85.28</td>\n",
       "      <td>26.200000</td>\n",
       "      <td>Unknown</td>\n",
       "      <td>No</td>\n",
       "    </tr>\n",
       "  </tbody>\n",
       "</table>\n",
       "<p>5110 rows × 11 columns</p>\n",
       "</div>"
      ],
      "text/plain": [
       "      gender   age  hypertension heart_disease ever_married      work_type  \\\n",
       "0       Male  67.0             0           Yes          Yes        Private   \n",
       "1     Female  61.0             0            No          Yes  Self-employed   \n",
       "2       Male  80.0             0           Yes          Yes        Private   \n",
       "3     Female  49.0             0            No          Yes        Private   \n",
       "4     Female  79.0             1            No          Yes  Self-employed   \n",
       "...      ...   ...           ...           ...          ...            ...   \n",
       "5105  Female  80.0             1            No          Yes        Private   \n",
       "5106  Female  81.0             0            No          Yes  Self-employed   \n",
       "5107  Female  35.0             0            No          Yes  Self-employed   \n",
       "5108    Male  51.0             0            No          Yes        Private   \n",
       "5109  Female  44.0             0            No          Yes       Govt_job   \n",
       "\n",
       "     Residence_type  avg_glucose_level        bmi   smoking_status stroke  \n",
       "0             Urban             228.69  36.600000  formerly smoked    Yes  \n",
       "1             Rural             202.21  28.893237     never smoked    Yes  \n",
       "2             Rural             105.92  32.500000     never smoked    Yes  \n",
       "3             Urban             171.23  34.400000           smokes    Yes  \n",
       "4             Rural             174.12  24.000000     never smoked    Yes  \n",
       "...             ...                ...        ...              ...    ...  \n",
       "5105          Urban              83.75  28.893237     never smoked     No  \n",
       "5106          Urban             125.20  40.000000     never smoked     No  \n",
       "5107          Rural              82.99  30.600000     never smoked     No  \n",
       "5108          Rural             166.29  25.600000  formerly smoked     No  \n",
       "5109          Urban              85.28  26.200000          Unknown     No  \n",
       "\n",
       "[5110 rows x 11 columns]"
      ]
     },
     "execution_count": 16,
     "metadata": {},
     "output_type": "execute_result"
    }
   ],
   "source": [
    "data"
   ]
  },
  {
   "cell_type": "markdown",
   "id": "ce2fa804",
   "metadata": {},
   "source": [
    "# Missing value Treatment"
   ]
  },
  {
   "cell_type": "code",
   "execution_count": 8,
   "id": "8f3db5fe",
   "metadata": {},
   "outputs": [
    {
     "data": {
      "text/plain": [
       "gender                 0\n",
       "age                    0\n",
       "hypertension           0\n",
       "heart_disease          0\n",
       "ever_married           0\n",
       "work_type              0\n",
       "Residence_type         0\n",
       "avg_glucose_level      0\n",
       "bmi                  201\n",
       "smoking_status         0\n",
       "stroke                 0\n",
       "dtype: int64"
      ]
     },
     "execution_count": 8,
     "metadata": {},
     "output_type": "execute_result"
    }
   ],
   "source": [
    "data.isnull().sum()"
   ]
  },
  {
   "cell_type": "raw",
   "id": "580dac7b",
   "metadata": {},
   "source": [
    "the BMI column is having the missing values"
   ]
  },
  {
   "cell_type": "code",
   "execution_count": 9,
   "id": "2a2d0469",
   "metadata": {},
   "outputs": [],
   "source": [
    "data.bmi=data.bmi.fillna(data.bmi.mean()) # replacing the missing values by mean in bmi column"
   ]
  },
  {
   "cell_type": "code",
   "execution_count": 10,
   "id": "70314e7b",
   "metadata": {},
   "outputs": [
    {
     "data": {
      "text/plain": [
       "gender               0\n",
       "age                  0\n",
       "hypertension         0\n",
       "heart_disease        0\n",
       "ever_married         0\n",
       "work_type            0\n",
       "Residence_type       0\n",
       "avg_glucose_level    0\n",
       "bmi                  0\n",
       "smoking_status       0\n",
       "stroke               0\n",
       "dtype: int64"
      ]
     },
     "execution_count": 10,
     "metadata": {},
     "output_type": "execute_result"
    }
   ],
   "source": [
    "data.isnull().sum()"
   ]
  },
  {
   "cell_type": "raw",
   "id": "2c59900a",
   "metadata": {},
   "source": [
    " the missing values in the bmi column is get filled with mean, data is clean"
   ]
  },
  {
   "cell_type": "code",
   "execution_count": 46,
   "id": "f3e2eb71",
   "metadata": {},
   "outputs": [
    {
     "name": "stdout",
     "output_type": "stream",
     "text": [
      "stroke  No  Yes\n",
      "bmi            \n",
      "10.3     1    0\n",
      "11.3     1    0\n",
      "11.5     1    0\n",
      "12.0     1    0\n",
      "12.3     1    0\n",
      "...     ..  ...\n",
      "66.8     1    0\n",
      "71.9     1    0\n",
      "78.0     1    0\n",
      "92.0     1    0\n",
      "97.6     1    0\n",
      "\n",
      "[419 rows x 2 columns]\n"
     ]
    }
   ],
   "source": [
    "x1=pd.crosstab(data[\"bmi\"],data[\"stroke\"])\n",
    "print(x1)"
   ]
  },
  {
   "cell_type": "code",
   "execution_count": 48,
   "id": "a78871d2",
   "metadata": {},
   "outputs": [
    {
     "data": {
      "text/plain": [
       "<function matplotlib.pyplot.show(close=None, block=None)>"
      ]
     },
     "execution_count": 48,
     "metadata": {},
     "output_type": "execute_result"
    },
    {
     "data": {
      "image/png": "[encoded data removed]",
      "text/plain": [
       "<Figure size 640x480 with 1 Axes>"
      ]
     },
     "metadata": {},
     "output_type": "display_data"
    }
   ],
   "source": [
    "glucose=data[\"avg_glucose_level\"]\n",
    "bmi=data[\"bmi\"]\n",
    "plt.xlabel(\"age\")\n",
    "plt.ylabel(\"bmi\")\n",
    "plt.title(\"scatter plot\")\n",
    "plt.scatter(bmi,glucose)\n",
    "plt.show"
   ]
  },
  {
   "cell_type": "markdown",
   "id": "c08801af",
   "metadata": {},
   "source": [
    "# Datatypes conversion "
   ]
  },
  {
   "cell_type": "code",
   "execution_count": 14,
   "id": "f4f40f87",
   "metadata": {},
   "outputs": [
    {
     "data": {
      "text/plain": [
       "gender                object\n",
       "age                  float64\n",
       "hypertension           int64\n",
       "heart_disease          int64\n",
       "ever_married          object\n",
       "work_type             object\n",
       "Residence_type        object\n",
       "avg_glucose_level    float64\n",
       "bmi                  float64\n",
       "smoking_status        object\n",
       "stroke                 int64\n",
       "dtype: object"
      ]
     },
     "execution_count": 14,
     "metadata": {},
     "output_type": "execute_result"
    }
   ],
   "source": [
    "data.dtypes"
   ]
  },
  {
   "cell_type": "code",
   "execution_count": 15,
   "id": "d01703d7",
   "metadata": {},
   "outputs": [],
   "source": [
    "from sklearn.preprocessing import LabelEncoder \n",
    "le=LabelEncoder()"
   ]
  },
  {
   "cell_type": "code",
   "execution_count": 16,
   "id": "f0e8aced",
   "metadata": {},
   "outputs": [],
   "source": [
    "data.gender=le.fit_transform(data.gender)"
   ]
  },
  {
   "cell_type": "code",
   "execution_count": 17,
   "id": "4d8dbc6f",
   "metadata": {},
   "outputs": [
    {
     "data": {
      "text/plain": [
       "0    2994\n",
       "1    2115\n",
       "2       1\n",
       "Name: gender, dtype: int64"
      ]
     },
     "execution_count": 17,
     "metadata": {},
     "output_type": "execute_result"
    }
   ],
   "source": [
    "data.gender.value_counts()"
   ]
  },
  {
   "cell_type": "code",
   "execution_count": 18,
   "id": "b5f5f5f5",
   "metadata": {},
   "outputs": [],
   "source": [
    "data.ever_married=le.fit_transform(data.ever_married)"
   ]
  },
  {
   "cell_type": "code",
   "execution_count": 19,
   "id": "b449082a",
   "metadata": {},
   "outputs": [
    {
     "data": {
      "text/plain": [
       "1    3353\n",
       "0    1757\n",
       "Name: ever_married, dtype: int64"
      ]
     },
     "execution_count": 19,
     "metadata": {},
     "output_type": "execute_result"
    }
   ],
   "source": [
    "data.ever_married.value_counts()"
   ]
  },
  {
   "cell_type": "code",
   "execution_count": 20,
   "id": "4323025f",
   "metadata": {},
   "outputs": [],
   "source": [
    "data.work_type=le.fit_transform(data.work_type)"
   ]
  },
  {
   "cell_type": "code",
   "execution_count": 21,
   "id": "2377e2de",
   "metadata": {},
   "outputs": [
    {
     "data": {
      "text/plain": [
       "2    2925\n",
       "3     819\n",
       "4     687\n",
       "0     657\n",
       "1      22\n",
       "Name: work_type, dtype: int64"
      ]
     },
     "execution_count": 21,
     "metadata": {},
     "output_type": "execute_result"
    }
   ],
   "source": [
    "data.work_type.value_counts()"
   ]
  },
  {
   "cell_type": "code",
   "execution_count": 22,
   "id": "930be0ff",
   "metadata": {},
   "outputs": [],
   "source": [
    "data.Residence_type=le.fit_transform(data.Residence_type)"
   ]
  },
  {
   "cell_type": "code",
   "execution_count": 23,
   "id": "a1118c03",
   "metadata": {},
   "outputs": [
    {
     "data": {
      "text/plain": [
       "1    2596\n",
       "0    2514\n",
       "Name: Residence_type, dtype: int64"
      ]
     },
     "execution_count": 23,
     "metadata": {},
     "output_type": "execute_result"
    }
   ],
   "source": [
    "data.Residence_type.value_counts()"
   ]
  },
  {
   "cell_type": "code",
   "execution_count": 24,
   "id": "999b4a06",
   "metadata": {},
   "outputs": [],
   "source": [
    "data.smoking_status=le.fit_transform(data.smoking_status)"
   ]
  },
  {
   "cell_type": "code",
   "execution_count": 25,
   "id": "bd8aa92e",
   "metadata": {},
   "outputs": [
    {
     "data": {
      "text/plain": [
       "2    1892\n",
       "0    1544\n",
       "1     885\n",
       "3     789\n",
       "Name: smoking_status, dtype: int64"
      ]
     },
     "execution_count": 25,
     "metadata": {},
     "output_type": "execute_result"
    }
   ],
   "source": [
    "data.smoking_status.value_counts()"
   ]
  },
  {
   "cell_type": "code",
   "execution_count": 26,
   "id": "5f1124a1",
   "metadata": {},
   "outputs": [
    {
     "data": {
      "text/plain": [
       "gender                 int32\n",
       "age                  float64\n",
       "hypertension           int64\n",
       "heart_disease          int64\n",
       "ever_married           int32\n",
       "work_type              int32\n",
       "Residence_type         int32\n",
       "avg_glucose_level    float64\n",
       "bmi                  float64\n",
       "smoking_status         int32\n",
       "stroke                 int64\n",
       "dtype: object"
      ]
     },
     "execution_count": 26,
     "metadata": {},
     "output_type": "execute_result"
    }
   ],
   "source": [
    "data.dtypes"
   ]
  },
  {
   "cell_type": "code",
   "execution_count": 27,
   "id": "6c99ff20",
   "metadata": {},
   "outputs": [
    {
     "data": {
      "text/html": [
       "<div>\n",
       "<style scoped>\n",
       "    .dataframe tbody tr th:only-of-type {\n",
       "        vertical-align: middle;\n",
       "    }\n",
       "\n",
       "    .dataframe tbody tr th {\n",
       "        vertical-align: top;\n",
       "    }\n",
       "\n",
       "    .dataframe thead th {\n",
       "        text-align: right;\n",
       "    }\n",
       "</style>\n",
       "<table border=\"1\" class=\"dataframe\">\n",
       "  <thead>\n",
       "    <tr style=\"text-align: right;\">\n",
       "      <th></th>\n",
       "      <th>gender</th>\n",
       "      <th>age</th>\n",
       "      <th>hypertension</th>\n",
       "      <th>heart_disease</th>\n",
       "      <th>ever_married</th>\n",
       "      <th>work_type</th>\n",
       "      <th>Residence_type</th>\n",
       "      <th>avg_glucose_level</th>\n",
       "      <th>bmi</th>\n",
       "      <th>smoking_status</th>\n",
       "      <th>stroke</th>\n",
       "    </tr>\n",
       "  </thead>\n",
       "  <tbody>\n",
       "    <tr>\n",
       "      <th>gender</th>\n",
       "      <td>1.000000</td>\n",
       "      <td>-0.028202</td>\n",
       "      <td>0.020994</td>\n",
       "      <td>0.085447</td>\n",
       "      <td>-0.031005</td>\n",
       "      <td>0.056422</td>\n",
       "      <td>-0.006738</td>\n",
       "      <td>0.055180</td>\n",
       "      <td>-0.026109</td>\n",
       "      <td>-0.062581</td>\n",
       "      <td>0.008929</td>\n",
       "    </tr>\n",
       "    <tr>\n",
       "      <th>age</th>\n",
       "      <td>-0.028202</td>\n",
       "      <td>1.000000</td>\n",
       "      <td>0.276398</td>\n",
       "      <td>0.263796</td>\n",
       "      <td>0.679125</td>\n",
       "      <td>-0.361642</td>\n",
       "      <td>0.014180</td>\n",
       "      <td>0.238171</td>\n",
       "      <td>0.325942</td>\n",
       "      <td>0.265199</td>\n",
       "      <td>0.245257</td>\n",
       "    </tr>\n",
       "    <tr>\n",
       "      <th>hypertension</th>\n",
       "      <td>0.020994</td>\n",
       "      <td>0.276398</td>\n",
       "      <td>1.000000</td>\n",
       "      <td>0.108306</td>\n",
       "      <td>0.164243</td>\n",
       "      <td>-0.051761</td>\n",
       "      <td>-0.007913</td>\n",
       "      <td>0.174474</td>\n",
       "      <td>0.160189</td>\n",
       "      <td>0.111038</td>\n",
       "      <td>0.127904</td>\n",
       "    </tr>\n",
       "    <tr>\n",
       "      <th>heart_disease</th>\n",
       "      <td>0.085447</td>\n",
       "      <td>0.263796</td>\n",
       "      <td>0.108306</td>\n",
       "      <td>1.000000</td>\n",
       "      <td>0.114644</td>\n",
       "      <td>-0.028023</td>\n",
       "      <td>0.003092</td>\n",
       "      <td>0.161857</td>\n",
       "      <td>0.038899</td>\n",
       "      <td>0.048460</td>\n",
       "      <td>0.134914</td>\n",
       "    </tr>\n",
       "    <tr>\n",
       "      <th>ever_married</th>\n",
       "      <td>-0.031005</td>\n",
       "      <td>0.679125</td>\n",
       "      <td>0.164243</td>\n",
       "      <td>0.114644</td>\n",
       "      <td>1.000000</td>\n",
       "      <td>-0.352722</td>\n",
       "      <td>0.006261</td>\n",
       "      <td>0.155068</td>\n",
       "      <td>0.335705</td>\n",
       "      <td>0.259647</td>\n",
       "      <td>0.108340</td>\n",
       "    </tr>\n",
       "    <tr>\n",
       "      <th>work_type</th>\n",
       "      <td>0.056422</td>\n",
       "      <td>-0.361642</td>\n",
       "      <td>-0.051761</td>\n",
       "      <td>-0.028023</td>\n",
       "      <td>-0.352722</td>\n",
       "      <td>1.000000</td>\n",
       "      <td>-0.007316</td>\n",
       "      <td>-0.050513</td>\n",
       "      <td>-0.299448</td>\n",
       "      <td>-0.305927</td>\n",
       "      <td>-0.032316</td>\n",
       "    </tr>\n",
       "    <tr>\n",
       "      <th>Residence_type</th>\n",
       "      <td>-0.006738</td>\n",
       "      <td>0.014180</td>\n",
       "      <td>-0.007913</td>\n",
       "      <td>0.003092</td>\n",
       "      <td>0.006261</td>\n",
       "      <td>-0.007316</td>\n",
       "      <td>1.000000</td>\n",
       "      <td>-0.004946</td>\n",
       "      <td>-0.000120</td>\n",
       "      <td>0.008237</td>\n",
       "      <td>0.015458</td>\n",
       "    </tr>\n",
       "    <tr>\n",
       "      <th>avg_glucose_level</th>\n",
       "      <td>0.055180</td>\n",
       "      <td>0.238171</td>\n",
       "      <td>0.174474</td>\n",
       "      <td>0.161857</td>\n",
       "      <td>0.155068</td>\n",
       "      <td>-0.050513</td>\n",
       "      <td>-0.004946</td>\n",
       "      <td>1.000000</td>\n",
       "      <td>0.168751</td>\n",
       "      <td>0.063437</td>\n",
       "      <td>0.131945</td>\n",
       "    </tr>\n",
       "    <tr>\n",
       "      <th>bmi</th>\n",
       "      <td>-0.026109</td>\n",
       "      <td>0.325942</td>\n",
       "      <td>0.160189</td>\n",
       "      <td>0.038899</td>\n",
       "      <td>0.335705</td>\n",
       "      <td>-0.299448</td>\n",
       "      <td>-0.000120</td>\n",
       "      <td>0.168751</td>\n",
       "      <td>1.000000</td>\n",
       "      <td>0.219148</td>\n",
       "      <td>0.038947</td>\n",
       "    </tr>\n",
       "    <tr>\n",
       "      <th>smoking_status</th>\n",
       "      <td>-0.062581</td>\n",
       "      <td>0.265199</td>\n",
       "      <td>0.111038</td>\n",
       "      <td>0.048460</td>\n",
       "      <td>0.259647</td>\n",
       "      <td>-0.305927</td>\n",
       "      <td>0.008237</td>\n",
       "      <td>0.063437</td>\n",
       "      <td>0.219148</td>\n",
       "      <td>1.000000</td>\n",
       "      <td>0.028123</td>\n",
       "    </tr>\n",
       "    <tr>\n",
       "      <th>stroke</th>\n",
       "      <td>0.008929</td>\n",
       "      <td>0.245257</td>\n",
       "      <td>0.127904</td>\n",
       "      <td>0.134914</td>\n",
       "      <td>0.108340</td>\n",
       "      <td>-0.032316</td>\n",
       "      <td>0.015458</td>\n",
       "      <td>0.131945</td>\n",
       "      <td>0.038947</td>\n",
       "      <td>0.028123</td>\n",
       "      <td>1.000000</td>\n",
       "    </tr>\n",
       "  </tbody>\n",
       "</table>\n",
       "</div>"
      ],
      "text/plain": [
       "                     gender       age  hypertension  heart_disease  \\\n",
       "gender             1.000000 -0.028202      0.020994       0.085447   \n",
       "age               -0.028202  1.000000      0.276398       0.263796   \n",
       "hypertension       0.020994  0.276398      1.000000       0.108306   \n",
       "heart_disease      0.085447  0.263796      0.108306       1.000000   \n",
       "ever_married      -0.031005  0.679125      0.164243       0.114644   \n",
       "work_type          0.056422 -0.361642     -0.051761      -0.028023   \n",
       "Residence_type    -0.006738  0.014180     -0.007913       0.003092   \n",
       "avg_glucose_level  0.055180  0.238171      0.174474       0.161857   \n",
       "bmi               -0.026109  0.325942      0.160189       0.038899   \n",
       "smoking_status    -0.062581  0.265199      0.111038       0.048460   \n",
       "stroke             0.008929  0.245257      0.127904       0.134914   \n",
       "\n",
       "                   ever_married  work_type  Residence_type  avg_glucose_level  \\\n",
       "gender                -0.031005   0.056422       -0.006738           0.055180   \n",
       "age                    0.679125  -0.361642        0.014180           0.238171   \n",
       "hypertension           0.164243  -0.051761       -0.007913           0.174474   \n",
       "heart_disease          0.114644  -0.028023        0.003092           0.161857   \n",
       "ever_married           1.000000  -0.352722        0.006261           0.155068   \n",
       "work_type             -0.352722   1.000000       -0.007316          -0.050513   \n",
       "Residence_type         0.006261  -0.007316        1.000000          -0.004946   \n",
       "avg_glucose_level      0.155068  -0.050513       -0.004946           1.000000   \n",
       "bmi                    0.335705  -0.299448       -0.000120           0.168751   \n",
       "smoking_status         0.259647  -0.305927        0.008237           0.063437   \n",
       "stroke                 0.108340  -0.032316        0.015458           0.131945   \n",
       "\n",
       "                        bmi  smoking_status    stroke  \n",
       "gender            -0.026109       -0.062581  0.008929  \n",
       "age                0.325942        0.265199  0.245257  \n",
       "hypertension       0.160189        0.111038  0.127904  \n",
       "heart_disease      0.038899        0.048460  0.134914  \n",
       "ever_married       0.335705        0.259647  0.108340  \n",
       "work_type         -0.299448       -0.305927 -0.032316  \n",
       "Residence_type    -0.000120        0.008237  0.015458  \n",
       "avg_glucose_level  0.168751        0.063437  0.131945  \n",
       "bmi                1.000000        0.219148  0.038947  \n",
       "smoking_status     0.219148        1.000000  0.028123  \n",
       "stroke             0.038947        0.028123  1.000000  "
      ]
     },
     "execution_count": 27,
     "metadata": {},
     "output_type": "execute_result"
    }
   ],
   "source": [
    "x=data.corr() # To find correlation matrix\n",
    "x"
   ]
  },
  {
   "cell_type": "code",
   "execution_count": 28,
   "id": "b488d78c",
   "metadata": {},
   "outputs": [
    {
     "data": {
      "image/png": "[encoded data removed]",
      "text/plain": [
       "<Figure size 1500x1000 with 2 Axes>"
      ]
     },
     "metadata": {},
     "output_type": "display_data"
    }
   ],
   "source": [
    "plt.figure(figsize=(15,10))\n",
    "plt.title(\"Heatmap of Correlation\")\n",
    "heatmap=sns.heatmap(x,linewidth=1,annot=True,cmap=\"coolwarm\")\n",
    "plt.show()"
   ]
  },
  {
   "cell_type": "markdown",
   "id": "45d92fe8",
   "metadata": {},
   "source": [
    "# Outlier Treatment"
   ]
  },
  {
   "cell_type": "code",
   "execution_count": 29,
   "id": "77577df2",
   "metadata": {},
   "outputs": [
    {
     "data": {
      "text/plain": [
       "<AxesSubplot:>"
      ]
     },
     "execution_count": 29,
     "metadata": {},
     "output_type": "execute_result"
    },
    {
     "data": {
      "image/png": "[encoded data removed]",
      "text/plain": [
       "<Figure size 2000x900 with 1 Axes>"
      ]
     },
     "metadata": {},
     "output_type": "display_data"
    }
   ],
   "source": [
    "fid=plt.figure(figsize=(20,9))\n",
    "sns.boxplot(data=data)"
   ]
  },
  {
   "cell_type": "raw",
   "id": "e6506377",
   "metadata": {},
   "source": [
    "the columns avg_glucose_level ,bmi having the outliers"
   ]
  },
  {
   "cell_type": "markdown",
   "id": "677bf5b7",
   "metadata": {},
   "source": [
    "# Outlier Treatment for avg_glucose_level column"
   ]
  },
  {
   "cell_type": "code",
   "execution_count": 29,
   "id": "dd8ae65d",
   "metadata": {},
   "outputs": [
    {
     "data": {
      "text/plain": [
       "<AxesSubplot:ylabel='avg_glucose_level'>"
      ]
     },
     "execution_count": 29,
     "metadata": {},
     "output_type": "execute_result"
    },
    {
     "data": {
      "image/png": "[encoded data removed]",
      "text/plain": [
       "<Figure size 640x480 with 1 Axes>"
      ]
     },
     "metadata": {},
     "output_type": "display_data"
    }
   ],
   "source": [
    "sns.boxplot(data=data,y=\"avg_glucose_level\")"
   ]
  },
  {
   "cell_type": "code",
   "execution_count": 30,
   "id": "43debe6e",
   "metadata": {},
   "outputs": [
    {
     "data": {
      "text/plain": [
       "<AxesSubplot:>"
      ]
     },
     "execution_count": 30,
     "metadata": {},
     "output_type": "execute_result"
    },
    {
     "data": {
      "image/png": "[encoded data removed]",
      "text/plain": [
       "<Figure size 640x480 with 1 Axes>"
      ]
     },
     "metadata": {},
     "output_type": "display_data"
    }
   ],
   "source": [
    "data.avg_glucose_level.hist()"
   ]
  },
  {
   "cell_type": "code",
   "execution_count": 31,
   "id": "bb56a253",
   "metadata": {},
   "outputs": [
    {
     "data": {
      "text/plain": [
       "<AxesSubplot:xlabel='avg_glucose_level', ylabel='Density'>"
      ]
     },
     "execution_count": 31,
     "metadata": {},
     "output_type": "execute_result"
    },
    {
     "data": {
      "image/png": "[encoded data removed]",
      "text/plain": [
       "<Figure size 1200x1300 with 1 Axes>"
      ]
     },
     "metadata": {},
     "output_type": "display_data"
    }
   ],
   "source": [
    "fid=plt.figure(figsize=(12,13)) \n",
    "sns.distplot(data.avg_glucose_level)"
   ]
  },
  {
   "cell_type": "code",
   "execution_count": 32,
   "id": "f610968d",
   "metadata": {},
   "outputs": [
    {
     "data": {
      "text/plain": [
       "36.845"
      ]
     },
     "execution_count": 32,
     "metadata": {},
     "output_type": "execute_result"
    }
   ],
   "source": [
    "iqr=data.avg_glucose_level.quantile(0.75)-data.avg_glucose_level.quantile(0.25)\n",
    "iqr"
   ]
  },
  {
   "cell_type": "code",
   "execution_count": 33,
   "id": "3a7a43ed",
   "metadata": {},
   "outputs": [
    {
     "data": {
      "text/plain": [
       "count    5110.000000\n",
       "mean      106.147677\n",
       "std        45.283560\n",
       "min        55.120000\n",
       "25%        77.245000\n",
       "50%        91.885000\n",
       "75%       114.090000\n",
       "max       271.740000\n",
       "Name: avg_glucose_level, dtype: float64"
      ]
     },
     "execution_count": 33,
     "metadata": {},
     "output_type": "execute_result"
    }
   ],
   "source": [
    "data.avg_glucose_level.describe() # avg_glucose_level is numeric variable"
   ]
  },
  {
   "cell_type": "code",
   "execution_count": 34,
   "id": "62882c30",
   "metadata": {},
   "outputs": [
    {
     "data": {
      "text/plain": [
       "93.88     6\n",
       "91.68     5\n",
       "91.85     5\n",
       "83.16     5\n",
       "73.00     5\n",
       "         ..\n",
       "111.93    1\n",
       "94.40     1\n",
       "95.57     1\n",
       "66.29     1\n",
       "85.28     1\n",
       "Name: avg_glucose_level, Length: 3979, dtype: int64"
      ]
     },
     "execution_count": 34,
     "metadata": {},
     "output_type": "execute_result"
    }
   ],
   "source": [
    "data.avg_glucose_level.value_counts()"
   ]
  },
  {
   "cell_type": "code",
   "execution_count": 35,
   "id": "402740f1",
   "metadata": {},
   "outputs": [
    {
     "name": "stdout",
     "output_type": "stream",
     "text": [
      "-33.28999999999999 224.625\n"
     ]
    }
   ],
   "source": [
    "lb=data[\"avg_glucose_level\"].quantile(0.25)-(iqr*3)\n",
    "ub=data[\"avg_glucose_level\"].quantile(0.75)+(iqr*3)\n",
    "print(lb,ub)"
   ]
  },
  {
   "cell_type": "code",
   "execution_count": 36,
   "id": "ae7f6e18",
   "metadata": {},
   "outputs": [],
   "source": [
    "data.loc[data[\"avg_glucose_level\"]>224.625,\"avg_glucose_level\"]=224.625"
   ]
  },
  {
   "cell_type": "code",
   "execution_count": 37,
   "id": "112e00e1",
   "metadata": {},
   "outputs": [
    {
     "data": {
      "text/plain": [
       "<AxesSubplot:xlabel='avg_glucose_level', ylabel='Density'>"
      ]
     },
     "execution_count": 37,
     "metadata": {},
     "output_type": "execute_result"
    },
    {
     "data": {
      "image/png": "[encoded data removed]",
      "text/plain": [
       "<Figure size 1200x1300 with 1 Axes>"
      ]
     },
     "metadata": {},
     "output_type": "display_data"
    }
   ],
   "source": [
    "fid=plt.figure(figsize=(12,13))  # Distplot after outlier treatment\n",
    "sns.distplot(data.avg_glucose_level)"
   ]
  },
  {
   "cell_type": "code",
   "execution_count": 39,
   "id": "d01b0994",
   "metadata": {},
   "outputs": [
    {
     "data": {
      "text/plain": [
       "<AxesSubplot:ylabel='avg_glucose_level'>"
      ]
     },
     "execution_count": 39,
     "metadata": {},
     "output_type": "execute_result"
    },
    {
     "data": {
      "image/png": "[encoded data removed]",
      "text/plain": [
       "<Figure size 640x480 with 1 Axes>"
      ]
     },
     "metadata": {},
     "output_type": "display_data"
    }
   ],
   "source": [
    "sns.boxplot(data=data,y=\"avg_glucose_level\")"
   ]
  },
  {
   "cell_type": "code",
   "execution_count": 40,
   "id": "c00ce377",
   "metadata": {},
   "outputs": [
    {
     "data": {
      "text/plain": [
       "<AxesSubplot:>"
      ]
     },
     "execution_count": 40,
     "metadata": {},
     "output_type": "execute_result"
    },
    {
     "data": {
      "image/png": "[encoded data removed]",
      "text/plain": [
       "<Figure size 640x480 with 1 Axes>"
      ]
     },
     "metadata": {},
     "output_type": "display_data"
    }
   ],
   "source": [
    "data.bmi.hist()"
   ]
  },
  {
   "cell_type": "code",
   "execution_count": 41,
   "id": "ae58f64b",
   "metadata": {},
   "outputs": [
    {
     "data": {
      "text/plain": [
       "<AxesSubplot:xlabel='bmi', ylabel='Density'>"
      ]
     },
     "execution_count": 41,
     "metadata": {},
     "output_type": "execute_result"
    },
    {
     "data": {
      "image/png": "[encoded data removed]",
      "text/plain": [
       "<Figure size 1200x1300 with 1 Axes>"
      ]
     },
     "metadata": {},
     "output_type": "display_data"
    }
   ],
   "source": [
    "fid=plt.figure(figsize=(12,13)) \n",
    "sns.distplot(data.bmi)"
   ]
  },
  {
   "cell_type": "code",
   "execution_count": 42,
   "id": "749ebd83",
   "metadata": {},
   "outputs": [
    {
     "data": {
      "text/plain": [
       "8.999999999999996"
      ]
     },
     "execution_count": 42,
     "metadata": {},
     "output_type": "execute_result"
    }
   ],
   "source": [
    "iqr=data.bmi.quantile(0.75)-data.bmi.quantile(0.25)\n",
    "iqr"
   ]
  },
  {
   "cell_type": "code",
   "execution_count": 43,
   "id": "76c6408c",
   "metadata": {},
   "outputs": [
    {
     "data": {
      "text/plain": [
       "count    5110.000000\n",
       "mean       28.893237\n",
       "std         7.698018\n",
       "min        10.300000\n",
       "25%        23.800000\n",
       "50%        28.400000\n",
       "75%        32.800000\n",
       "max        97.600000\n",
       "Name: bmi, dtype: float64"
      ]
     },
     "execution_count": 43,
     "metadata": {},
     "output_type": "execute_result"
    }
   ],
   "source": [
    "data.bmi.describe()"
   ]
  },
  {
   "cell_type": "code",
   "execution_count": 44,
   "id": "5c0439ca",
   "metadata": {},
   "outputs": [
    {
     "data": {
      "text/plain": [
       "28.893237    201\n",
       "28.700000     41\n",
       "28.400000     38\n",
       "27.600000     37\n",
       "26.700000     37\n",
       "            ... \n",
       "11.500000      1\n",
       "40.600000      1\n",
       "53.900000      1\n",
       "97.600000      1\n",
       "14.900000      1\n",
       "Name: bmi, Length: 419, dtype: int64"
      ]
     },
     "execution_count": 44,
     "metadata": {},
     "output_type": "execute_result"
    }
   ],
   "source": [
    "data.bmi.value_counts()"
   ]
  },
  {
   "cell_type": "code",
   "execution_count": 45,
   "id": "ea917c4e",
   "metadata": {},
   "outputs": [
    {
     "name": "stdout",
     "output_type": "stream",
     "text": [
      "-3.1999999999999886 59.79999999999998\n"
     ]
    }
   ],
   "source": [
    "lb=data[\"bmi\"].quantile(0.25)-(iqr*3)\n",
    "ub=data[\"bmi\"].quantile(0.75)+(iqr*3)\n",
    "print(lb,ub)"
   ]
  },
  {
   "cell_type": "code",
   "execution_count": 46,
   "id": "803d3109",
   "metadata": {},
   "outputs": [],
   "source": [
    "data.loc[data[\"bmi\"]>59.79999999999998,\"bmi\"]=59.79999999999998"
   ]
  },
  {
   "cell_type": "code",
   "execution_count": 47,
   "id": "03d26b72",
   "metadata": {},
   "outputs": [
    {
     "data": {
      "text/plain": [
       "<AxesSubplot:xlabel='bmi', ylabel='Density'>"
      ]
     },
     "execution_count": 47,
     "metadata": {},
     "output_type": "execute_result"
    },
    {
     "data": {
      "image/png": "[encoded data removed]",
      "text/plain": [
       "<Figure size 1200x1300 with 1 Axes>"
      ]
     },
     "metadata": {},
     "output_type": "display_data"
    }
   ],
   "source": [
    "fid=plt.figure(figsize=(12,13))  # Distplot after outlier treatment\n",
    "sns.distplot(data.bmi)"
   ]
  },
  {
   "cell_type": "markdown",
   "id": "153ec713",
   "metadata": {},
   "source": [
    "# Skewness treatment"
   ]
  },
  {
   "cell_type": "code",
   "execution_count": 48,
   "id": "92f43f7d",
   "metadata": {},
   "outputs": [
    {
     "data": {
      "text/plain": [
       "gender               0.353012\n",
       "age                 -0.137059\n",
       "hypertension         2.715392\n",
       "heart_disease        3.947244\n",
       "ever_married        -0.657745\n",
       "work_type           -0.308617\n",
       "Residence_type      -0.032107\n",
       "avg_glucose_level    1.484198\n",
       "bmi                  0.811174\n",
       "smoking_status      -0.039234\n",
       "stroke               4.193284\n",
       "dtype: float64"
      ]
     },
     "execution_count": 48,
     "metadata": {},
     "output_type": "execute_result"
    }
   ],
   "source": [
    "data.skew()"
   ]
  },
  {
   "cell_type": "code",
   "execution_count": 49,
   "id": "a7fa3641",
   "metadata": {},
   "outputs": [
    {
     "data": {
      "text/plain": [
       "224.625    166\n",
       "93.880       6\n",
       "73.000       5\n",
       "84.100       5\n",
       "72.490       5\n",
       "          ... \n",
       "125.290      1\n",
       "89.930       1\n",
       "137.450      1\n",
       "72.060       1\n",
       "85.280       1\n",
       "Name: avg_glucose_level, Length: 3815, dtype: int64"
      ]
     },
     "execution_count": 49,
     "metadata": {},
     "output_type": "execute_result"
    }
   ],
   "source": [
    "data.avg_glucose_level.value_counts()"
   ]
  },
  {
   "cell_type": "code",
   "execution_count": 50,
   "id": "d1cd9364",
   "metadata": {},
   "outputs": [
    {
     "data": {
      "text/html": [
       "<div>\n",
       "<style scoped>\n",
       "    .dataframe tbody tr th:only-of-type {\n",
       "        vertical-align: middle;\n",
       "    }\n",
       "\n",
       "    .dataframe tbody tr th {\n",
       "        vertical-align: top;\n",
       "    }\n",
       "\n",
       "    .dataframe thead th {\n",
       "        text-align: right;\n",
       "    }\n",
       "</style>\n",
       "<table border=\"1\" class=\"dataframe\">\n",
       "  <thead>\n",
       "    <tr style=\"text-align: right;\">\n",
       "      <th></th>\n",
       "      <th>gender</th>\n",
       "      <th>age</th>\n",
       "      <th>hypertension</th>\n",
       "      <th>heart_disease</th>\n",
       "      <th>ever_married</th>\n",
       "      <th>work_type</th>\n",
       "      <th>Residence_type</th>\n",
       "      <th>avg_glucose_level</th>\n",
       "      <th>bmi</th>\n",
       "      <th>smoking_status</th>\n",
       "      <th>stroke</th>\n",
       "    </tr>\n",
       "  </thead>\n",
       "  <tbody>\n",
       "  </tbody>\n",
       "</table>\n",
       "</div>"
      ],
      "text/plain": [
       "Empty DataFrame\n",
       "Columns: [gender, age, hypertension, heart_disease, ever_married, work_type, Residence_type, avg_glucose_level, bmi, smoking_status, stroke]\n",
       "Index: []"
      ]
     },
     "execution_count": 50,
     "metadata": {},
     "output_type": "execute_result"
    }
   ],
   "source": [
    "data.loc[data[\"avg_glucose_level\"]==0]"
   ]
  },
  {
   "cell_type": "code",
   "execution_count": 51,
   "id": "4614e967",
   "metadata": {},
   "outputs": [
    {
     "data": {
      "text/plain": [
       "1.4841983963306318"
      ]
     },
     "execution_count": 51,
     "metadata": {},
     "output_type": "execute_result"
    }
   ],
   "source": [
    "data.avg_glucose_level.skew()"
   ]
  },
  {
   "cell_type": "code",
   "execution_count": 52,
   "id": "fb64ac6c",
   "metadata": {},
   "outputs": [],
   "source": [
    "v1=np.log(data.avg_glucose_level)"
   ]
  },
  {
   "cell_type": "code",
   "execution_count": 53,
   "id": "0e83660d",
   "metadata": {},
   "outputs": [
    {
     "data": {
      "text/plain": [
       "0.8404843823595728"
      ]
     },
     "execution_count": 53,
     "metadata": {},
     "output_type": "execute_result"
    }
   ],
   "source": [
    "v1.skew()"
   ]
  },
  {
   "cell_type": "code",
   "execution_count": 54,
   "id": "bd2eb060",
   "metadata": {},
   "outputs": [
    {
     "data": {
      "text/html": [
       "<div>\n",
       "<style scoped>\n",
       "    .dataframe tbody tr th:only-of-type {\n",
       "        vertical-align: middle;\n",
       "    }\n",
       "\n",
       "    .dataframe tbody tr th {\n",
       "        vertical-align: top;\n",
       "    }\n",
       "\n",
       "    .dataframe thead th {\n",
       "        text-align: right;\n",
       "    }\n",
       "</style>\n",
       "<table border=\"1\" class=\"dataframe\">\n",
       "  <thead>\n",
       "    <tr style=\"text-align: right;\">\n",
       "      <th></th>\n",
       "      <th>gender</th>\n",
       "      <th>age</th>\n",
       "      <th>hypertension</th>\n",
       "      <th>heart_disease</th>\n",
       "      <th>ever_married</th>\n",
       "      <th>work_type</th>\n",
       "      <th>Residence_type</th>\n",
       "      <th>avg_glucose_level</th>\n",
       "      <th>bmi</th>\n",
       "      <th>smoking_status</th>\n",
       "      <th>stroke</th>\n",
       "    </tr>\n",
       "  </thead>\n",
       "  <tbody>\n",
       "    <tr>\n",
       "      <th>0</th>\n",
       "      <td>1</td>\n",
       "      <td>67.0</td>\n",
       "      <td>0</td>\n",
       "      <td>1</td>\n",
       "      <td>1</td>\n",
       "      <td>2</td>\n",
       "      <td>1</td>\n",
       "      <td>224.625</td>\n",
       "      <td>36.600000</td>\n",
       "      <td>1</td>\n",
       "      <td>1</td>\n",
       "    </tr>\n",
       "    <tr>\n",
       "      <th>1</th>\n",
       "      <td>0</td>\n",
       "      <td>61.0</td>\n",
       "      <td>0</td>\n",
       "      <td>0</td>\n",
       "      <td>1</td>\n",
       "      <td>3</td>\n",
       "      <td>0</td>\n",
       "      <td>202.210</td>\n",
       "      <td>28.893237</td>\n",
       "      <td>2</td>\n",
       "      <td>1</td>\n",
       "    </tr>\n",
       "    <tr>\n",
       "      <th>2</th>\n",
       "      <td>1</td>\n",
       "      <td>80.0</td>\n",
       "      <td>0</td>\n",
       "      <td>1</td>\n",
       "      <td>1</td>\n",
       "      <td>2</td>\n",
       "      <td>0</td>\n",
       "      <td>105.920</td>\n",
       "      <td>32.500000</td>\n",
       "      <td>2</td>\n",
       "      <td>1</td>\n",
       "    </tr>\n",
       "    <tr>\n",
       "      <th>3</th>\n",
       "      <td>0</td>\n",
       "      <td>49.0</td>\n",
       "      <td>0</td>\n",
       "      <td>0</td>\n",
       "      <td>1</td>\n",
       "      <td>2</td>\n",
       "      <td>1</td>\n",
       "      <td>171.230</td>\n",
       "      <td>34.400000</td>\n",
       "      <td>3</td>\n",
       "      <td>1</td>\n",
       "    </tr>\n",
       "    <tr>\n",
       "      <th>4</th>\n",
       "      <td>0</td>\n",
       "      <td>79.0</td>\n",
       "      <td>1</td>\n",
       "      <td>0</td>\n",
       "      <td>1</td>\n",
       "      <td>3</td>\n",
       "      <td>0</td>\n",
       "      <td>174.120</td>\n",
       "      <td>24.000000</td>\n",
       "      <td>2</td>\n",
       "      <td>1</td>\n",
       "    </tr>\n",
       "  </tbody>\n",
       "</table>\n",
       "</div>"
      ],
      "text/plain": [
       "   gender   age  hypertension  heart_disease  ever_married  work_type  \\\n",
       "0       1  67.0             0              1             1          2   \n",
       "1       0  61.0             0              0             1          3   \n",
       "2       1  80.0             0              1             1          2   \n",
       "3       0  49.0             0              0             1          2   \n",
       "4       0  79.0             1              0             1          3   \n",
       "\n",
       "   Residence_type  avg_glucose_level        bmi  smoking_status  stroke  \n",
       "0               1            224.625  36.600000               1       1  \n",
       "1               0            202.210  28.893237               2       1  \n",
       "2               0            105.920  32.500000               2       1  \n",
       "3               1            171.230  34.400000               3       1  \n",
       "4               0            174.120  24.000000               2       1  "
      ]
     },
     "execution_count": 54,
     "metadata": {},
     "output_type": "execute_result"
    }
   ],
   "source": [
    "data.head()"
   ]
  },
  {
   "cell_type": "markdown",
   "id": "d11566bd",
   "metadata": {},
   "source": [
    "# separation of data into dependent & independent columns"
   ]
  },
  {
   "cell_type": "code",
   "execution_count": 55,
   "id": "ab52179e",
   "metadata": {},
   "outputs": [],
   "source": [
    "train_x=data.iloc[:,0:10]\n",
    "train_y=data.iloc[:,-1]"
   ]
  },
  {
   "cell_type": "code",
   "execution_count": 56,
   "id": "c97a3a9b",
   "metadata": {},
   "outputs": [
    {
     "data": {
      "text/html": [
       "<div>\n",
       "<style scoped>\n",
       "    .dataframe tbody tr th:only-of-type {\n",
       "        vertical-align: middle;\n",
       "    }\n",
       "\n",
       "    .dataframe tbody tr th {\n",
       "        vertical-align: top;\n",
       "    }\n",
       "\n",
       "    .dataframe thead th {\n",
       "        text-align: right;\n",
       "    }\n",
       "</style>\n",
       "<table border=\"1\" class=\"dataframe\">\n",
       "  <thead>\n",
       "    <tr style=\"text-align: right;\">\n",
       "      <th></th>\n",
       "      <th>gender</th>\n",
       "      <th>age</th>\n",
       "      <th>hypertension</th>\n",
       "      <th>heart_disease</th>\n",
       "      <th>ever_married</th>\n",
       "      <th>work_type</th>\n",
       "      <th>Residence_type</th>\n",
       "      <th>avg_glucose_level</th>\n",
       "      <th>bmi</th>\n",
       "      <th>smoking_status</th>\n",
       "    </tr>\n",
       "  </thead>\n",
       "  <tbody>\n",
       "    <tr>\n",
       "      <th>0</th>\n",
       "      <td>1</td>\n",
       "      <td>67.0</td>\n",
       "      <td>0</td>\n",
       "      <td>1</td>\n",
       "      <td>1</td>\n",
       "      <td>2</td>\n",
       "      <td>1</td>\n",
       "      <td>224.625</td>\n",
       "      <td>36.600000</td>\n",
       "      <td>1</td>\n",
       "    </tr>\n",
       "    <tr>\n",
       "      <th>1</th>\n",
       "      <td>0</td>\n",
       "      <td>61.0</td>\n",
       "      <td>0</td>\n",
       "      <td>0</td>\n",
       "      <td>1</td>\n",
       "      <td>3</td>\n",
       "      <td>0</td>\n",
       "      <td>202.210</td>\n",
       "      <td>28.893237</td>\n",
       "      <td>2</td>\n",
       "    </tr>\n",
       "    <tr>\n",
       "      <th>2</th>\n",
       "      <td>1</td>\n",
       "      <td>80.0</td>\n",
       "      <td>0</td>\n",
       "      <td>1</td>\n",
       "      <td>1</td>\n",
       "      <td>2</td>\n",
       "      <td>0</td>\n",
       "      <td>105.920</td>\n",
       "      <td>32.500000</td>\n",
       "      <td>2</td>\n",
       "    </tr>\n",
       "    <tr>\n",
       "      <th>3</th>\n",
       "      <td>0</td>\n",
       "      <td>49.0</td>\n",
       "      <td>0</td>\n",
       "      <td>0</td>\n",
       "      <td>1</td>\n",
       "      <td>2</td>\n",
       "      <td>1</td>\n",
       "      <td>171.230</td>\n",
       "      <td>34.400000</td>\n",
       "      <td>3</td>\n",
       "    </tr>\n",
       "    <tr>\n",
       "      <th>4</th>\n",
       "      <td>0</td>\n",
       "      <td>79.0</td>\n",
       "      <td>1</td>\n",
       "      <td>0</td>\n",
       "      <td>1</td>\n",
       "      <td>3</td>\n",
       "      <td>0</td>\n",
       "      <td>174.120</td>\n",
       "      <td>24.000000</td>\n",
       "      <td>2</td>\n",
       "    </tr>\n",
       "  </tbody>\n",
       "</table>\n",
       "</div>"
      ],
      "text/plain": [
       "   gender   age  hypertension  heart_disease  ever_married  work_type  \\\n",
       "0       1  67.0             0              1             1          2   \n",
       "1       0  61.0             0              0             1          3   \n",
       "2       1  80.0             0              1             1          2   \n",
       "3       0  49.0             0              0             1          2   \n",
       "4       0  79.0             1              0             1          3   \n",
       "\n",
       "   Residence_type  avg_glucose_level        bmi  smoking_status  \n",
       "0               1            224.625  36.600000               1  \n",
       "1               0            202.210  28.893237               2  \n",
       "2               0            105.920  32.500000               2  \n",
       "3               1            171.230  34.400000               3  \n",
       "4               0            174.120  24.000000               2  "
      ]
     },
     "execution_count": 56,
     "metadata": {},
     "output_type": "execute_result"
    }
   ],
   "source": [
    "train_x.head(5)"
   ]
  },
  {
   "cell_type": "code",
   "execution_count": 57,
   "id": "926ed494",
   "metadata": {},
   "outputs": [
    {
     "data": {
      "text/plain": [
       "0    1\n",
       "1    1\n",
       "2    1\n",
       "3    1\n",
       "4    1\n",
       "Name: stroke, dtype: int64"
      ]
     },
     "execution_count": 57,
     "metadata": {},
     "output_type": "execute_result"
    }
   ],
   "source": [
    "train_y.head(5)"
   ]
  },
  {
   "cell_type": "markdown",
   "id": "091da7cf",
   "metadata": {},
   "source": [
    "# Preparing the Data for the Model"
   ]
  },
  {
   "cell_type": "code",
   "execution_count": 58,
   "id": "24074407",
   "metadata": {},
   "outputs": [],
   "source": [
    "x_train,x_test,y_train,y_test=train_test_split(train_x,train_y,test_size=0.2,random_state=100)"
   ]
  },
  {
   "cell_type": "code",
   "execution_count": 59,
   "id": "1fe5a947",
   "metadata": {},
   "outputs": [
    {
     "data": {
      "text/plain": [
       "((4088, 10), (1022, 10), (4088,), (1022,))"
      ]
     },
     "execution_count": 59,
     "metadata": {},
     "output_type": "execute_result"
    }
   ],
   "source": [
    "x_train.shape,x_test.shape,y_train.shape,y_test.shape"
   ]
  },
  {
   "cell_type": "code",
   "execution_count": 60,
   "id": "dae99401",
   "metadata": {},
   "outputs": [
    {
     "data": {
      "text/html": [
       "<div>\n",
       "<style scoped>\n",
       "    .dataframe tbody tr th:only-of-type {\n",
       "        vertical-align: middle;\n",
       "    }\n",
       "\n",
       "    .dataframe tbody tr th {\n",
       "        vertical-align: top;\n",
       "    }\n",
       "\n",
       "    .dataframe thead th {\n",
       "        text-align: right;\n",
       "    }\n",
       "</style>\n",
       "<table border=\"1\" class=\"dataframe\">\n",
       "  <thead>\n",
       "    <tr style=\"text-align: right;\">\n",
       "      <th></th>\n",
       "      <th>gender</th>\n",
       "      <th>age</th>\n",
       "      <th>hypertension</th>\n",
       "      <th>heart_disease</th>\n",
       "      <th>ever_married</th>\n",
       "      <th>work_type</th>\n",
       "      <th>Residence_type</th>\n",
       "      <th>avg_glucose_level</th>\n",
       "      <th>bmi</th>\n",
       "      <th>smoking_status</th>\n",
       "    </tr>\n",
       "  </thead>\n",
       "  <tbody>\n",
       "    <tr>\n",
       "      <th>1098</th>\n",
       "      <td>0</td>\n",
       "      <td>77.0</td>\n",
       "      <td>0</td>\n",
       "      <td>0</td>\n",
       "      <td>1</td>\n",
       "      <td>2</td>\n",
       "      <td>0</td>\n",
       "      <td>75.060</td>\n",
       "      <td>22.0</td>\n",
       "      <td>0</td>\n",
       "    </tr>\n",
       "    <tr>\n",
       "      <th>3465</th>\n",
       "      <td>0</td>\n",
       "      <td>28.0</td>\n",
       "      <td>0</td>\n",
       "      <td>0</td>\n",
       "      <td>1</td>\n",
       "      <td>2</td>\n",
       "      <td>0</td>\n",
       "      <td>141.160</td>\n",
       "      <td>36.7</td>\n",
       "      <td>2</td>\n",
       "    </tr>\n",
       "    <tr>\n",
       "      <th>3160</th>\n",
       "      <td>0</td>\n",
       "      <td>17.0</td>\n",
       "      <td>0</td>\n",
       "      <td>0</td>\n",
       "      <td>0</td>\n",
       "      <td>2</td>\n",
       "      <td>0</td>\n",
       "      <td>88.650</td>\n",
       "      <td>30.3</td>\n",
       "      <td>2</td>\n",
       "    </tr>\n",
       "    <tr>\n",
       "      <th>3594</th>\n",
       "      <td>0</td>\n",
       "      <td>62.0</td>\n",
       "      <td>0</td>\n",
       "      <td>0</td>\n",
       "      <td>1</td>\n",
       "      <td>2</td>\n",
       "      <td>0</td>\n",
       "      <td>224.625</td>\n",
       "      <td>47.4</td>\n",
       "      <td>2</td>\n",
       "    </tr>\n",
       "    <tr>\n",
       "      <th>1249</th>\n",
       "      <td>1</td>\n",
       "      <td>15.0</td>\n",
       "      <td>0</td>\n",
       "      <td>0</td>\n",
       "      <td>0</td>\n",
       "      <td>2</td>\n",
       "      <td>0</td>\n",
       "      <td>78.590</td>\n",
       "      <td>25.1</td>\n",
       "      <td>0</td>\n",
       "    </tr>\n",
       "  </tbody>\n",
       "</table>\n",
       "</div>"
      ],
      "text/plain": [
       "      gender   age  hypertension  heart_disease  ever_married  work_type  \\\n",
       "1098       0  77.0             0              0             1          2   \n",
       "3465       0  28.0             0              0             1          2   \n",
       "3160       0  17.0             0              0             0          2   \n",
       "3594       0  62.0             0              0             1          2   \n",
       "1249       1  15.0             0              0             0          2   \n",
       "\n",
       "      Residence_type  avg_glucose_level   bmi  smoking_status  \n",
       "1098               0             75.060  22.0               0  \n",
       "3465               0            141.160  36.7               2  \n",
       "3160               0             88.650  30.3               2  \n",
       "3594               0            224.625  47.4               2  \n",
       "1249               0             78.590  25.1               0  "
      ]
     },
     "execution_count": 60,
     "metadata": {},
     "output_type": "execute_result"
    }
   ],
   "source": [
    "x_train.head(5)"
   ]
  },
  {
   "cell_type": "code",
   "execution_count": 61,
   "id": "bc31e909",
   "metadata": {},
   "outputs": [
    {
     "data": {
      "text/html": [
       "<div>\n",
       "<style scoped>\n",
       "    .dataframe tbody tr th:only-of-type {\n",
       "        vertical-align: middle;\n",
       "    }\n",
       "\n",
       "    .dataframe tbody tr th {\n",
       "        vertical-align: top;\n",
       "    }\n",
       "\n",
       "    .dataframe thead th {\n",
       "        text-align: right;\n",
       "    }\n",
       "</style>\n",
       "<table border=\"1\" class=\"dataframe\">\n",
       "  <thead>\n",
       "    <tr style=\"text-align: right;\">\n",
       "      <th></th>\n",
       "      <th>gender</th>\n",
       "      <th>age</th>\n",
       "      <th>hypertension</th>\n",
       "      <th>heart_disease</th>\n",
       "      <th>ever_married</th>\n",
       "      <th>work_type</th>\n",
       "      <th>Residence_type</th>\n",
       "      <th>avg_glucose_level</th>\n",
       "      <th>bmi</th>\n",
       "      <th>smoking_status</th>\n",
       "    </tr>\n",
       "  </thead>\n",
       "  <tbody>\n",
       "    <tr>\n",
       "      <th>2918</th>\n",
       "      <td>0</td>\n",
       "      <td>63.0</td>\n",
       "      <td>0</td>\n",
       "      <td>1</td>\n",
       "      <td>1</td>\n",
       "      <td>3</td>\n",
       "      <td>0</td>\n",
       "      <td>224.625</td>\n",
       "      <td>32.2</td>\n",
       "      <td>3</td>\n",
       "    </tr>\n",
       "    <tr>\n",
       "      <th>3056</th>\n",
       "      <td>1</td>\n",
       "      <td>62.0</td>\n",
       "      <td>0</td>\n",
       "      <td>1</td>\n",
       "      <td>1</td>\n",
       "      <td>0</td>\n",
       "      <td>0</td>\n",
       "      <td>73.700</td>\n",
       "      <td>26.2</td>\n",
       "      <td>2</td>\n",
       "    </tr>\n",
       "    <tr>\n",
       "      <th>4916</th>\n",
       "      <td>1</td>\n",
       "      <td>54.0</td>\n",
       "      <td>0</td>\n",
       "      <td>0</td>\n",
       "      <td>1</td>\n",
       "      <td>0</td>\n",
       "      <td>1</td>\n",
       "      <td>72.960</td>\n",
       "      <td>37.7</td>\n",
       "      <td>3</td>\n",
       "    </tr>\n",
       "    <tr>\n",
       "      <th>4003</th>\n",
       "      <td>0</td>\n",
       "      <td>24.0</td>\n",
       "      <td>0</td>\n",
       "      <td>0</td>\n",
       "      <td>0</td>\n",
       "      <td>2</td>\n",
       "      <td>0</td>\n",
       "      <td>147.740</td>\n",
       "      <td>21.4</td>\n",
       "      <td>0</td>\n",
       "    </tr>\n",
       "    <tr>\n",
       "      <th>3332</th>\n",
       "      <td>1</td>\n",
       "      <td>27.0</td>\n",
       "      <td>0</td>\n",
       "      <td>0</td>\n",
       "      <td>1</td>\n",
       "      <td>2</td>\n",
       "      <td>1</td>\n",
       "      <td>114.320</td>\n",
       "      <td>28.1</td>\n",
       "      <td>0</td>\n",
       "    </tr>\n",
       "  </tbody>\n",
       "</table>\n",
       "</div>"
      ],
      "text/plain": [
       "      gender   age  hypertension  heart_disease  ever_married  work_type  \\\n",
       "2918       0  63.0             0              1             1          3   \n",
       "3056       1  62.0             0              1             1          0   \n",
       "4916       1  54.0             0              0             1          0   \n",
       "4003       0  24.0             0              0             0          2   \n",
       "3332       1  27.0             0              0             1          2   \n",
       "\n",
       "      Residence_type  avg_glucose_level   bmi  smoking_status  \n",
       "2918               0            224.625  32.2               3  \n",
       "3056               0             73.700  26.2               2  \n",
       "4916               1             72.960  37.7               3  \n",
       "4003               0            147.740  21.4               0  \n",
       "3332               1            114.320  28.1               0  "
      ]
     },
     "execution_count": 61,
     "metadata": {},
     "output_type": "execute_result"
    }
   ],
   "source": [
    "x_test.head(5)"
   ]
  },
  {
   "cell_type": "code",
   "execution_count": 62,
   "id": "5f928b5e",
   "metadata": {},
   "outputs": [
    {
     "data": {
      "text/plain": [
       "1098    0\n",
       "3465    0\n",
       "3160    0\n",
       "3594    0\n",
       "1249    0\n",
       "Name: stroke, dtype: int64"
      ]
     },
     "execution_count": 62,
     "metadata": {},
     "output_type": "execute_result"
    }
   ],
   "source": [
    "y_train.head(5)"
   ]
  },
  {
   "cell_type": "code",
   "execution_count": 63,
   "id": "c8c35a49",
   "metadata": {},
   "outputs": [
    {
     "data": {
      "text/plain": [
       "2918    0\n",
       "3056    0\n",
       "4916    0\n",
       "4003    0\n",
       "3332    0\n",
       "Name: stroke, dtype: int64"
      ]
     },
     "execution_count": 63,
     "metadata": {},
     "output_type": "execute_result"
    }
   ],
   "source": [
    "y_test.head(5)"
   ]
  },
  {
   "cell_type": "markdown",
   "id": "da85b6d8",
   "metadata": {},
   "source": [
    "# Logistic Regression"
   ]
  },
  {
   "cell_type": "code",
   "execution_count": 64,
   "id": "3a279c75",
   "metadata": {},
   "outputs": [],
   "source": [
    "from sklearn.linear_model import LogisticRegression\n",
    "lg=LogisticRegression()"
   ]
  },
  {
   "cell_type": "code",
   "execution_count": 65,
   "id": "fb5905be",
   "metadata": {},
   "outputs": [],
   "source": [
    "from sklearn.metrics import precision_score,recall_score,f1_score"
   ]
  },
  {
   "cell_type": "code",
   "execution_count": 66,
   "id": "5eb3d7ff",
   "metadata": {},
   "outputs": [
    {
     "data": {
      "text/plain": [
       "LogisticRegression()"
      ]
     },
     "execution_count": 66,
     "metadata": {},
     "output_type": "execute_result"
    }
   ],
   "source": [
    "lg.fit(x_train,y_train)"
   ]
  },
  {
   "cell_type": "code",
   "execution_count": 67,
   "id": "1533b205",
   "metadata": {},
   "outputs": [],
   "source": [
    "lg_p=lg.predict(x_test)"
   ]
  },
  {
   "cell_type": "code",
   "execution_count": 68,
   "id": "00f16a50",
   "metadata": {},
   "outputs": [
    {
     "data": {
      "text/plain": [
       "0.0"
      ]
     },
     "execution_count": 68,
     "metadata": {},
     "output_type": "execute_result"
    }
   ],
   "source": [
    "lg_pr=precision_score(lg_p,y_test)\n",
    "lg_pr"
   ]
  },
  {
   "cell_type": "code",
   "execution_count": 69,
   "id": "0efb1e8e",
   "metadata": {},
   "outputs": [
    {
     "data": {
      "text/plain": [
       "0.0"
      ]
     },
     "execution_count": 69,
     "metadata": {},
     "output_type": "execute_result"
    }
   ],
   "source": [
    "lg_re=recall_score(lg_p,y_test)\n",
    "lg_re"
   ]
  },
  {
   "cell_type": "code",
   "execution_count": 70,
   "id": "5b2ff8b5",
   "metadata": {},
   "outputs": [
    {
     "data": {
      "text/plain": [
       "0.9549902152641878"
      ]
     },
     "execution_count": 70,
     "metadata": {},
     "output_type": "execute_result"
    }
   ],
   "source": [
    "lg_ac=accuracy_score(lg_p,y_test)\n",
    "lg_ac"
   ]
  },
  {
   "cell_type": "code",
   "execution_count": 71,
   "id": "9e10fe40",
   "metadata": {},
   "outputs": [
    {
     "data": {
      "text/plain": [
       "0.0"
      ]
     },
     "execution_count": 71,
     "metadata": {},
     "output_type": "execute_result"
    }
   ],
   "source": [
    "lg_f1=f1_score(lg_p,y_test)\n",
    "lg_f1"
   ]
  },
  {
   "cell_type": "code",
   "execution_count": 72,
   "id": "fb6aa91b",
   "metadata": {},
   "outputs": [],
   "source": [
    "from sklearn.metrics import confusion_matrix"
   ]
  },
  {
   "cell_type": "code",
   "execution_count": 73,
   "id": "14f7d01e",
   "metadata": {},
   "outputs": [
    {
     "data": {
      "text/plain": [
       "array([[976,  46],\n",
       "       [  0,   0]], dtype=int64)"
      ]
     },
     "execution_count": 73,
     "metadata": {},
     "output_type": "execute_result"
    }
   ],
   "source": [
    "lg_cf=confusion_matrix(lg_p,y_test)\n",
    "lg_cf"
   ]
  },
  {
   "cell_type": "code",
   "execution_count": 74,
   "id": "5f061786",
   "metadata": {},
   "outputs": [],
   "source": [
    "from sklearn.metrics import classification_report"
   ]
  },
  {
   "cell_type": "code",
   "execution_count": 75,
   "id": "7b2e0288",
   "metadata": {},
   "outputs": [
    {
     "name": "stdout",
     "output_type": "stream",
     "text": [
      "              precision    recall  f1-score   support\n",
      "\n",
      "           0       1.00      0.95      0.98      1022\n",
      "           1       0.00      0.00      0.00         0\n",
      "\n",
      "    accuracy                           0.95      1022\n",
      "   macro avg       0.50      0.48      0.49      1022\n",
      "weighted avg       1.00      0.95      0.98      1022\n",
      "\n"
     ]
    }
   ],
   "source": [
    "print(classification_report(lg_p,y_test))"
   ]
  },
  {
   "cell_type": "markdown",
   "id": "6933542a",
   "metadata": {},
   "source": [
    "# Decision tree"
   ]
  },
  {
   "cell_type": "code",
   "execution_count": 76,
   "id": "0678818d",
   "metadata": {},
   "outputs": [],
   "source": [
    "from sklearn.tree import DecisionTreeClassifier\n",
    "dt=DecisionTreeClassifier()"
   ]
  },
  {
   "cell_type": "code",
   "execution_count": 77,
   "id": "89c01e59",
   "metadata": {},
   "outputs": [
    {
     "data": {
      "text/plain": [
       "DecisionTreeClassifier()"
      ]
     },
     "execution_count": 77,
     "metadata": {},
     "output_type": "execute_result"
    }
   ],
   "source": [
    "dt.fit(x_train,y_train)"
   ]
  },
  {
   "cell_type": "code",
   "execution_count": 78,
   "id": "e06fc3f4",
   "metadata": {},
   "outputs": [],
   "source": [
    "dt_p=dt.predict(x_test)"
   ]
  },
  {
   "cell_type": "code",
   "execution_count": 79,
   "id": "725e6d30",
   "metadata": {},
   "outputs": [
    {
     "data": {
      "text/plain": [
       "0.10869565217391304"
      ]
     },
     "execution_count": 79,
     "metadata": {},
     "output_type": "execute_result"
    }
   ],
   "source": [
    "dt_pr=precision_score(dt_p,y_test)\n",
    "dt_pr"
   ]
  },
  {
   "cell_type": "code",
   "execution_count": 80,
   "id": "1721ee68",
   "metadata": {},
   "outputs": [
    {
     "data": {
      "text/plain": [
       "0.10416666666666667"
      ]
     },
     "execution_count": 80,
     "metadata": {},
     "output_type": "execute_result"
    }
   ],
   "source": [
    "dt_re=recall_score(dt_p,y_test)\n",
    "dt_re"
   ]
  },
  {
   "cell_type": "code",
   "execution_count": 81,
   "id": "6be485dd",
   "metadata": {},
   "outputs": [
    {
     "data": {
      "text/plain": [
       "0.9178082191780822"
      ]
     },
     "execution_count": 81,
     "metadata": {},
     "output_type": "execute_result"
    }
   ],
   "source": [
    "dt_ac=accuracy_score(dt_p,y_test)\n",
    "dt_ac"
   ]
  },
  {
   "cell_type": "code",
   "execution_count": 82,
   "id": "7bffab22",
   "metadata": {},
   "outputs": [
    {
     "data": {
      "text/plain": [
       "0.10638297872340426"
      ]
     },
     "execution_count": 82,
     "metadata": {},
     "output_type": "execute_result"
    }
   ],
   "source": [
    "dt_f1=f1_score(dt_p,y_test)\n",
    "dt_f1"
   ]
  },
  {
   "cell_type": "code",
   "execution_count": 83,
   "id": "83be3aaf",
   "metadata": {},
   "outputs": [
    {
     "data": {
      "text/plain": [
       "array([[933,  41],\n",
       "       [ 43,   5]], dtype=int64)"
      ]
     },
     "execution_count": 83,
     "metadata": {},
     "output_type": "execute_result"
    }
   ],
   "source": [
    "dt_cf=confusion_matrix(dt_p,y_test)\n",
    "dt_cf"
   ]
  },
  {
   "cell_type": "code",
   "execution_count": 84,
   "id": "e49bcc17",
   "metadata": {},
   "outputs": [
    {
     "data": {
      "text/plain": [
       "91.78082191780823"
      ]
     },
     "execution_count": 84,
     "metadata": {},
     "output_type": "execute_result"
    }
   ],
   "source": [
    "dt_acc=dt_cf.diagonal().sum()/dt_cf.sum()*100\n",
    "dt_acc"
   ]
  },
  {
   "cell_type": "code",
   "execution_count": 85,
   "id": "56665bf6",
   "metadata": {},
   "outputs": [
    {
     "name": "stdout",
     "output_type": "stream",
     "text": [
      "              precision    recall  f1-score   support\n",
      "\n",
      "           0       0.96      0.96      0.96       974\n",
      "           1       0.11      0.10      0.11        48\n",
      "\n",
      "    accuracy                           0.92      1022\n",
      "   macro avg       0.53      0.53      0.53      1022\n",
      "weighted avg       0.92      0.92      0.92      1022\n",
      "\n"
     ]
    }
   ],
   "source": [
    "print(classification_report(dt_p,y_test))"
   ]
  },
  {
   "cell_type": "raw",
   "id": "a368f7ec",
   "metadata": {},
   "source": [
    "feature selection"
   ]
  },
  {
   "cell_type": "code",
   "execution_count": 86,
   "id": "891c0066",
   "metadata": {},
   "outputs": [
    {
     "data": {
      "text/plain": [
       "array([0.0209774 , 0.21256285, 0.03605356, 0.01285536, 0.02222545,\n",
       "       0.03975497, 0.03082614, 0.27456736, 0.26929762, 0.08087927])"
      ]
     },
     "execution_count": 86,
     "metadata": {},
     "output_type": "execute_result"
    }
   ],
   "source": [
    "dt.feature_importances_"
   ]
  },
  {
   "cell_type": "code",
   "execution_count": 87,
   "id": "6a418c07",
   "metadata": {},
   "outputs": [
    {
     "data": {
      "text/html": [
       "<div>\n",
       "<style scoped>\n",
       "    .dataframe tbody tr th:only-of-type {\n",
       "        vertical-align: middle;\n",
       "    }\n",
       "\n",
       "    .dataframe tbody tr th {\n",
       "        vertical-align: top;\n",
       "    }\n",
       "\n",
       "    .dataframe thead th {\n",
       "        text-align: right;\n",
       "    }\n",
       "</style>\n",
       "<table border=\"1\" class=\"dataframe\">\n",
       "  <thead>\n",
       "    <tr style=\"text-align: right;\">\n",
       "      <th></th>\n",
       "      <th>Importance</th>\n",
       "      <th>columns</th>\n",
       "    </tr>\n",
       "  </thead>\n",
       "  <tbody>\n",
       "    <tr>\n",
       "      <th>0</th>\n",
       "      <td>0.020977</td>\n",
       "      <td>gender</td>\n",
       "    </tr>\n",
       "    <tr>\n",
       "      <th>1</th>\n",
       "      <td>0.212563</td>\n",
       "      <td>age</td>\n",
       "    </tr>\n",
       "    <tr>\n",
       "      <th>2</th>\n",
       "      <td>0.036054</td>\n",
       "      <td>hypertension</td>\n",
       "    </tr>\n",
       "    <tr>\n",
       "      <th>3</th>\n",
       "      <td>0.012855</td>\n",
       "      <td>heart_disease</td>\n",
       "    </tr>\n",
       "    <tr>\n",
       "      <th>4</th>\n",
       "      <td>0.022225</td>\n",
       "      <td>ever_married</td>\n",
       "    </tr>\n",
       "    <tr>\n",
       "      <th>5</th>\n",
       "      <td>0.039755</td>\n",
       "      <td>work_type</td>\n",
       "    </tr>\n",
       "    <tr>\n",
       "      <th>6</th>\n",
       "      <td>0.030826</td>\n",
       "      <td>Residence_type</td>\n",
       "    </tr>\n",
       "    <tr>\n",
       "      <th>7</th>\n",
       "      <td>0.274567</td>\n",
       "      <td>avg_glucose_level</td>\n",
       "    </tr>\n",
       "    <tr>\n",
       "      <th>8</th>\n",
       "      <td>0.269298</td>\n",
       "      <td>bmi</td>\n",
       "    </tr>\n",
       "    <tr>\n",
       "      <th>9</th>\n",
       "      <td>0.080879</td>\n",
       "      <td>smoking_status</td>\n",
       "    </tr>\n",
       "  </tbody>\n",
       "</table>\n",
       "</div>"
      ],
      "text/plain": [
       "   Importance            columns\n",
       "0    0.020977             gender\n",
       "1    0.212563                age\n",
       "2    0.036054       hypertension\n",
       "3    0.012855      heart_disease\n",
       "4    0.022225       ever_married\n",
       "5    0.039755          work_type\n",
       "6    0.030826     Residence_type\n",
       "7    0.274567  avg_glucose_level\n",
       "8    0.269298                bmi\n",
       "9    0.080879     smoking_status"
      ]
     },
     "execution_count": 87,
     "metadata": {},
     "output_type": "execute_result"
    }
   ],
   "source": [
    "dt_df=pd.DataFrame({\"Importance\":list(dt.feature_importances_),\"columns\":list(train_x)})\n",
    "dt_df"
   ]
  },
  {
   "cell_type": "markdown",
   "id": "63e19eb9",
   "metadata": {},
   "source": [
    "# Random forest"
   ]
  },
  {
   "cell_type": "code",
   "execution_count": 88,
   "id": "95497234",
   "metadata": {},
   "outputs": [],
   "source": [
    "from sklearn.ensemble import RandomForestClassifier\n",
    "rf=RandomForestClassifier()"
   ]
  },
  {
   "cell_type": "code",
   "execution_count": 89,
   "id": "387541bd",
   "metadata": {},
   "outputs": [
    {
     "data": {
      "text/plain": [
       "RandomForestClassifier()"
      ]
     },
     "execution_count": 89,
     "metadata": {},
     "output_type": "execute_result"
    }
   ],
   "source": [
    "rf.fit(x_train,y_train)"
   ]
  },
  {
   "cell_type": "code",
   "execution_count": 90,
   "id": "a87fc492",
   "metadata": {},
   "outputs": [],
   "source": [
    "rf_p=rf.predict(x_test)"
   ]
  },
  {
   "cell_type": "code",
   "execution_count": 91,
   "id": "d48f5faf",
   "metadata": {},
   "outputs": [
    {
     "data": {
      "text/plain": [
       "array([[974,  46],\n",
       "       [  2,   0]], dtype=int64)"
      ]
     },
     "execution_count": 91,
     "metadata": {},
     "output_type": "execute_result"
    }
   ],
   "source": [
    "rf_cf=confusion_matrix(rf_p,y_test)\n",
    "rf_cf"
   ]
  },
  {
   "cell_type": "code",
   "execution_count": 92,
   "id": "6cff2946",
   "metadata": {},
   "outputs": [
    {
     "data": {
      "text/plain": [
       "95.30332681017613"
      ]
     },
     "execution_count": 92,
     "metadata": {},
     "output_type": "execute_result"
    }
   ],
   "source": [
    "rf_acc=rf_cf.diagonal().sum()/rf_cf.sum()*100\n",
    "rf_acc"
   ]
  },
  {
   "cell_type": "code",
   "execution_count": 93,
   "id": "6334c9c5",
   "metadata": {},
   "outputs": [
    {
     "name": "stdout",
     "output_type": "stream",
     "text": [
      "              precision    recall  f1-score   support\n",
      "\n",
      "           0       1.00      0.95      0.98      1020\n",
      "           1       0.00      0.00      0.00         2\n",
      "\n",
      "    accuracy                           0.95      1022\n",
      "   macro avg       0.50      0.48      0.49      1022\n",
      "weighted avg       1.00      0.95      0.97      1022\n",
      "\n"
     ]
    }
   ],
   "source": [
    "print(classification_report(rf_p,y_test))"
   ]
  },
  {
   "cell_type": "code",
   "execution_count": 94,
   "id": "32f13477",
   "metadata": {},
   "outputs": [
    {
     "data": {
      "text/plain": [
       "0.0"
      ]
     },
     "execution_count": 94,
     "metadata": {},
     "output_type": "execute_result"
    }
   ],
   "source": [
    "rf_pr=precision_score(rf_p,y_test)\n",
    "rf_pr"
   ]
  },
  {
   "cell_type": "code",
   "execution_count": 95,
   "id": "ad7e8bdb",
   "metadata": {},
   "outputs": [
    {
     "data": {
      "text/plain": [
       "0.0"
      ]
     },
     "execution_count": 95,
     "metadata": {},
     "output_type": "execute_result"
    }
   ],
   "source": [
    "rf_re=recall_score(rf_p,y_test)\n",
    "rf_re"
   ]
  },
  {
   "cell_type": "code",
   "execution_count": 96,
   "id": "6dff85d4",
   "metadata": {},
   "outputs": [
    {
     "data": {
      "text/plain": [
       "0.9530332681017613"
      ]
     },
     "execution_count": 96,
     "metadata": {},
     "output_type": "execute_result"
    }
   ],
   "source": [
    "rf_ac=accuracy_score(rf_p,y_test)\n",
    "rf_ac"
   ]
  },
  {
   "cell_type": "code",
   "execution_count": 97,
   "id": "93223129",
   "metadata": {},
   "outputs": [
    {
     "data": {
      "text/plain": [
       "0.0"
      ]
     },
     "execution_count": 97,
     "metadata": {},
     "output_type": "execute_result"
    }
   ],
   "source": [
    "rf_f1=f1_score(rf_p,y_test)\n",
    "rf_f1"
   ]
  },
  {
   "cell_type": "markdown",
   "id": "6e47fd10",
   "metadata": {},
   "source": [
    "# KNN"
   ]
  },
  {
   "cell_type": "code",
   "execution_count": 98,
   "id": "c6142470",
   "metadata": {},
   "outputs": [],
   "source": [
    "from sklearn.neighbors import KNeighborsClassifier\n",
    "knn= KNeighborsClassifier(n_neighbors=24)"
   ]
  },
  {
   "cell_type": "code",
   "execution_count": 99,
   "id": "fef487de",
   "metadata": {},
   "outputs": [
    {
     "data": {
      "text/plain": [
       "KNeighborsClassifier(n_neighbors=24)"
      ]
     },
     "execution_count": 99,
     "metadata": {},
     "output_type": "execute_result"
    }
   ],
   "source": [
    "knn.fit(x_train,y_train)"
   ]
  },
  {
   "cell_type": "code",
   "execution_count": 100,
   "id": "a407a17b",
   "metadata": {},
   "outputs": [],
   "source": [
    "k_p=knn.predict(x_test)\n"
   ]
  },
  {
   "cell_type": "code",
   "execution_count": 101,
   "id": "3627ddf3",
   "metadata": {},
   "outputs": [
    {
     "data": {
      "text/plain": [
       "array([[976,  46],\n",
       "       [  0,   0]], dtype=int64)"
      ]
     },
     "execution_count": 101,
     "metadata": {},
     "output_type": "execute_result"
    }
   ],
   "source": [
    "k_cf=confusion_matrix(k_p,y_test)\n",
    "k_cf"
   ]
  },
  {
   "cell_type": "code",
   "execution_count": 102,
   "id": "e34e39b2",
   "metadata": {},
   "outputs": [
    {
     "data": {
      "text/plain": [
       "95.49902152641879"
      ]
     },
     "execution_count": 102,
     "metadata": {},
     "output_type": "execute_result"
    }
   ],
   "source": [
    "k_acc=k_cf.diagonal().sum()/k_cf.sum()*100\n",
    "k_acc"
   ]
  },
  {
   "cell_type": "code",
   "execution_count": 103,
   "id": "68e289eb",
   "metadata": {},
   "outputs": [
    {
     "name": "stdout",
     "output_type": "stream",
     "text": [
      "              precision    recall  f1-score   support\n",
      "\n",
      "           0       1.00      0.95      0.98      1022\n",
      "           1       0.00      0.00      0.00         0\n",
      "\n",
      "    accuracy                           0.95      1022\n",
      "   macro avg       0.50      0.48      0.49      1022\n",
      "weighted avg       1.00      0.95      0.98      1022\n",
      "\n"
     ]
    }
   ],
   "source": [
    "print(classification_report(k_p,y_test))"
   ]
  },
  {
   "cell_type": "code",
   "execution_count": 104,
   "id": "c9135aa0",
   "metadata": {},
   "outputs": [
    {
     "data": {
      "text/plain": [
       "0.0"
      ]
     },
     "execution_count": 104,
     "metadata": {},
     "output_type": "execute_result"
    }
   ],
   "source": [
    "k_pr=precision_score(k_p,y_test)\n",
    "k_pr"
   ]
  },
  {
   "cell_type": "code",
   "execution_count": 105,
   "id": "b19cc38b",
   "metadata": {},
   "outputs": [
    {
     "data": {
      "text/plain": [
       "0.0"
      ]
     },
     "execution_count": 105,
     "metadata": {},
     "output_type": "execute_result"
    }
   ],
   "source": [
    "k_re=recall_score(k_p,y_test)\n",
    "k_re"
   ]
  },
  {
   "cell_type": "code",
   "execution_count": 106,
   "id": "eb182ff1",
   "metadata": {},
   "outputs": [
    {
     "data": {
      "text/plain": [
       "0.9549902152641878"
      ]
     },
     "execution_count": 106,
     "metadata": {},
     "output_type": "execute_result"
    }
   ],
   "source": [
    "k_ac=accuracy_score(k_p,y_test)\n",
    "k_ac"
   ]
  },
  {
   "cell_type": "code",
   "execution_count": 107,
   "id": "63efccac",
   "metadata": {},
   "outputs": [
    {
     "data": {
      "text/plain": [
       "0.0"
      ]
     },
     "execution_count": 107,
     "metadata": {},
     "output_type": "execute_result"
    }
   ],
   "source": [
    "k_f1=f1_score(k_p,y_test)\n",
    "k_f1"
   ]
  },
  {
   "cell_type": "code",
   "execution_count": 108,
   "id": "6e6c7db5",
   "metadata": {},
   "outputs": [],
   "source": [
    "lst=list()"
   ]
  },
  {
   "cell_type": "code",
   "execution_count": 109,
   "id": "f02ccac5",
   "metadata": {},
   "outputs": [],
   "source": [
    "for i in range (1,30):\n",
    "    knn=KNeighborsClassifier(n_neighbors=i)\n",
    "    knn.fit(x_train,y_train)\n",
    "    kn_pred=knn.predict(x_test)\n",
    "    cf_k=confusion_matrix(kn_pred,y_test)\n",
    "    acckn=cf_k.diagonal().sum()/cf_k.sum()*100\n",
    "    lst.append(acckn)"
   ]
  },
  {
   "cell_type": "code",
   "execution_count": 110,
   "id": "3299503e",
   "metadata": {},
   "outputs": [
    {
     "data": {
      "image/png": "[encoded data removed]",
      "text/plain": [
       "<Figure size 640x480 with 1 Axes>"
      ]
     },
     "metadata": {},
     "output_type": "display_data"
    }
   ],
   "source": [
    "import matplotlib.pyplot as plt\n",
    "p=plt.plot(lst)"
   ]
  },
  {
   "cell_type": "markdown",
   "id": "f13b1911",
   "metadata": {},
   "source": [
    "# SVM"
   ]
  },
  {
   "cell_type": "code",
   "execution_count": 111,
   "id": "f189c643",
   "metadata": {},
   "outputs": [],
   "source": [
    "from sklearn.svm import SVC\n",
    "svc=SVC()"
   ]
  },
  {
   "cell_type": "code",
   "execution_count": 112,
   "id": "cee87fac",
   "metadata": {},
   "outputs": [
    {
     "data": {
      "text/plain": [
       "SVC()"
      ]
     },
     "execution_count": 112,
     "metadata": {},
     "output_type": "execute_result"
    }
   ],
   "source": [
    "svc.fit(x_train,y_train)"
   ]
  },
  {
   "cell_type": "code",
   "execution_count": 113,
   "id": "6c7a417e",
   "metadata": {},
   "outputs": [
    {
     "data": {
      "text/plain": [
       "array([0, 0, 0, ..., 0, 0, 0], dtype=int64)"
      ]
     },
     "execution_count": 113,
     "metadata": {},
     "output_type": "execute_result"
    }
   ],
   "source": [
    "s_p=svc.predict(x_test)\n",
    "s_p"
   ]
  },
  {
   "cell_type": "code",
   "execution_count": 114,
   "id": "3acd4335",
   "metadata": {},
   "outputs": [
    {
     "data": {
      "text/plain": [
       "array([[976,  46],\n",
       "       [  0,   0]], dtype=int64)"
      ]
     },
     "execution_count": 114,
     "metadata": {},
     "output_type": "execute_result"
    }
   ],
   "source": [
    "s_cf=confusion_matrix(s_p,y_test)\n",
    "s_cf"
   ]
  },
  {
   "cell_type": "code",
   "execution_count": 115,
   "id": "d6343250",
   "metadata": {},
   "outputs": [
    {
     "data": {
      "text/plain": [
       "95.49902152641879"
      ]
     },
     "execution_count": 115,
     "metadata": {},
     "output_type": "execute_result"
    }
   ],
   "source": [
    "s_acc=s_cf.diagonal().sum()/s_cf.sum()*100\n",
    "s_acc"
   ]
  },
  {
   "cell_type": "code",
   "execution_count": 116,
   "id": "39890241",
   "metadata": {},
   "outputs": [
    {
     "name": "stdout",
     "output_type": "stream",
     "text": [
      "              precision    recall  f1-score   support\n",
      "\n",
      "           0       1.00      0.95      0.98      1022\n",
      "           1       0.00      0.00      0.00         0\n",
      "\n",
      "    accuracy                           0.95      1022\n",
      "   macro avg       0.50      0.48      0.49      1022\n",
      "weighted avg       1.00      0.95      0.98      1022\n",
      "\n"
     ]
    }
   ],
   "source": [
    "print(classification_report(s_p,y_test))"
   ]
  },
  {
   "cell_type": "code",
   "execution_count": 117,
   "id": "c8319d47",
   "metadata": {},
   "outputs": [
    {
     "data": {
      "text/plain": [
       "0.0"
      ]
     },
     "execution_count": 117,
     "metadata": {},
     "output_type": "execute_result"
    }
   ],
   "source": [
    "s_pr=precision_score(s_p,y_test)\n",
    "s_pr"
   ]
  },
  {
   "cell_type": "code",
   "execution_count": 118,
   "id": "706ed0b3",
   "metadata": {},
   "outputs": [
    {
     "data": {
      "text/plain": [
       "0.0"
      ]
     },
     "execution_count": 118,
     "metadata": {},
     "output_type": "execute_result"
    }
   ],
   "source": [
    "s_re=recall_score(s_p,y_test)\n",
    "s_re"
   ]
  },
  {
   "cell_type": "code",
   "execution_count": 119,
   "id": "ffb80055",
   "metadata": {},
   "outputs": [
    {
     "data": {
      "text/plain": [
       "0.9549902152641878"
      ]
     },
     "execution_count": 119,
     "metadata": {},
     "output_type": "execute_result"
    }
   ],
   "source": [
    "s_ac=accuracy_score(s_p,y_test)\n",
    "s_ac"
   ]
  },
  {
   "cell_type": "code",
   "execution_count": 120,
   "id": "bc58ce53",
   "metadata": {},
   "outputs": [
    {
     "data": {
      "text/plain": [
       "0.0"
      ]
     },
     "execution_count": 120,
     "metadata": {},
     "output_type": "execute_result"
    }
   ],
   "source": [
    "s_f1=f1_score(s_p,y_test)\n",
    "s_f1"
   ]
  },
  {
   "cell_type": "markdown",
   "id": "4b454aa4",
   "metadata": {},
   "source": [
    "# naive bayes"
   ]
  },
  {
   "cell_type": "code",
   "execution_count": 121,
   "id": "7f2e3f1d",
   "metadata": {},
   "outputs": [],
   "source": [
    "from sklearn.naive_bayes import MultinomialNB\n",
    "nb=MultinomialNB()"
   ]
  },
  {
   "cell_type": "code",
   "execution_count": 122,
   "id": "e33c5a1c",
   "metadata": {},
   "outputs": [
    {
     "data": {
      "text/plain": [
       "MultinomialNB()"
      ]
     },
     "execution_count": 122,
     "metadata": {},
     "output_type": "execute_result"
    }
   ],
   "source": [
    "nb.fit(x_train,y_train)"
   ]
  },
  {
   "cell_type": "code",
   "execution_count": 123,
   "id": "c1620418",
   "metadata": {},
   "outputs": [],
   "source": [
    "n_p=nb.predict(x_test)"
   ]
  },
  {
   "cell_type": "code",
   "execution_count": 124,
   "id": "958085f9",
   "metadata": {},
   "outputs": [
    {
     "data": {
      "text/plain": [
       "array([[799,  26],\n",
       "       [177,  20]], dtype=int64)"
      ]
     },
     "execution_count": 124,
     "metadata": {},
     "output_type": "execute_result"
    }
   ],
   "source": [
    "nb_cf=confusion_matrix(n_p,y_test)\n",
    "nb_cf"
   ]
  },
  {
   "cell_type": "code",
   "execution_count": 125,
   "id": "871b3e9b",
   "metadata": {},
   "outputs": [
    {
     "data": {
      "text/plain": [
       "80.13698630136986"
      ]
     },
     "execution_count": 125,
     "metadata": {},
     "output_type": "execute_result"
    }
   ],
   "source": [
    "n_acc=nb_cf.diagonal().sum()/nb_cf.sum()*100\n",
    "n_acc"
   ]
  },
  {
   "cell_type": "code",
   "execution_count": 126,
   "id": "d630cf32",
   "metadata": {},
   "outputs": [
    {
     "name": "stdout",
     "output_type": "stream",
     "text": [
      "              precision    recall  f1-score   support\n",
      "\n",
      "           0       0.82      0.97      0.89       825\n",
      "           1       0.43      0.10      0.16       197\n",
      "\n",
      "    accuracy                           0.80      1022\n",
      "   macro avg       0.63      0.54      0.53      1022\n",
      "weighted avg       0.74      0.80      0.75      1022\n",
      "\n"
     ]
    }
   ],
   "source": [
    "print(classification_report(n_p,y_test))"
   ]
  },
  {
   "cell_type": "code",
   "execution_count": 127,
   "id": "a65af9bb",
   "metadata": {},
   "outputs": [
    {
     "data": {
      "text/plain": [
       "0.43478260869565216"
      ]
     },
     "execution_count": 127,
     "metadata": {},
     "output_type": "execute_result"
    }
   ],
   "source": [
    "nb_pr=precision_score(n_p,y_test)\n",
    "nb_pr"
   ]
  },
  {
   "cell_type": "code",
   "execution_count": 128,
   "id": "a69496b3",
   "metadata": {},
   "outputs": [
    {
     "data": {
      "text/plain": [
       "0.10152284263959391"
      ]
     },
     "execution_count": 128,
     "metadata": {},
     "output_type": "execute_result"
    }
   ],
   "source": [
    "nb_re=recall_score(n_p,y_test)\n",
    "nb_re"
   ]
  },
  {
   "cell_type": "code",
   "execution_count": 129,
   "id": "ed8bc4e1",
   "metadata": {},
   "outputs": [
    {
     "data": {
      "text/plain": [
       "0.8013698630136986"
      ]
     },
     "execution_count": 129,
     "metadata": {},
     "output_type": "execute_result"
    }
   ],
   "source": [
    "nb_ac=accuracy_score(n_p,y_test)\n",
    "nb_ac"
   ]
  },
  {
   "cell_type": "code",
   "execution_count": 130,
   "id": "ecac88e0",
   "metadata": {},
   "outputs": [
    {
     "data": {
      "text/plain": [
       "0.1646090534979424"
      ]
     },
     "execution_count": 130,
     "metadata": {},
     "output_type": "execute_result"
    }
   ],
   "source": [
    "nb_f1=f1_score(n_p,y_test)\n",
    "nb_f1"
   ]
  },
  {
   "cell_type": "markdown",
   "id": "e581e233",
   "metadata": {},
   "source": [
    "# XGBOOST"
   ]
  },
  {
   "cell_type": "code",
   "execution_count": 131,
   "id": "92482cad",
   "metadata": {},
   "outputs": [],
   "source": [
    "from xgboost import XGBClassifier\n",
    "xgb=XGBClassifier()"
   ]
  },
  {
   "cell_type": "code",
   "execution_count": 132,
   "id": "84d0eb34",
   "metadata": {},
   "outputs": [
    {
     "data": {
      "text/plain": [
       "XGBClassifier(base_score=None, booster=None, callbacks=None,\n",
       "              colsample_bylevel=None, colsample_bynode=None,\n",
       "              colsample_bytree=None, early_stopping_rounds=None,\n",
       "              enable_categorical=False, eval_metric=None, feature_types=None,\n",
       "              gamma=None, gpu_id=None, grow_policy=None, importance_type=None,\n",
       "              interaction_constraints=None, learning_rate=None, max_bin=None,\n",
       "              max_cat_threshold=None, max_cat_to_onehot=None,\n",
       "              max_delta_step=None, max_depth=None, max_leaves=None,\n",
       "              min_child_weight=None, missing=nan, monotone_constraints=None,\n",
       "              n_estimators=100, n_jobs=None, num_parallel_tree=None,\n",
       "              predictor=None, random_state=None, ...)"
      ]
     },
     "execution_count": 132,
     "metadata": {},
     "output_type": "execute_result"
    }
   ],
   "source": [
    "xgb.fit(x_train,y_train)"
   ]
  },
  {
   "cell_type": "code",
   "execution_count": 133,
   "id": "df6a7247",
   "metadata": {},
   "outputs": [],
   "source": [
    "xgb_p=xgb.predict(x_test)"
   ]
  },
  {
   "cell_type": "code",
   "execution_count": 134,
   "id": "43b03e14",
   "metadata": {},
   "outputs": [
    {
     "data": {
      "text/plain": [
       "array([[967,  42],\n",
       "       [  9,   4]], dtype=int64)"
      ]
     },
     "execution_count": 134,
     "metadata": {},
     "output_type": "execute_result"
    }
   ],
   "source": [
    "xgb_cf=confusion_matrix(xgb_p,y_test)\n",
    "xgb_cf"
   ]
  },
  {
   "cell_type": "code",
   "execution_count": 135,
   "id": "fcf92142",
   "metadata": {},
   "outputs": [],
   "source": [
    "xgb_acc=xgb_cf.diagonal().sum()/xgb_cf.sum()*100"
   ]
  },
  {
   "cell_type": "code",
   "execution_count": 136,
   "id": "9bc86e47",
   "metadata": {},
   "outputs": [
    {
     "name": "stdout",
     "output_type": "stream",
     "text": [
      "              precision    recall  f1-score   support\n",
      "\n",
      "           0       0.99      0.96      0.97      1009\n",
      "           1       0.09      0.31      0.14        13\n",
      "\n",
      "    accuracy                           0.95      1022\n",
      "   macro avg       0.54      0.63      0.55      1022\n",
      "weighted avg       0.98      0.95      0.96      1022\n",
      "\n"
     ]
    }
   ],
   "source": [
    "print(classification_report(xgb_p,y_test))"
   ]
  },
  {
   "cell_type": "code",
   "execution_count": 137,
   "id": "d529ac9a",
   "metadata": {},
   "outputs": [
    {
     "data": {
      "text/plain": [
       "0.08695652173913043"
      ]
     },
     "execution_count": 137,
     "metadata": {},
     "output_type": "execute_result"
    }
   ],
   "source": [
    "xgb_pr=precision_score(xgb_p,y_test)\n",
    "xgb_pr"
   ]
  },
  {
   "cell_type": "code",
   "execution_count": 138,
   "id": "d8bba8c4",
   "metadata": {},
   "outputs": [
    {
     "data": {
      "text/plain": [
       "0.3076923076923077"
      ]
     },
     "execution_count": 138,
     "metadata": {},
     "output_type": "execute_result"
    }
   ],
   "source": [
    "xgb_re=recall_score(xgb_p,y_test)\n",
    "xgb_re"
   ]
  },
  {
   "cell_type": "code",
   "execution_count": 139,
   "id": "d7c44a3a",
   "metadata": {},
   "outputs": [
    {
     "data": {
      "text/plain": [
       "0.9500978473581213"
      ]
     },
     "execution_count": 139,
     "metadata": {},
     "output_type": "execute_result"
    }
   ],
   "source": [
    "xgb_ac=accuracy_score(xgb_p,y_test)\n",
    "xgb_ac"
   ]
  },
  {
   "cell_type": "code",
   "execution_count": 140,
   "id": "7e69b2b6",
   "metadata": {},
   "outputs": [
    {
     "data": {
      "text/plain": [
       "0.13559322033898305"
      ]
     },
     "execution_count": 140,
     "metadata": {},
     "output_type": "execute_result"
    }
   ],
   "source": [
    "xgb_f1=f1_score(xgb_p,y_test)\n",
    "xgb_f1"
   ]
  },
  {
   "cell_type": "markdown",
   "id": "b63c3522",
   "metadata": {},
   "source": [
    "# ADABoost"
   ]
  },
  {
   "cell_type": "code",
   "execution_count": 141,
   "id": "6acdd4ec",
   "metadata": {},
   "outputs": [],
   "source": [
    "from sklearn.ensemble import AdaBoostClassifier\n",
    "from sklearn.tree import DecisionTreeClassifier"
   ]
  },
  {
   "cell_type": "code",
   "execution_count": 142,
   "id": "4a467425",
   "metadata": {},
   "outputs": [],
   "source": [
    "adbo=AdaBoostClassifier(DecisionTreeClassifier(),n_estimators=5)"
   ]
  },
  {
   "cell_type": "code",
   "execution_count": 143,
   "id": "fa2e5fcc",
   "metadata": {},
   "outputs": [
    {
     "data": {
      "text/plain": [
       "AdaBoostClassifier(base_estimator=DecisionTreeClassifier(), n_estimators=5)"
      ]
     },
     "execution_count": 143,
     "metadata": {},
     "output_type": "execute_result"
    }
   ],
   "source": [
    "adbo.fit(x_train,y_train)"
   ]
  },
  {
   "cell_type": "code",
   "execution_count": 144,
   "id": "87107571",
   "metadata": {},
   "outputs": [
    {
     "data": {
      "text/plain": [
       "array([1, 0, 0, ..., 0, 0, 0], dtype=int64)"
      ]
     },
     "execution_count": 144,
     "metadata": {},
     "output_type": "execute_result"
    }
   ],
   "source": [
    "ad_p=adbo.predict(x_test)\n",
    "ad_p"
   ]
  },
  {
   "cell_type": "code",
   "execution_count": 145,
   "id": "1db2feba",
   "metadata": {},
   "outputs": [
    {
     "data": {
      "text/plain": [
       "array([[930,  40],\n",
       "       [ 46,   6]], dtype=int64)"
      ]
     },
     "execution_count": 145,
     "metadata": {},
     "output_type": "execute_result"
    }
   ],
   "source": [
    "ad_cf=confusion_matrix(ad_p,y_test)\n",
    "ad_cf"
   ]
  },
  {
   "cell_type": "code",
   "execution_count": 146,
   "id": "0f8f0cbf",
   "metadata": {},
   "outputs": [
    {
     "data": {
      "text/plain": [
       "91.58512720156556"
      ]
     },
     "execution_count": 146,
     "metadata": {},
     "output_type": "execute_result"
    }
   ],
   "source": [
    "ad_acc=ad_cf.diagonal().sum()/ad_cf.sum()*100\n",
    "ad_acc"
   ]
  },
  {
   "cell_type": "code",
   "execution_count": 147,
   "id": "118ee5ec",
   "metadata": {},
   "outputs": [
    {
     "name": "stdout",
     "output_type": "stream",
     "text": [
      "              precision    recall  f1-score   support\n",
      "\n",
      "           0       0.95      0.96      0.96       970\n",
      "           1       0.13      0.12      0.12        52\n",
      "\n",
      "    accuracy                           0.92      1022\n",
      "   macro avg       0.54      0.54      0.54      1022\n",
      "weighted avg       0.91      0.92      0.91      1022\n",
      "\n"
     ]
    }
   ],
   "source": [
    "print(classification_report(ad_p,y_test))"
   ]
  },
  {
   "cell_type": "code",
   "execution_count": 148,
   "id": "2b798f42",
   "metadata": {},
   "outputs": [
    {
     "data": {
      "text/plain": [
       "0.13043478260869565"
      ]
     },
     "execution_count": 148,
     "metadata": {},
     "output_type": "execute_result"
    }
   ],
   "source": [
    "ad_pr=precision_score(ad_p,y_test)\n",
    "ad_pr"
   ]
  },
  {
   "cell_type": "code",
   "execution_count": 149,
   "id": "2d58d98d",
   "metadata": {},
   "outputs": [
    {
     "data": {
      "text/plain": [
       "0.11538461538461539"
      ]
     },
     "execution_count": 149,
     "metadata": {},
     "output_type": "execute_result"
    }
   ],
   "source": [
    "ad_re=recall_score(ad_p,y_test)\n",
    "ad_re"
   ]
  },
  {
   "cell_type": "code",
   "execution_count": 150,
   "id": "c2b31d52",
   "metadata": {},
   "outputs": [
    {
     "data": {
      "text/plain": [
       "0.9158512720156555"
      ]
     },
     "execution_count": 150,
     "metadata": {},
     "output_type": "execute_result"
    }
   ],
   "source": [
    "ad_ac=accuracy_score(ad_p,y_test)\n",
    "ad_ac"
   ]
  },
  {
   "cell_type": "code",
   "execution_count": 151,
   "id": "2621f6e6",
   "metadata": {},
   "outputs": [
    {
     "data": {
      "text/plain": [
       "0.12244897959183673"
      ]
     },
     "execution_count": 151,
     "metadata": {},
     "output_type": "execute_result"
    }
   ],
   "source": [
    "ad_f1=f1_score(ad_p,y_test)\n",
    "ad_f1"
   ]
  },
  {
   "cell_type": "code",
   "execution_count": 152,
   "id": "10d01c1c",
   "metadata": {},
   "outputs": [],
   "source": [
    "list1=[\"LOGISTIC REGRESSION\",\"DECISION TREE\",\"RANDOM FOREST\",\"ADA BOOST\",\"XGBOOST\",\"KNN\",\"SVM\",\"NAIVEY BAYES\"]\n",
    "list2=[lg_ac,dt_ac,rf_ac,ad_ac,xgb_ac,k_ac,s_ac,nb_ac]\n",
    "list3=[lg_pr,dt_pr,rf_pr,ad_pr,xgb_pr,k_pr,s_pr,nb_pr]\n",
    "list4=[lg_re,dt_re,rf_re,ad_re,xgb_re,k_re,s_re,nb_re]\n",
    "list5=[lg_f1,dt_f1,rf_f1,ad_f1,xgb_f1,k_f1,s_f1,nb_f1]\n",
    "\n"
   ]
  },
  {
   "cell_type": "code",
   "execution_count": 153,
   "id": "20d6ce13",
   "metadata": {},
   "outputs": [
    {
     "data": {
      "text/html": [
       "<div>\n",
       "<style scoped>\n",
       "    .dataframe tbody tr th:only-of-type {\n",
       "        vertical-align: middle;\n",
       "    }\n",
       "\n",
       "    .dataframe tbody tr th {\n",
       "        vertical-align: top;\n",
       "    }\n",
       "\n",
       "    .dataframe thead th {\n",
       "        text-align: right;\n",
       "    }\n",
       "</style>\n",
       "<table border=\"1\" class=\"dataframe\">\n",
       "  <thead>\n",
       "    <tr style=\"text-align: right;\">\n",
       "      <th></th>\n",
       "      <th>Model Name</th>\n",
       "      <th>Accuracy</th>\n",
       "      <th>Precision</th>\n",
       "      <th>Recall</th>\n",
       "      <th>F1_score</th>\n",
       "    </tr>\n",
       "  </thead>\n",
       "  <tbody>\n",
       "    <tr>\n",
       "      <th>0</th>\n",
       "      <td>LOGISTIC REGRESSION</td>\n",
       "      <td>0.954990</td>\n",
       "      <td>0.000000</td>\n",
       "      <td>0.000000</td>\n",
       "      <td>0.000000</td>\n",
       "    </tr>\n",
       "    <tr>\n",
       "      <th>1</th>\n",
       "      <td>DECISION TREE</td>\n",
       "      <td>0.917808</td>\n",
       "      <td>0.108696</td>\n",
       "      <td>0.104167</td>\n",
       "      <td>0.106383</td>\n",
       "    </tr>\n",
       "    <tr>\n",
       "      <th>2</th>\n",
       "      <td>RANDOM FOREST</td>\n",
       "      <td>0.953033</td>\n",
       "      <td>0.000000</td>\n",
       "      <td>0.000000</td>\n",
       "      <td>0.000000</td>\n",
       "    </tr>\n",
       "    <tr>\n",
       "      <th>3</th>\n",
       "      <td>ADA BOOST</td>\n",
       "      <td>0.915851</td>\n",
       "      <td>0.130435</td>\n",
       "      <td>0.115385</td>\n",
       "      <td>0.122449</td>\n",
       "    </tr>\n",
       "    <tr>\n",
       "      <th>4</th>\n",
       "      <td>XGBOOST</td>\n",
       "      <td>0.950098</td>\n",
       "      <td>0.086957</td>\n",
       "      <td>0.307692</td>\n",
       "      <td>0.135593</td>\n",
       "    </tr>\n",
       "    <tr>\n",
       "      <th>5</th>\n",
       "      <td>KNN</td>\n",
       "      <td>0.954990</td>\n",
       "      <td>0.000000</td>\n",
       "      <td>0.000000</td>\n",
       "      <td>0.000000</td>\n",
       "    </tr>\n",
       "    <tr>\n",
       "      <th>6</th>\n",
       "      <td>SVM</td>\n",
       "      <td>0.954990</td>\n",
       "      <td>0.000000</td>\n",
       "      <td>0.000000</td>\n",
       "      <td>0.000000</td>\n",
       "    </tr>\n",
       "    <tr>\n",
       "      <th>7</th>\n",
       "      <td>NAIVEY BAYES</td>\n",
       "      <td>0.801370</td>\n",
       "      <td>0.434783</td>\n",
       "      <td>0.101523</td>\n",
       "      <td>0.164609</td>\n",
       "    </tr>\n",
       "  </tbody>\n",
       "</table>\n",
       "</div>"
      ],
      "text/plain": [
       "            Model Name  Accuracy  Precision    Recall  F1_score\n",
       "0  LOGISTIC REGRESSION  0.954990   0.000000  0.000000  0.000000\n",
       "1        DECISION TREE  0.917808   0.108696  0.104167  0.106383\n",
       "2        RANDOM FOREST  0.953033   0.000000  0.000000  0.000000\n",
       "3            ADA BOOST  0.915851   0.130435  0.115385  0.122449\n",
       "4              XGBOOST  0.950098   0.086957  0.307692  0.135593\n",
       "5                  KNN  0.954990   0.000000  0.000000  0.000000\n",
       "6                  SVM  0.954990   0.000000  0.000000  0.000000\n",
       "7         NAIVEY BAYES  0.801370   0.434783  0.101523  0.164609"
      ]
     },
     "execution_count": 153,
     "metadata": {},
     "output_type": "execute_result"
    }
   ],
   "source": [
    "df1=pd.DataFrame({\"Model Name\":list1,\"Accuracy\":list2,\"Precision\":list3,\"Recall\":list4,\"F1_score\":list5})\n",
    "df1"
   ]
  },
  {
   "cell_type": "markdown",
   "id": "54e864ec",
   "metadata": {},
   "source": [
    "# Classimbalance"
   ]
  },
  {
   "cell_type": "markdown",
   "id": "139f371f",
   "metadata": {},
   "source": [
    "# Random over sampling"
   ]
  },
  {
   "cell_type": "code",
   "execution_count": 154,
   "id": "bbb6353e",
   "metadata": {},
   "outputs": [
    {
     "data": {
      "text/plain": [
       "(4861, 249)"
      ]
     },
     "execution_count": 154,
     "metadata": {},
     "output_type": "execute_result"
    }
   ],
   "source": [
    "c_0,c_1=data[\"stroke\"].value_counts()\n",
    "c_0,c_1"
   ]
  },
  {
   "cell_type": "code",
   "execution_count": 155,
   "id": "a926b1de",
   "metadata": {},
   "outputs": [],
   "source": [
    "train_0=data[data[\"stroke\"]==0]\n",
    "train_1=data[data[\"stroke\"]==1]"
   ]
  },
  {
   "cell_type": "code",
   "execution_count": 156,
   "id": "0ef9a8ac",
   "metadata": {},
   "outputs": [
    {
     "data": {
      "text/plain": [
       "((4861, 11), (249, 11))"
      ]
     },
     "execution_count": 156,
     "metadata": {},
     "output_type": "execute_result"
    }
   ],
   "source": [
    "train_0.shape,train_1.shape"
   ]
  },
  {
   "cell_type": "code",
   "execution_count": 157,
   "id": "fc0092dd",
   "metadata": {},
   "outputs": [],
   "source": [
    "class_1over=train_1.sample(c_0,replace=True)"
   ]
  },
  {
   "cell_type": "code",
   "execution_count": 158,
   "id": "cc5c717d",
   "metadata": {},
   "outputs": [],
   "source": [
    "class1_0=pd.concat([class_1over,train_0],axis=0)"
   ]
  },
  {
   "cell_type": "code",
   "execution_count": 159,
   "id": "b147041c",
   "metadata": {},
   "outputs": [
    {
     "data": {
      "text/html": [
       "<div>\n",
       "<style scoped>\n",
       "    .dataframe tbody tr th:only-of-type {\n",
       "        vertical-align: middle;\n",
       "    }\n",
       "\n",
       "    .dataframe tbody tr th {\n",
       "        vertical-align: top;\n",
       "    }\n",
       "\n",
       "    .dataframe thead th {\n",
       "        text-align: right;\n",
       "    }\n",
       "</style>\n",
       "<table border=\"1\" class=\"dataframe\">\n",
       "  <thead>\n",
       "    <tr style=\"text-align: right;\">\n",
       "      <th></th>\n",
       "      <th>gender</th>\n",
       "      <th>age</th>\n",
       "      <th>hypertension</th>\n",
       "      <th>heart_disease</th>\n",
       "      <th>ever_married</th>\n",
       "      <th>work_type</th>\n",
       "      <th>Residence_type</th>\n",
       "      <th>avg_glucose_level</th>\n",
       "      <th>bmi</th>\n",
       "      <th>smoking_status</th>\n",
       "      <th>stroke</th>\n",
       "    </tr>\n",
       "  </thead>\n",
       "  <tbody>\n",
       "    <tr>\n",
       "      <th>133</th>\n",
       "      <td>0</td>\n",
       "      <td>38.0</td>\n",
       "      <td>0</td>\n",
       "      <td>0</td>\n",
       "      <td>1</td>\n",
       "      <td>2</td>\n",
       "      <td>0</td>\n",
       "      <td>101.45</td>\n",
       "      <td>28.893237</td>\n",
       "      <td>1</td>\n",
       "      <td>1</td>\n",
       "    </tr>\n",
       "    <tr>\n",
       "      <th>52</th>\n",
       "      <td>0</td>\n",
       "      <td>79.0</td>\n",
       "      <td>0</td>\n",
       "      <td>1</td>\n",
       "      <td>1</td>\n",
       "      <td>2</td>\n",
       "      <td>0</td>\n",
       "      <td>127.29</td>\n",
       "      <td>27.700000</td>\n",
       "      <td>2</td>\n",
       "      <td>1</td>\n",
       "    </tr>\n",
       "    <tr>\n",
       "      <th>165</th>\n",
       "      <td>1</td>\n",
       "      <td>78.0</td>\n",
       "      <td>0</td>\n",
       "      <td>0</td>\n",
       "      <td>1</td>\n",
       "      <td>3</td>\n",
       "      <td>1</td>\n",
       "      <td>133.19</td>\n",
       "      <td>23.600000</td>\n",
       "      <td>1</td>\n",
       "      <td>1</td>\n",
       "    </tr>\n",
       "    <tr>\n",
       "      <th>164</th>\n",
       "      <td>0</td>\n",
       "      <td>70.0</td>\n",
       "      <td>1</td>\n",
       "      <td>0</td>\n",
       "      <td>1</td>\n",
       "      <td>3</td>\n",
       "      <td>1</td>\n",
       "      <td>89.13</td>\n",
       "      <td>34.200000</td>\n",
       "      <td>1</td>\n",
       "      <td>1</td>\n",
       "    </tr>\n",
       "    <tr>\n",
       "      <th>91</th>\n",
       "      <td>1</td>\n",
       "      <td>81.0</td>\n",
       "      <td>0</td>\n",
       "      <td>0</td>\n",
       "      <td>1</td>\n",
       "      <td>2</td>\n",
       "      <td>1</td>\n",
       "      <td>72.81</td>\n",
       "      <td>26.300000</td>\n",
       "      <td>2</td>\n",
       "      <td>1</td>\n",
       "    </tr>\n",
       "  </tbody>\n",
       "</table>\n",
       "</div>"
      ],
      "text/plain": [
       "     gender   age  hypertension  heart_disease  ever_married  work_type  \\\n",
       "133       0  38.0             0              0             1          2   \n",
       "52        0  79.0             0              1             1          2   \n",
       "165       1  78.0             0              0             1          3   \n",
       "164       0  70.0             1              0             1          3   \n",
       "91        1  81.0             0              0             1          2   \n",
       "\n",
       "     Residence_type  avg_glucose_level        bmi  smoking_status  stroke  \n",
       "133               0             101.45  28.893237               1       1  \n",
       "52                0             127.29  27.700000               2       1  \n",
       "165               1             133.19  23.600000               1       1  \n",
       "164               1              89.13  34.200000               1       1  \n",
       "91                1              72.81  26.300000               2       1  "
      ]
     },
     "execution_count": 159,
     "metadata": {},
     "output_type": "execute_result"
    }
   ],
   "source": [
    "class1_0.head(5)\n",
    "#class1_0.shape"
   ]
  },
  {
   "cell_type": "code",
   "execution_count": 160,
   "id": "e181737f",
   "metadata": {},
   "outputs": [
    {
     "data": {
      "text/plain": [
       "1    4861\n",
       "0    4861\n",
       "Name: stroke, dtype: int64"
      ]
     },
     "execution_count": 160,
     "metadata": {},
     "output_type": "execute_result"
    }
   ],
   "source": [
    "class1_0.stroke.value_counts()"
   ]
  },
  {
   "cell_type": "code",
   "execution_count": 161,
   "id": "1a9b1e01",
   "metadata": {},
   "outputs": [],
   "source": [
    "o_x=class1_0.iloc[:,0:-1]\n",
    "o_y=class1_0.iloc[:,-1]"
   ]
  },
  {
   "cell_type": "code",
   "execution_count": 162,
   "id": "5fb28228",
   "metadata": {},
   "outputs": [
    {
     "data": {
      "text/html": [
       "<div>\n",
       "<style scoped>\n",
       "    .dataframe tbody tr th:only-of-type {\n",
       "        vertical-align: middle;\n",
       "    }\n",
       "\n",
       "    .dataframe tbody tr th {\n",
       "        vertical-align: top;\n",
       "    }\n",
       "\n",
       "    .dataframe thead th {\n",
       "        text-align: right;\n",
       "    }\n",
       "</style>\n",
       "<table border=\"1\" class=\"dataframe\">\n",
       "  <thead>\n",
       "    <tr style=\"text-align: right;\">\n",
       "      <th></th>\n",
       "      <th>gender</th>\n",
       "      <th>age</th>\n",
       "      <th>hypertension</th>\n",
       "      <th>heart_disease</th>\n",
       "      <th>ever_married</th>\n",
       "      <th>work_type</th>\n",
       "      <th>Residence_type</th>\n",
       "      <th>avg_glucose_level</th>\n",
       "      <th>bmi</th>\n",
       "      <th>smoking_status</th>\n",
       "    </tr>\n",
       "  </thead>\n",
       "  <tbody>\n",
       "    <tr>\n",
       "      <th>133</th>\n",
       "      <td>0</td>\n",
       "      <td>38.0</td>\n",
       "      <td>0</td>\n",
       "      <td>0</td>\n",
       "      <td>1</td>\n",
       "      <td>2</td>\n",
       "      <td>0</td>\n",
       "      <td>101.45</td>\n",
       "      <td>28.893237</td>\n",
       "      <td>1</td>\n",
       "    </tr>\n",
       "    <tr>\n",
       "      <th>52</th>\n",
       "      <td>0</td>\n",
       "      <td>79.0</td>\n",
       "      <td>0</td>\n",
       "      <td>1</td>\n",
       "      <td>1</td>\n",
       "      <td>2</td>\n",
       "      <td>0</td>\n",
       "      <td>127.29</td>\n",
       "      <td>27.700000</td>\n",
       "      <td>2</td>\n",
       "    </tr>\n",
       "    <tr>\n",
       "      <th>165</th>\n",
       "      <td>1</td>\n",
       "      <td>78.0</td>\n",
       "      <td>0</td>\n",
       "      <td>0</td>\n",
       "      <td>1</td>\n",
       "      <td>3</td>\n",
       "      <td>1</td>\n",
       "      <td>133.19</td>\n",
       "      <td>23.600000</td>\n",
       "      <td>1</td>\n",
       "    </tr>\n",
       "    <tr>\n",
       "      <th>164</th>\n",
       "      <td>0</td>\n",
       "      <td>70.0</td>\n",
       "      <td>1</td>\n",
       "      <td>0</td>\n",
       "      <td>1</td>\n",
       "      <td>3</td>\n",
       "      <td>1</td>\n",
       "      <td>89.13</td>\n",
       "      <td>34.200000</td>\n",
       "      <td>1</td>\n",
       "    </tr>\n",
       "    <tr>\n",
       "      <th>91</th>\n",
       "      <td>1</td>\n",
       "      <td>81.0</td>\n",
       "      <td>0</td>\n",
       "      <td>0</td>\n",
       "      <td>1</td>\n",
       "      <td>2</td>\n",
       "      <td>1</td>\n",
       "      <td>72.81</td>\n",
       "      <td>26.300000</td>\n",
       "      <td>2</td>\n",
       "    </tr>\n",
       "  </tbody>\n",
       "</table>\n",
       "</div>"
      ],
      "text/plain": [
       "     gender   age  hypertension  heart_disease  ever_married  work_type  \\\n",
       "133       0  38.0             0              0             1          2   \n",
       "52        0  79.0             0              1             1          2   \n",
       "165       1  78.0             0              0             1          3   \n",
       "164       0  70.0             1              0             1          3   \n",
       "91        1  81.0             0              0             1          2   \n",
       "\n",
       "     Residence_type  avg_glucose_level        bmi  smoking_status  \n",
       "133               0             101.45  28.893237               1  \n",
       "52                0             127.29  27.700000               2  \n",
       "165               1             133.19  23.600000               1  \n",
       "164               1              89.13  34.200000               1  \n",
       "91                1              72.81  26.300000               2  "
      ]
     },
     "execution_count": 162,
     "metadata": {},
     "output_type": "execute_result"
    }
   ],
   "source": [
    "o_x.head(5)"
   ]
  },
  {
   "cell_type": "code",
   "execution_count": 163,
   "id": "0db1c9e2",
   "metadata": {},
   "outputs": [
    {
     "data": {
      "text/plain": [
       "133    1\n",
       "52     1\n",
       "165    1\n",
       "164    1\n",
       "91     1\n",
       "Name: stroke, dtype: int64"
      ]
     },
     "execution_count": 163,
     "metadata": {},
     "output_type": "execute_result"
    }
   ],
   "source": [
    "o_y.head(5)"
   ]
  },
  {
   "cell_type": "code",
   "execution_count": 164,
   "id": "3989e0d7",
   "metadata": {},
   "outputs": [
    {
     "data": {
      "text/plain": [
       "((7777, 10), (1945, 10), (7777,), (1945,))"
      ]
     },
     "execution_count": 164,
     "metadata": {},
     "output_type": "execute_result"
    }
   ],
   "source": [
    "o_x_train,o_x_test,o_y_train,o_y_test=train_test_split(o_x,o_y,test_size=0.2,random_state=100)\n",
    "o_x_train.shape,o_x_test.shape,o_y_train.shape,o_y_test.shape"
   ]
  },
  {
   "cell_type": "markdown",
   "id": "f9edec25",
   "metadata": {},
   "source": [
    "# Logistic Regression with Random Oversampling"
   ]
  },
  {
   "cell_type": "code",
   "execution_count": 165,
   "id": "cdaeabe6",
   "metadata": {},
   "outputs": [
    {
     "data": {
      "text/plain": [
       "LogisticRegression()"
      ]
     },
     "execution_count": 165,
     "metadata": {},
     "output_type": "execute_result"
    }
   ],
   "source": [
    "lg.fit(o_x_train,o_y_train)"
   ]
  },
  {
   "cell_type": "code",
   "execution_count": 166,
   "id": "2ca7b96f",
   "metadata": {},
   "outputs": [],
   "source": [
    "lg_p1=lg.predict(o_x_test)"
   ]
  },
  {
   "cell_type": "code",
   "execution_count": 167,
   "id": "cc95c914",
   "metadata": {},
   "outputs": [
    {
     "data": {
      "text/plain": [
       "array([[701, 203],\n",
       "       [263, 778]], dtype=int64)"
      ]
     },
     "execution_count": 167,
     "metadata": {},
     "output_type": "execute_result"
    }
   ],
   "source": [
    "lg_cf=confusion_matrix(lg_p1,o_y_test)\n",
    "lg_cf"
   ]
  },
  {
   "cell_type": "code",
   "execution_count": 168,
   "id": "cde67c9a",
   "metadata": {},
   "outputs": [
    {
     "data": {
      "text/plain": [
       "76.04113110539846"
      ]
     },
     "execution_count": 168,
     "metadata": {},
     "output_type": "execute_result"
    }
   ],
   "source": [
    "lg_acc1=lg_cf.diagonal().sum()/lg_cf.sum()*100\n",
    "lg_acc1"
   ]
  },
  {
   "cell_type": "code",
   "execution_count": 169,
   "id": "7de7ff00",
   "metadata": {},
   "outputs": [
    {
     "name": "stdout",
     "output_type": "stream",
     "text": [
      "              precision    recall  f1-score   support\n",
      "\n",
      "           0       0.73      0.78      0.75       904\n",
      "           1       0.79      0.75      0.77      1041\n",
      "\n",
      "    accuracy                           0.76      1945\n",
      "   macro avg       0.76      0.76      0.76      1945\n",
      "weighted avg       0.76      0.76      0.76      1945\n",
      "\n"
     ]
    }
   ],
   "source": [
    "print(classification_report(lg_p1,o_y_test))"
   ]
  },
  {
   "cell_type": "code",
   "execution_count": 170,
   "id": "671845ba",
   "metadata": {},
   "outputs": [
    {
     "data": {
      "text/plain": [
       "0.7604113110539846"
      ]
     },
     "execution_count": 170,
     "metadata": {},
     "output_type": "execute_result"
    }
   ],
   "source": [
    "lg_ac1=accuracy_score(lg_p1,o_y_test)\n",
    "lg_ac1"
   ]
  },
  {
   "cell_type": "code",
   "execution_count": 171,
   "id": "21696c40",
   "metadata": {},
   "outputs": [],
   "source": [
    "lg_precision=precision_score(lg_p1,o_y_test)"
   ]
  },
  {
   "cell_type": "code",
   "execution_count": 172,
   "id": "f274abfb",
   "metadata": {},
   "outputs": [],
   "source": [
    "lg_recall=recall_score(lg_p1,o_y_test)"
   ]
  },
  {
   "cell_type": "code",
   "execution_count": 173,
   "id": "43c6323e",
   "metadata": {},
   "outputs": [],
   "source": [
    "lg_f1_score=f1_score(lg_p1,o_y_test)"
   ]
  },
  {
   "cell_type": "markdown",
   "id": "a20b9191",
   "metadata": {},
   "source": [
    "# Decision Tree with Random Oversampling"
   ]
  },
  {
   "cell_type": "code",
   "execution_count": 174,
   "id": "61fed829",
   "metadata": {},
   "outputs": [
    {
     "data": {
      "text/plain": [
       "DecisionTreeClassifier()"
      ]
     },
     "execution_count": 174,
     "metadata": {},
     "output_type": "execute_result"
    }
   ],
   "source": [
    "dt.fit(o_x_train,o_y_train)"
   ]
  },
  {
   "cell_type": "code",
   "execution_count": 175,
   "id": "ecb8fc2f",
   "metadata": {},
   "outputs": [],
   "source": [
    "dt_p1=dt.predict(o_x_test)"
   ]
  },
  {
   "cell_type": "code",
   "execution_count": 176,
   "id": "46dc072b",
   "metadata": {},
   "outputs": [
    {
     "data": {
      "text/plain": [
       "array([[916,   0],\n",
       "       [ 48, 981]], dtype=int64)"
      ]
     },
     "execution_count": 176,
     "metadata": {},
     "output_type": "execute_result"
    }
   ],
   "source": [
    "dt_cf=confusion_matrix(dt_p1,o_y_test)\n",
    "dt_cf"
   ]
  },
  {
   "cell_type": "code",
   "execution_count": 177,
   "id": "169941eb",
   "metadata": {},
   "outputs": [
    {
     "data": {
      "text/plain": [
       "97.53213367609254"
      ]
     },
     "execution_count": 177,
     "metadata": {},
     "output_type": "execute_result"
    }
   ],
   "source": [
    "dt_acc1=dt_cf.diagonal().sum()/dt_cf.sum()*100\n",
    "dt_acc1"
   ]
  },
  {
   "cell_type": "code",
   "execution_count": 178,
   "id": "50064c08",
   "metadata": {},
   "outputs": [
    {
     "name": "stdout",
     "output_type": "stream",
     "text": [
      "              precision    recall  f1-score   support\n",
      "\n",
      "           0       0.95      1.00      0.97       916\n",
      "           1       1.00      0.95      0.98      1029\n",
      "\n",
      "    accuracy                           0.98      1945\n",
      "   macro avg       0.98      0.98      0.98      1945\n",
      "weighted avg       0.98      0.98      0.98      1945\n",
      "\n"
     ]
    }
   ],
   "source": [
    "print(classification_report(dt_p1,o_y_test))"
   ]
  },
  {
   "cell_type": "code",
   "execution_count": 179,
   "id": "09c42bf2",
   "metadata": {},
   "outputs": [
    {
     "data": {
      "text/plain": [
       "0.9753213367609255"
      ]
     },
     "execution_count": 179,
     "metadata": {},
     "output_type": "execute_result"
    }
   ],
   "source": [
    "dt_ac1=accuracy_score(dt_p1,o_y_test)\n",
    "dt_ac1"
   ]
  },
  {
   "cell_type": "code",
   "execution_count": 180,
   "id": "8b25afef",
   "metadata": {},
   "outputs": [],
   "source": [
    "dt_recall=recall_score(dt_p1,o_y_test)"
   ]
  },
  {
   "cell_type": "code",
   "execution_count": 181,
   "id": "7645f43c",
   "metadata": {},
   "outputs": [],
   "source": [
    "dt_f1_score=f1_score(dt_p1,o_y_test)"
   ]
  },
  {
   "cell_type": "code",
   "execution_count": 182,
   "id": "431039fb",
   "metadata": {},
   "outputs": [],
   "source": [
    "dt_precision=precision_score(dt_p1,o_y_test)"
   ]
  },
  {
   "cell_type": "markdown",
   "id": "7021e50d",
   "metadata": {},
   "source": [
    "# KNN with Over Sampling"
   ]
  },
  {
   "cell_type": "code",
   "execution_count": 183,
   "id": "c24c5261",
   "metadata": {},
   "outputs": [
    {
     "data": {
      "text/plain": [
       "KNeighborsClassifier(n_neighbors=29)"
      ]
     },
     "execution_count": 183,
     "metadata": {},
     "output_type": "execute_result"
    }
   ],
   "source": [
    "knn.fit(o_x_train,o_y_train)"
   ]
  },
  {
   "cell_type": "code",
   "execution_count": 184,
   "id": "e882a38d",
   "metadata": {},
   "outputs": [],
   "source": [
    "k_p1=knn.predict(o_x_test)"
   ]
  },
  {
   "cell_type": "code",
   "execution_count": 185,
   "id": "2f5685cc",
   "metadata": {},
   "outputs": [
    {
     "data": {
      "text/plain": [
       "array([[647,  66],\n",
       "       [317, 915]], dtype=int64)"
      ]
     },
     "execution_count": 185,
     "metadata": {},
     "output_type": "execute_result"
    }
   ],
   "source": [
    "k_cf=confusion_matrix(k_p1,o_y_test)\n",
    "k_cf"
   ]
  },
  {
   "cell_type": "code",
   "execution_count": 186,
   "id": "0fc5ec68",
   "metadata": {},
   "outputs": [
    {
     "data": {
      "text/plain": [
       "80.30848329048843"
      ]
     },
     "execution_count": 186,
     "metadata": {},
     "output_type": "execute_result"
    }
   ],
   "source": [
    "k_acc1=k_cf.diagonal().sum()/k_cf.sum()*100\n",
    "k_acc1"
   ]
  },
  {
   "cell_type": "code",
   "execution_count": 187,
   "id": "aa73ddcf",
   "metadata": {},
   "outputs": [
    {
     "name": "stdout",
     "output_type": "stream",
     "text": [
      "              precision    recall  f1-score   support\n",
      "\n",
      "           0       0.67      0.91      0.77       713\n",
      "           1       0.93      0.74      0.83      1232\n",
      "\n",
      "    accuracy                           0.80      1945\n",
      "   macro avg       0.80      0.83      0.80      1945\n",
      "weighted avg       0.84      0.80      0.81      1945\n",
      "\n"
     ]
    }
   ],
   "source": [
    "print(classification_report(k_p1,o_y_test))"
   ]
  },
  {
   "cell_type": "code",
   "execution_count": 188,
   "id": "b5717729",
   "metadata": {},
   "outputs": [],
   "source": [
    "knn_ac1=accuracy_score(k_p1,o_y_test)"
   ]
  },
  {
   "cell_type": "code",
   "execution_count": 189,
   "id": "a9de2b53",
   "metadata": {},
   "outputs": [],
   "source": [
    "knn_recall=recall_score(k_p1,o_y_test)"
   ]
  },
  {
   "cell_type": "code",
   "execution_count": 190,
   "id": "9d5259bb",
   "metadata": {},
   "outputs": [],
   "source": [
    "knn_precision=precision_score(k_p1,o_y_test)"
   ]
  },
  {
   "cell_type": "code",
   "execution_count": 191,
   "id": "6f95715b",
   "metadata": {},
   "outputs": [],
   "source": [
    "knn_f1_score=f1_score(k_p1,o_y_test)"
   ]
  },
  {
   "cell_type": "markdown",
   "id": "b93669e2",
   "metadata": {},
   "source": [
    "# Random Forest with Over Sampling"
   ]
  },
  {
   "cell_type": "code",
   "execution_count": 192,
   "id": "65305a65",
   "metadata": {},
   "outputs": [
    {
     "data": {
      "text/plain": [
       "RandomForestClassifier()"
      ]
     },
     "execution_count": 192,
     "metadata": {},
     "output_type": "execute_result"
    }
   ],
   "source": [
    "rf.fit(o_x_train,o_y_train)"
   ]
  },
  {
   "cell_type": "code",
   "execution_count": 193,
   "id": "bc8a79da",
   "metadata": {},
   "outputs": [],
   "source": [
    "rf_p1=rf.predict(o_x_test)"
   ]
  },
  {
   "cell_type": "code",
   "execution_count": 194,
   "id": "d733103a",
   "metadata": {},
   "outputs": [
    {
     "data": {
      "text/plain": [
       "array([[947,   0],\n",
       "       [ 17, 981]], dtype=int64)"
      ]
     },
     "execution_count": 194,
     "metadata": {},
     "output_type": "execute_result"
    }
   ],
   "source": [
    "rf_cf=confusion_matrix(rf_p1,o_y_test)\n",
    "rf_cf"
   ]
  },
  {
   "cell_type": "code",
   "execution_count": 195,
   "id": "fa67a333",
   "metadata": {},
   "outputs": [
    {
     "data": {
      "text/plain": [
       "99.12596401028277"
      ]
     },
     "execution_count": 195,
     "metadata": {},
     "output_type": "execute_result"
    }
   ],
   "source": [
    "rf_acc1=rf_cf.diagonal().sum()/rf_cf.sum()*100\n",
    "rf_acc1"
   ]
  },
  {
   "cell_type": "code",
   "execution_count": 196,
   "id": "063b82ff",
   "metadata": {},
   "outputs": [
    {
     "name": "stdout",
     "output_type": "stream",
     "text": [
      "              precision    recall  f1-score   support\n",
      "\n",
      "           0       0.98      1.00      0.99       947\n",
      "           1       1.00      0.98      0.99       998\n",
      "\n",
      "    accuracy                           0.99      1945\n",
      "   macro avg       0.99      0.99      0.99      1945\n",
      "weighted avg       0.99      0.99      0.99      1945\n",
      "\n"
     ]
    }
   ],
   "source": [
    "print(classification_report(rf_p1,o_y_test))"
   ]
  },
  {
   "cell_type": "code",
   "execution_count": 197,
   "id": "29ad1f41",
   "metadata": {},
   "outputs": [],
   "source": [
    "rf_ac1=accuracy_score(rf_p1,o_y_test)"
   ]
  },
  {
   "cell_type": "code",
   "execution_count": 198,
   "id": "6c011b6e",
   "metadata": {},
   "outputs": [],
   "source": [
    "rf_precision=precision_score(rf_p1,o_y_test)"
   ]
  },
  {
   "cell_type": "code",
   "execution_count": 199,
   "id": "59544617",
   "metadata": {},
   "outputs": [],
   "source": [
    "rf_recall=recall_score(rf_p1,o_y_test)"
   ]
  },
  {
   "cell_type": "code",
   "execution_count": 200,
   "id": "52be076a",
   "metadata": {},
   "outputs": [],
   "source": [
    "rf_f1_score=f1_score(rf_p1,o_y_test)"
   ]
  },
  {
   "cell_type": "markdown",
   "id": "9110d795",
   "metadata": {},
   "source": [
    "# SVM with Over Sampling"
   ]
  },
  {
   "cell_type": "code",
   "execution_count": 201,
   "id": "c5429bce",
   "metadata": {},
   "outputs": [
    {
     "data": {
      "text/plain": [
       "SVC()"
      ]
     },
     "execution_count": 201,
     "metadata": {},
     "output_type": "execute_result"
    }
   ],
   "source": [
    "svc.fit(o_x_train,o_y_train)"
   ]
  },
  {
   "cell_type": "code",
   "execution_count": 202,
   "id": "330629aa",
   "metadata": {},
   "outputs": [
    {
     "data": {
      "text/plain": [
       "array([1, 0, 1, ..., 0, 1, 1], dtype=int64)"
      ]
     },
     "execution_count": 202,
     "metadata": {},
     "output_type": "execute_result"
    }
   ],
   "source": [
    "s_p1=svc.predict(o_x_test)\n",
    "s_p1"
   ]
  },
  {
   "cell_type": "code",
   "execution_count": 203,
   "id": "52fec7ba",
   "metadata": {},
   "outputs": [
    {
     "data": {
      "text/plain": [
       "array([[678, 198],\n",
       "       [286, 783]], dtype=int64)"
      ]
     },
     "execution_count": 203,
     "metadata": {},
     "output_type": "execute_result"
    }
   ],
   "source": [
    "s_cf=confusion_matrix(s_p1,o_y_test)\n",
    "s_cf"
   ]
  },
  {
   "cell_type": "code",
   "execution_count": 204,
   "id": "0f4538d4",
   "metadata": {},
   "outputs": [
    {
     "data": {
      "text/plain": [
       "75.11568123393316"
      ]
     },
     "execution_count": 204,
     "metadata": {},
     "output_type": "execute_result"
    }
   ],
   "source": [
    "s_acc1=s_cf.diagonal().sum()/s_cf.sum()*100\n",
    "s_acc1"
   ]
  },
  {
   "cell_type": "code",
   "execution_count": 205,
   "id": "2e0ee484",
   "metadata": {},
   "outputs": [
    {
     "name": "stdout",
     "output_type": "stream",
     "text": [
      "              precision    recall  f1-score   support\n",
      "\n",
      "           0       0.70      0.77      0.74       876\n",
      "           1       0.80      0.73      0.76      1069\n",
      "\n",
      "    accuracy                           0.75      1945\n",
      "   macro avg       0.75      0.75      0.75      1945\n",
      "weighted avg       0.76      0.75      0.75      1945\n",
      "\n"
     ]
    }
   ],
   "source": [
    "print(classification_report(s_p1,o_y_test))"
   ]
  },
  {
   "cell_type": "code",
   "execution_count": 206,
   "id": "b1a1aeb2",
   "metadata": {},
   "outputs": [],
   "source": [
    "svm_ac1=accuracy_score(s_p1,o_y_test)"
   ]
  },
  {
   "cell_type": "code",
   "execution_count": 207,
   "id": "e75fec80",
   "metadata": {},
   "outputs": [],
   "source": [
    "svm_precision=precision_score(s_p1,o_y_test)"
   ]
  },
  {
   "cell_type": "code",
   "execution_count": 208,
   "id": "6eea43e7",
   "metadata": {},
   "outputs": [],
   "source": [
    "svm_f1_score=f1_score(s_p1,o_y_test)"
   ]
  },
  {
   "cell_type": "code",
   "execution_count": 209,
   "id": "a8a47604",
   "metadata": {},
   "outputs": [],
   "source": [
    "svm_recall=recall_score(s_p1,o_y_test)"
   ]
  },
  {
   "cell_type": "markdown",
   "id": "ddeaf363",
   "metadata": {},
   "source": [
    "# ADA Boost with Over Sampling"
   ]
  },
  {
   "cell_type": "code",
   "execution_count": 210,
   "id": "aaf7ebe3",
   "metadata": {},
   "outputs": [
    {
     "data": {
      "text/plain": [
       "AdaBoostClassifier(base_estimator=DecisionTreeClassifier(), n_estimators=5)"
      ]
     },
     "execution_count": 210,
     "metadata": {},
     "output_type": "execute_result"
    }
   ],
   "source": [
    "adbo.fit(o_x_train,o_y_train)"
   ]
  },
  {
   "cell_type": "code",
   "execution_count": 211,
   "id": "fd7cf8d1",
   "metadata": {},
   "outputs": [
    {
     "data": {
      "text/plain": [
       "array([1, 0, 0, ..., 1, 1, 1], dtype=int64)"
      ]
     },
     "execution_count": 211,
     "metadata": {},
     "output_type": "execute_result"
    }
   ],
   "source": [
    "ad_p1=adbo.predict(o_x_test)\n",
    "ad_p1"
   ]
  },
  {
   "cell_type": "code",
   "execution_count": 212,
   "id": "47c1011f",
   "metadata": {},
   "outputs": [
    {
     "data": {
      "text/plain": [
       "array([[920,   0],\n",
       "       [ 44, 981]], dtype=int64)"
      ]
     },
     "execution_count": 212,
     "metadata": {},
     "output_type": "execute_result"
    }
   ],
   "source": [
    "ad_cf=confusion_matrix(ad_p1,o_y_test)\n",
    "ad_cf"
   ]
  },
  {
   "cell_type": "code",
   "execution_count": 213,
   "id": "d9ad8439",
   "metadata": {},
   "outputs": [
    {
     "data": {
      "text/plain": [
       "97.73778920308483"
      ]
     },
     "execution_count": 213,
     "metadata": {},
     "output_type": "execute_result"
    }
   ],
   "source": [
    "ad_acc1=ad_cf.diagonal().sum()/ad_cf.sum()*100\n",
    "ad_acc1"
   ]
  },
  {
   "cell_type": "code",
   "execution_count": 214,
   "id": "5e30a08e",
   "metadata": {},
   "outputs": [
    {
     "name": "stdout",
     "output_type": "stream",
     "text": [
      "              precision    recall  f1-score   support\n",
      "\n",
      "           0       0.95      1.00      0.98       920\n",
      "           1       1.00      0.96      0.98      1025\n",
      "\n",
      "    accuracy                           0.98      1945\n",
      "   macro avg       0.98      0.98      0.98      1945\n",
      "weighted avg       0.98      0.98      0.98      1945\n",
      "\n"
     ]
    }
   ],
   "source": [
    "print(classification_report(ad_p1,o_y_test))"
   ]
  },
  {
   "cell_type": "code",
   "execution_count": 215,
   "id": "b874c509",
   "metadata": {},
   "outputs": [],
   "source": [
    "adbo_ac1=accuracy_score(ad_p1,o_y_test)"
   ]
  },
  {
   "cell_type": "code",
   "execution_count": 216,
   "id": "563c82b7",
   "metadata": {},
   "outputs": [],
   "source": [
    "adbo_precision=precision_score(ad_p1,o_y_test)"
   ]
  },
  {
   "cell_type": "code",
   "execution_count": 217,
   "id": "e03002e7",
   "metadata": {},
   "outputs": [],
   "source": [
    "adbo_recall=recall_score(ad_p1,o_y_test)"
   ]
  },
  {
   "cell_type": "code",
   "execution_count": 218,
   "id": "e096b210",
   "metadata": {},
   "outputs": [],
   "source": [
    "adbo_f1_score=f1_score(ad_p1,o_y_test)"
   ]
  },
  {
   "cell_type": "markdown",
   "id": "b5f44d22",
   "metadata": {},
   "source": [
    "# XG Boost with Over Sampling"
   ]
  },
  {
   "cell_type": "code",
   "execution_count": 219,
   "id": "5d15119e",
   "metadata": {},
   "outputs": [
    {
     "data": {
      "text/plain": [
       "XGBClassifier(base_score=None, booster=None, callbacks=None,\n",
       "              colsample_bylevel=None, colsample_bynode=None,\n",
       "              colsample_bytree=None, early_stopping_rounds=None,\n",
       "              enable_categorical=False, eval_metric=None, feature_types=None,\n",
       "              gamma=None, gpu_id=None, grow_policy=None, importance_type=None,\n",
       "              interaction_constraints=None, learning_rate=None, max_bin=None,\n",
       "              max_cat_threshold=None, max_cat_to_onehot=None,\n",
       "              max_delta_step=None, max_depth=None, max_leaves=None,\n",
       "              min_child_weight=None, missing=nan, monotone_constraints=None,\n",
       "              n_estimators=100, n_jobs=None, num_parallel_tree=None,\n",
       "              predictor=None, random_state=None, ...)"
      ]
     },
     "execution_count": 219,
     "metadata": {},
     "output_type": "execute_result"
    }
   ],
   "source": [
    "xgb.fit(o_x_train,o_y_train)"
   ]
  },
  {
   "cell_type": "code",
   "execution_count": 220,
   "id": "7d523edd",
   "metadata": {},
   "outputs": [],
   "source": [
    "xgb_p1=xgb.predict(o_x_test)"
   ]
  },
  {
   "cell_type": "code",
   "execution_count": 221,
   "id": "d69996e6",
   "metadata": {},
   "outputs": [
    {
     "data": {
      "text/plain": [
       "array([[909,   0],\n",
       "       [ 55, 981]], dtype=int64)"
      ]
     },
     "execution_count": 221,
     "metadata": {},
     "output_type": "execute_result"
    }
   ],
   "source": [
    "xgb_cf=confusion_matrix(xgb_p1,o_y_test)\n",
    "xgb_cf"
   ]
  },
  {
   "cell_type": "code",
   "execution_count": 222,
   "id": "5eab19ac",
   "metadata": {},
   "outputs": [
    {
     "data": {
      "text/plain": [
       "97.17223650385604"
      ]
     },
     "execution_count": 222,
     "metadata": {},
     "output_type": "execute_result"
    }
   ],
   "source": [
    "xgb_acc1=xgb_cf.diagonal().sum()/xgb_cf.sum()*100\n",
    "xgb_acc1"
   ]
  },
  {
   "cell_type": "code",
   "execution_count": 223,
   "id": "140e1df7",
   "metadata": {},
   "outputs": [
    {
     "name": "stdout",
     "output_type": "stream",
     "text": [
      "              precision    recall  f1-score   support\n",
      "\n",
      "           0       0.94      1.00      0.97       909\n",
      "           1       1.00      0.95      0.97      1036\n",
      "\n",
      "    accuracy                           0.97      1945\n",
      "   macro avg       0.97      0.97      0.97      1945\n",
      "weighted avg       0.97      0.97      0.97      1945\n",
      "\n"
     ]
    }
   ],
   "source": [
    "print(classification_report(xgb_p1,o_y_test))"
   ]
  },
  {
   "cell_type": "code",
   "execution_count": 224,
   "id": "efe9fc66",
   "metadata": {},
   "outputs": [],
   "source": [
    "xgb_ac1=accuracy_score(xgb_p1,o_y_test)"
   ]
  },
  {
   "cell_type": "code",
   "execution_count": 225,
   "id": "a4442155",
   "metadata": {},
   "outputs": [],
   "source": [
    "xgb_recall=recall_score(xgb_p1,o_y_test)"
   ]
  },
  {
   "cell_type": "code",
   "execution_count": 226,
   "id": "f0761d69",
   "metadata": {},
   "outputs": [],
   "source": [
    "xgb_precision=precision_score(xgb_p1,o_y_test)"
   ]
  },
  {
   "cell_type": "code",
   "execution_count": 227,
   "id": "558a5717",
   "metadata": {},
   "outputs": [],
   "source": [
    "xgb_f1_score=f1_score(xgb_p1,o_y_test)"
   ]
  },
  {
   "cell_type": "markdown",
   "id": "da3cc76b",
   "metadata": {},
   "source": [
    "# Naive Bayes with Over sampling"
   ]
  },
  {
   "cell_type": "code",
   "execution_count": 228,
   "id": "b985bbbd",
   "metadata": {},
   "outputs": [
    {
     "data": {
      "text/plain": [
       "MultinomialNB()"
      ]
     },
     "execution_count": 228,
     "metadata": {},
     "output_type": "execute_result"
    }
   ],
   "source": [
    "nb.fit(o_x_train,o_y_train)"
   ]
  },
  {
   "cell_type": "code",
   "execution_count": 229,
   "id": "83d65382",
   "metadata": {},
   "outputs": [],
   "source": [
    "n_p1=nb.predict(o_x_test)"
   ]
  },
  {
   "cell_type": "code",
   "execution_count": 230,
   "id": "d938e278",
   "metadata": {},
   "outputs": [
    {
     "data": {
      "text/plain": [
       "array([[605, 233],\n",
       "       [359, 748]], dtype=int64)"
      ]
     },
     "execution_count": 230,
     "metadata": {},
     "output_type": "execute_result"
    }
   ],
   "source": [
    "n_cf=confusion_matrix(n_p1,o_y_test)\n",
    "n_cf"
   ]
  },
  {
   "cell_type": "code",
   "execution_count": 231,
   "id": "a617cc3a",
   "metadata": {},
   "outputs": [
    {
     "data": {
      "text/plain": [
       "69.56298200514138"
      ]
     },
     "execution_count": 231,
     "metadata": {},
     "output_type": "execute_result"
    }
   ],
   "source": [
    "n_acc1=n_cf.diagonal().sum()/n_cf.sum()*100\n",
    "n_acc1"
   ]
  },
  {
   "cell_type": "code",
   "execution_count": 232,
   "id": "57558a0d",
   "metadata": {},
   "outputs": [
    {
     "name": "stdout",
     "output_type": "stream",
     "text": [
      "              precision    recall  f1-score   support\n",
      "\n",
      "           0       0.63      0.72      0.67       838\n",
      "           1       0.76      0.68      0.72      1107\n",
      "\n",
      "    accuracy                           0.70      1945\n",
      "   macro avg       0.70      0.70      0.69      1945\n",
      "weighted avg       0.70      0.70      0.70      1945\n",
      "\n"
     ]
    }
   ],
   "source": [
    "print(classification_report(n_p1,o_y_test))"
   ]
  },
  {
   "cell_type": "code",
   "execution_count": 233,
   "id": "578e7409",
   "metadata": {},
   "outputs": [],
   "source": [
    "nb_ac1=accuracy_score(n_p1,o_y_test)"
   ]
  },
  {
   "cell_type": "code",
   "execution_count": 234,
   "id": "67221f53",
   "metadata": {},
   "outputs": [],
   "source": [
    "nb_recall=recall_score(n_p1,o_y_test)"
   ]
  },
  {
   "cell_type": "code",
   "execution_count": 235,
   "id": "3c416f24",
   "metadata": {},
   "outputs": [],
   "source": [
    "nb_f1_score=f1_score(n_p1,o_y_test)"
   ]
  },
  {
   "cell_type": "code",
   "execution_count": 236,
   "id": "fa076eee",
   "metadata": {},
   "outputs": [],
   "source": [
    "nb_precision=precision_score(n_p1,o_y_test)"
   ]
  },
  {
   "cell_type": "code",
   "execution_count": 237,
   "id": "7b5ac073",
   "metadata": {},
   "outputs": [],
   "source": [
    "list6=[\"LOGISTIC REGRESSION\",\"DECISION TREE\",\"KNN\",\"RANDOM FOREST\",\"ADA BOOST\",\"XGBOOST\",\"SVM\",\"NAIVEY BAYES\"]\n",
    "list7=[lg_ac1,dt_ac1,rf_ac1,adbo_ac1,xgb_ac1,knn_ac1,svm_ac1,nb_ac1]\n",
    "list8=[lg_precision,dt_precision,rf_precision,adbo_precision,xgb_precision,knn_precision,svm_precision,nb_precision]\n",
    "list9=[lg_recall,dt_recall,rf_recall,adbo_recall,xgb_recall,knn_recall,svm_recall,nb_recall]\n",
    "list10=[lg_f1_score,dt_f1_score,rf_f1_score,adbo_f1_score,xgb_f1_score,knn_f1_score,svm_f1_score,nb_f1_score]"
   ]
  },
  {
   "cell_type": "code",
   "execution_count": 238,
   "id": "b6202ea4",
   "metadata": {},
   "outputs": [
    {
     "data": {
      "text/html": [
       "<div>\n",
       "<style scoped>\n",
       "    .dataframe tbody tr th:only-of-type {\n",
       "        vertical-align: middle;\n",
       "    }\n",
       "\n",
       "    .dataframe tbody tr th {\n",
       "        vertical-align: top;\n",
       "    }\n",
       "\n",
       "    .dataframe thead th {\n",
       "        text-align: right;\n",
       "    }\n",
       "</style>\n",
       "<table border=\"1\" class=\"dataframe\">\n",
       "  <thead>\n",
       "    <tr style=\"text-align: right;\">\n",
       "      <th></th>\n",
       "      <th>Model Name</th>\n",
       "      <th>Accuracy</th>\n",
       "      <th>Precision</th>\n",
       "      <th>Recall</th>\n",
       "      <th>F1_score</th>\n",
       "    </tr>\n",
       "  </thead>\n",
       "  <tbody>\n",
       "    <tr>\n",
       "      <th>0</th>\n",
       "      <td>LOGISTIC REGRESSION</td>\n",
       "      <td>0.760411</td>\n",
       "      <td>0.793068</td>\n",
       "      <td>0.747358</td>\n",
       "      <td>0.769535</td>\n",
       "    </tr>\n",
       "    <tr>\n",
       "      <th>1</th>\n",
       "      <td>DECISION TREE</td>\n",
       "      <td>0.975321</td>\n",
       "      <td>1.000000</td>\n",
       "      <td>0.953353</td>\n",
       "      <td>0.976119</td>\n",
       "    </tr>\n",
       "    <tr>\n",
       "      <th>2</th>\n",
       "      <td>KNN</td>\n",
       "      <td>0.991260</td>\n",
       "      <td>1.000000</td>\n",
       "      <td>0.982966</td>\n",
       "      <td>0.991410</td>\n",
       "    </tr>\n",
       "    <tr>\n",
       "      <th>3</th>\n",
       "      <td>RANDOM FOREST</td>\n",
       "      <td>0.977378</td>\n",
       "      <td>1.000000</td>\n",
       "      <td>0.957073</td>\n",
       "      <td>0.978066</td>\n",
       "    </tr>\n",
       "    <tr>\n",
       "      <th>4</th>\n",
       "      <td>ADA BOOST</td>\n",
       "      <td>0.971722</td>\n",
       "      <td>1.000000</td>\n",
       "      <td>0.946911</td>\n",
       "      <td>0.972732</td>\n",
       "    </tr>\n",
       "    <tr>\n",
       "      <th>5</th>\n",
       "      <td>XGBOOST</td>\n",
       "      <td>0.803085</td>\n",
       "      <td>0.932722</td>\n",
       "      <td>0.742695</td>\n",
       "      <td>0.826932</td>\n",
       "    </tr>\n",
       "    <tr>\n",
       "      <th>6</th>\n",
       "      <td>SVM</td>\n",
       "      <td>0.751157</td>\n",
       "      <td>0.798165</td>\n",
       "      <td>0.732460</td>\n",
       "      <td>0.763902</td>\n",
       "    </tr>\n",
       "    <tr>\n",
       "      <th>7</th>\n",
       "      <td>NAIVEY BAYES</td>\n",
       "      <td>0.695630</td>\n",
       "      <td>0.762487</td>\n",
       "      <td>0.675700</td>\n",
       "      <td>0.716475</td>\n",
       "    </tr>\n",
       "  </tbody>\n",
       "</table>\n",
       "</div>"
      ],
      "text/plain": [
       "            Model Name  Accuracy  Precision    Recall  F1_score\n",
       "0  LOGISTIC REGRESSION  0.760411   0.793068  0.747358  0.769535\n",
       "1        DECISION TREE  0.975321   1.000000  0.953353  0.976119\n",
       "2                  KNN  0.991260   1.000000  0.982966  0.991410\n",
       "3        RANDOM FOREST  0.977378   1.000000  0.957073  0.978066\n",
       "4            ADA BOOST  0.971722   1.000000  0.946911  0.972732\n",
       "5              XGBOOST  0.803085   0.932722  0.742695  0.826932\n",
       "6                  SVM  0.751157   0.798165  0.732460  0.763902\n",
       "7         NAIVEY BAYES  0.695630   0.762487  0.675700  0.716475"
      ]
     },
     "execution_count": 238,
     "metadata": {},
     "output_type": "execute_result"
    }
   ],
   "source": [
    "d1=pd.DataFrame({\"Model Name\":list6,\"Accuracy\":list7,\"Precision\":list8,\"Recall\":list9,\"F1_score\":list10})\n",
    "d1"
   ]
  },
  {
   "cell_type": "markdown",
   "id": "dc7bf2fa",
   "metadata": {},
   "source": [
    "# RFE=Recursive FS"
   ]
  },
  {
   "cell_type": "code",
   "execution_count": 239,
   "id": "030d8061",
   "metadata": {},
   "outputs": [],
   "source": [
    "from sklearn.feature_selection import RFE\n",
    "from sklearn.tree import DecisionTreeClassifier\n",
    "dTree = DecisionTreeClassifier()"
   ]
  },
  {
   "cell_type": "code",
   "execution_count": 240,
   "id": "df40d316",
   "metadata": {},
   "outputs": [],
   "source": [
    "rfe=RFE(dTree)"
   ]
  },
  {
   "cell_type": "code",
   "execution_count": 241,
   "id": "0beab028",
   "metadata": {},
   "outputs": [
    {
     "data": {
      "text/plain": [
       "RFE(estimator=DecisionTreeClassifier())"
      ]
     },
     "execution_count": 241,
     "metadata": {},
     "output_type": "execute_result"
    }
   ],
   "source": [
    "#rfe.fit(class1_0.iloc[:,0:10],class1_0.iloc[:,-1])\n",
    "rfe.fit(o_x_train,o_y_train)"
   ]
  },
  {
   "cell_type": "code",
   "execution_count": 242,
   "id": "30fd36db",
   "metadata": {},
   "outputs": [
    {
     "data": {
      "text/plain": [
       "array([False,  True,  True, False, False, False, False,  True,  True,\n",
       "        True])"
      ]
     },
     "execution_count": 242,
     "metadata": {},
     "output_type": "execute_result"
    }
   ],
   "source": [
    "rfe.support_"
   ]
  },
  {
   "cell_type": "code",
   "execution_count": 243,
   "id": "b46d1700",
   "metadata": {},
   "outputs": [
    {
     "data": {
      "text/html": [
       "<div>\n",
       "<style scoped>\n",
       "    .dataframe tbody tr th:only-of-type {\n",
       "        vertical-align: middle;\n",
       "    }\n",
       "\n",
       "    .dataframe tbody tr th {\n",
       "        vertical-align: top;\n",
       "    }\n",
       "\n",
       "    .dataframe thead th {\n",
       "        text-align: right;\n",
       "    }\n",
       "</style>\n",
       "<table border=\"1\" class=\"dataframe\">\n",
       "  <thead>\n",
       "    <tr style=\"text-align: right;\">\n",
       "      <th></th>\n",
       "      <th>Score</th>\n",
       "      <th>columns</th>\n",
       "    </tr>\n",
       "  </thead>\n",
       "  <tbody>\n",
       "    <tr>\n",
       "      <th>0</th>\n",
       "      <td>False</td>\n",
       "      <td>gender</td>\n",
       "    </tr>\n",
       "    <tr>\n",
       "      <th>1</th>\n",
       "      <td>True</td>\n",
       "      <td>age</td>\n",
       "    </tr>\n",
       "    <tr>\n",
       "      <th>2</th>\n",
       "      <td>True</td>\n",
       "      <td>hypertension</td>\n",
       "    </tr>\n",
       "    <tr>\n",
       "      <th>3</th>\n",
       "      <td>False</td>\n",
       "      <td>heart_disease</td>\n",
       "    </tr>\n",
       "    <tr>\n",
       "      <th>4</th>\n",
       "      <td>False</td>\n",
       "      <td>ever_married</td>\n",
       "    </tr>\n",
       "    <tr>\n",
       "      <th>5</th>\n",
       "      <td>False</td>\n",
       "      <td>work_type</td>\n",
       "    </tr>\n",
       "    <tr>\n",
       "      <th>6</th>\n",
       "      <td>False</td>\n",
       "      <td>Residence_type</td>\n",
       "    </tr>\n",
       "    <tr>\n",
       "      <th>7</th>\n",
       "      <td>True</td>\n",
       "      <td>avg_glucose_level</td>\n",
       "    </tr>\n",
       "    <tr>\n",
       "      <th>8</th>\n",
       "      <td>True</td>\n",
       "      <td>bmi</td>\n",
       "    </tr>\n",
       "    <tr>\n",
       "      <th>9</th>\n",
       "      <td>True</td>\n",
       "      <td>smoking_status</td>\n",
       "    </tr>\n",
       "  </tbody>\n",
       "</table>\n",
       "</div>"
      ],
      "text/plain": [
       "   Score            columns\n",
       "0  False             gender\n",
       "1   True                age\n",
       "2   True       hypertension\n",
       "3  False      heart_disease\n",
       "4  False       ever_married\n",
       "5  False          work_type\n",
       "6  False     Residence_type\n",
       "7   True  avg_glucose_level\n",
       "8   True                bmi\n",
       "9   True     smoking_status"
      ]
     },
     "execution_count": 243,
     "metadata": {},
     "output_type": "execute_result"
    }
   ],
   "source": [
    "df3=pd.DataFrame({\"Score\":list(rfe.support_),\"columns\":list(class1_0.iloc[:,0:10])})\n",
    "df3"
   ]
  },
  {
   "cell_type": "code",
   "execution_count": 244,
   "id": "8fa824de",
   "metadata": {},
   "outputs": [],
   "source": [
    "df=class1_0.drop([\"gender\",\"hypertension\",\"heart_disease\",\"ever_married\",\"Residence_type\"],axis=1)"
   ]
  },
  {
   "cell_type": "code",
   "execution_count": 245,
   "id": "1bc8671e",
   "metadata": {},
   "outputs": [
    {
     "data": {
      "text/html": [
       "<div>\n",
       "<style scoped>\n",
       "    .dataframe tbody tr th:only-of-type {\n",
       "        vertical-align: middle;\n",
       "    }\n",
       "\n",
       "    .dataframe tbody tr th {\n",
       "        vertical-align: top;\n",
       "    }\n",
       "\n",
       "    .dataframe thead th {\n",
       "        text-align: right;\n",
       "    }\n",
       "</style>\n",
       "<table border=\"1\" class=\"dataframe\">\n",
       "  <thead>\n",
       "    <tr style=\"text-align: right;\">\n",
       "      <th></th>\n",
       "      <th>age</th>\n",
       "      <th>work_type</th>\n",
       "      <th>avg_glucose_level</th>\n",
       "      <th>bmi</th>\n",
       "      <th>smoking_status</th>\n",
       "      <th>stroke</th>\n",
       "    </tr>\n",
       "  </thead>\n",
       "  <tbody>\n",
       "    <tr>\n",
       "      <th>133</th>\n",
       "      <td>38.0</td>\n",
       "      <td>2</td>\n",
       "      <td>101.45</td>\n",
       "      <td>28.893237</td>\n",
       "      <td>1</td>\n",
       "      <td>1</td>\n",
       "    </tr>\n",
       "    <tr>\n",
       "      <th>52</th>\n",
       "      <td>79.0</td>\n",
       "      <td>2</td>\n",
       "      <td>127.29</td>\n",
       "      <td>27.700000</td>\n",
       "      <td>2</td>\n",
       "      <td>1</td>\n",
       "    </tr>\n",
       "    <tr>\n",
       "      <th>165</th>\n",
       "      <td>78.0</td>\n",
       "      <td>3</td>\n",
       "      <td>133.19</td>\n",
       "      <td>23.600000</td>\n",
       "      <td>1</td>\n",
       "      <td>1</td>\n",
       "    </tr>\n",
       "    <tr>\n",
       "      <th>164</th>\n",
       "      <td>70.0</td>\n",
       "      <td>3</td>\n",
       "      <td>89.13</td>\n",
       "      <td>34.200000</td>\n",
       "      <td>1</td>\n",
       "      <td>1</td>\n",
       "    </tr>\n",
       "    <tr>\n",
       "      <th>91</th>\n",
       "      <td>81.0</td>\n",
       "      <td>2</td>\n",
       "      <td>72.81</td>\n",
       "      <td>26.300000</td>\n",
       "      <td>2</td>\n",
       "      <td>1</td>\n",
       "    </tr>\n",
       "    <tr>\n",
       "      <th>...</th>\n",
       "      <td>...</td>\n",
       "      <td>...</td>\n",
       "      <td>...</td>\n",
       "      <td>...</td>\n",
       "      <td>...</td>\n",
       "      <td>...</td>\n",
       "    </tr>\n",
       "    <tr>\n",
       "      <th>5105</th>\n",
       "      <td>80.0</td>\n",
       "      <td>2</td>\n",
       "      <td>83.75</td>\n",
       "      <td>28.893237</td>\n",
       "      <td>2</td>\n",
       "      <td>0</td>\n",
       "    </tr>\n",
       "    <tr>\n",
       "      <th>5106</th>\n",
       "      <td>81.0</td>\n",
       "      <td>3</td>\n",
       "      <td>125.20</td>\n",
       "      <td>40.000000</td>\n",
       "      <td>2</td>\n",
       "      <td>0</td>\n",
       "    </tr>\n",
       "    <tr>\n",
       "      <th>5107</th>\n",
       "      <td>35.0</td>\n",
       "      <td>3</td>\n",
       "      <td>82.99</td>\n",
       "      <td>30.600000</td>\n",
       "      <td>2</td>\n",
       "      <td>0</td>\n",
       "    </tr>\n",
       "    <tr>\n",
       "      <th>5108</th>\n",
       "      <td>51.0</td>\n",
       "      <td>2</td>\n",
       "      <td>166.29</td>\n",
       "      <td>25.600000</td>\n",
       "      <td>1</td>\n",
       "      <td>0</td>\n",
       "    </tr>\n",
       "    <tr>\n",
       "      <th>5109</th>\n",
       "      <td>44.0</td>\n",
       "      <td>0</td>\n",
       "      <td>85.28</td>\n",
       "      <td>26.200000</td>\n",
       "      <td>0</td>\n",
       "      <td>0</td>\n",
       "    </tr>\n",
       "  </tbody>\n",
       "</table>\n",
       "<p>9722 rows × 6 columns</p>\n",
       "</div>"
      ],
      "text/plain": [
       "       age  work_type  avg_glucose_level        bmi  smoking_status  stroke\n",
       "133   38.0          2             101.45  28.893237               1       1\n",
       "52    79.0          2             127.29  27.700000               2       1\n",
       "165   78.0          3             133.19  23.600000               1       1\n",
       "164   70.0          3              89.13  34.200000               1       1\n",
       "91    81.0          2              72.81  26.300000               2       1\n",
       "...    ...        ...                ...        ...             ...     ...\n",
       "5105  80.0          2              83.75  28.893237               2       0\n",
       "5106  81.0          3             125.20  40.000000               2       0\n",
       "5107  35.0          3              82.99  30.600000               2       0\n",
       "5108  51.0          2             166.29  25.600000               1       0\n",
       "5109  44.0          0              85.28  26.200000               0       0\n",
       "\n",
       "[9722 rows x 6 columns]"
      ]
     },
     "execution_count": 245,
     "metadata": {},
     "output_type": "execute_result"
    }
   ],
   "source": [
    "df"
   ]
  },
  {
   "cell_type": "code",
   "execution_count": 246,
   "id": "a7ce0723",
   "metadata": {},
   "outputs": [],
   "source": [
    "from sklearn.model_selection import train_test_split"
   ]
  },
  {
   "cell_type": "code",
   "execution_count": 247,
   "id": "b2bea87d",
   "metadata": {},
   "outputs": [],
   "source": [
    "t_x=df.iloc[:,0:5]\n",
    "t_y=df.iloc[:,-1]"
   ]
  },
  {
   "cell_type": "code",
   "execution_count": 248,
   "id": "058174c3",
   "metadata": {},
   "outputs": [
    {
     "data": {
      "text/html": [
       "<div>\n",
       "<style scoped>\n",
       "    .dataframe tbody tr th:only-of-type {\n",
       "        vertical-align: middle;\n",
       "    }\n",
       "\n",
       "    .dataframe tbody tr th {\n",
       "        vertical-align: top;\n",
       "    }\n",
       "\n",
       "    .dataframe thead th {\n",
       "        text-align: right;\n",
       "    }\n",
       "</style>\n",
       "<table border=\"1\" class=\"dataframe\">\n",
       "  <thead>\n",
       "    <tr style=\"text-align: right;\">\n",
       "      <th></th>\n",
       "      <th>age</th>\n",
       "      <th>work_type</th>\n",
       "      <th>avg_glucose_level</th>\n",
       "      <th>bmi</th>\n",
       "      <th>smoking_status</th>\n",
       "    </tr>\n",
       "  </thead>\n",
       "  <tbody>\n",
       "    <tr>\n",
       "      <th>133</th>\n",
       "      <td>38.0</td>\n",
       "      <td>2</td>\n",
       "      <td>101.45</td>\n",
       "      <td>28.893237</td>\n",
       "      <td>1</td>\n",
       "    </tr>\n",
       "    <tr>\n",
       "      <th>52</th>\n",
       "      <td>79.0</td>\n",
       "      <td>2</td>\n",
       "      <td>127.29</td>\n",
       "      <td>27.700000</td>\n",
       "      <td>2</td>\n",
       "    </tr>\n",
       "    <tr>\n",
       "      <th>165</th>\n",
       "      <td>78.0</td>\n",
       "      <td>3</td>\n",
       "      <td>133.19</td>\n",
       "      <td>23.600000</td>\n",
       "      <td>1</td>\n",
       "    </tr>\n",
       "    <tr>\n",
       "      <th>164</th>\n",
       "      <td>70.0</td>\n",
       "      <td>3</td>\n",
       "      <td>89.13</td>\n",
       "      <td>34.200000</td>\n",
       "      <td>1</td>\n",
       "    </tr>\n",
       "    <tr>\n",
       "      <th>91</th>\n",
       "      <td>81.0</td>\n",
       "      <td>2</td>\n",
       "      <td>72.81</td>\n",
       "      <td>26.300000</td>\n",
       "      <td>2</td>\n",
       "    </tr>\n",
       "  </tbody>\n",
       "</table>\n",
       "</div>"
      ],
      "text/plain": [
       "      age  work_type  avg_glucose_level        bmi  smoking_status\n",
       "133  38.0          2             101.45  28.893237               1\n",
       "52   79.0          2             127.29  27.700000               2\n",
       "165  78.0          3             133.19  23.600000               1\n",
       "164  70.0          3              89.13  34.200000               1\n",
       "91   81.0          2              72.81  26.300000               2"
      ]
     },
     "execution_count": 248,
     "metadata": {},
     "output_type": "execute_result"
    }
   ],
   "source": [
    "t_x.head(5)"
   ]
  },
  {
   "cell_type": "code",
   "execution_count": 249,
   "id": "9347edd4",
   "metadata": {},
   "outputs": [
    {
     "data": {
      "text/plain": [
       "133    1\n",
       "52     1\n",
       "165    1\n",
       "164    1\n",
       "91     1\n",
       "Name: stroke, dtype: int64"
      ]
     },
     "execution_count": 249,
     "metadata": {},
     "output_type": "execute_result"
    }
   ],
   "source": [
    "t_y.head(5)"
   ]
  },
  {
   "cell_type": "code",
   "execution_count": 250,
   "id": "b934e03b",
   "metadata": {},
   "outputs": [],
   "source": [
    "x5_tr,x5_te,y5_tr,y5_te=train_test_split(t_x,t_y,test_size=0.2,random_state=100)"
   ]
  },
  {
   "cell_type": "code",
   "execution_count": 251,
   "id": "3a9579bf",
   "metadata": {},
   "outputs": [
    {
     "data": {
      "text/plain": [
       "((7777, 5), (1945, 5), (7777,), (1945,))"
      ]
     },
     "execution_count": 251,
     "metadata": {},
     "output_type": "execute_result"
    }
   ],
   "source": [
    "x5_tr.shape,x5_te.shape,y5_tr.shape,y5_te.shape"
   ]
  },
  {
   "cell_type": "markdown",
   "id": "36a318e7",
   "metadata": {},
   "source": [
    "# Logistic Regression"
   ]
  },
  {
   "cell_type": "code",
   "execution_count": 252,
   "id": "8d9c2316",
   "metadata": {},
   "outputs": [],
   "source": [
    "from sklearn.linear_model import LogisticRegression\n",
    "lg=LogisticRegression()"
   ]
  },
  {
   "cell_type": "code",
   "execution_count": 253,
   "id": "89efc5c3",
   "metadata": {},
   "outputs": [
    {
     "data": {
      "text/plain": [
       "LogisticRegression()"
      ]
     },
     "execution_count": 253,
     "metadata": {},
     "output_type": "execute_result"
    }
   ],
   "source": [
    "lg.fit(x5_tr,y5_tr)"
   ]
  },
  {
   "cell_type": "code",
   "execution_count": 254,
   "id": "b2ef5c6a",
   "metadata": {},
   "outputs": [],
   "source": [
    "lg_p2=lg.predict(x5_te)"
   ]
  },
  {
   "cell_type": "code",
   "execution_count": 255,
   "id": "d80e2cea",
   "metadata": {},
   "outputs": [],
   "source": [
    "from sklearn.metrics import confusion_matrix\n",
    "from sklearn.metrics import classification_report"
   ]
  },
  {
   "cell_type": "code",
   "execution_count": 256,
   "id": "491e1fb7",
   "metadata": {},
   "outputs": [
    {
     "data": {
      "text/plain": [
       "array([[688, 187],\n",
       "       [276, 794]], dtype=int64)"
      ]
     },
     "execution_count": 256,
     "metadata": {},
     "output_type": "execute_result"
    }
   ],
   "source": [
    "lg_cf1=confusion_matrix(lg_p2,y5_te)\n",
    "lg_cf1"
   ]
  },
  {
   "cell_type": "code",
   "execution_count": 257,
   "id": "d3055fa8",
   "metadata": {},
   "outputs": [
    {
     "data": {
      "text/plain": [
       "76.19537275064268"
      ]
     },
     "execution_count": 257,
     "metadata": {},
     "output_type": "execute_result"
    }
   ],
   "source": [
    "acc=lg_cf1.diagonal().sum()/lg_cf1.sum()*100\n",
    "acc"
   ]
  },
  {
   "cell_type": "code",
   "execution_count": 258,
   "id": "4e1878f2",
   "metadata": {},
   "outputs": [
    {
     "name": "stdout",
     "output_type": "stream",
     "text": [
      "              precision    recall  f1-score   support\n",
      "\n",
      "           0       0.71      0.79      0.75       875\n",
      "           1       0.81      0.74      0.77      1070\n",
      "\n",
      "    accuracy                           0.76      1945\n",
      "   macro avg       0.76      0.76      0.76      1945\n",
      "weighted avg       0.77      0.76      0.76      1945\n",
      "\n"
     ]
    }
   ],
   "source": [
    "print(classification_report(lg_p2,y5_te))"
   ]
  },
  {
   "cell_type": "code",
   "execution_count": 259,
   "id": "18622f30",
   "metadata": {},
   "outputs": [],
   "source": [
    "lg_ac2=accuracy_score(lg_p2,y5_te)"
   ]
  },
  {
   "cell_type": "code",
   "execution_count": 260,
   "id": "a606ebf1",
   "metadata": {},
   "outputs": [],
   "source": [
    "lg_pre=precision_score(lg_p2,y5_te)"
   ]
  },
  {
   "cell_type": "code",
   "execution_count": 261,
   "id": "cb1f3dfa",
   "metadata": {},
   "outputs": [],
   "source": [
    "lg_rec=recall_score(lg_p2,y5_te)"
   ]
  },
  {
   "cell_type": "code",
   "execution_count": 262,
   "id": "d5b4d8fa",
   "metadata": {},
   "outputs": [],
   "source": [
    "lg_f=f1_score(lg_p2,y5_te)"
   ]
  },
  {
   "cell_type": "markdown",
   "id": "94db08f8",
   "metadata": {},
   "source": [
    "# Decision Tree"
   ]
  },
  {
   "cell_type": "code",
   "execution_count": 263,
   "id": "03b1ceba",
   "metadata": {},
   "outputs": [],
   "source": [
    "from sklearn.tree import DecisionTreeClassifier\n",
    "dt=DecisionTreeClassifier()"
   ]
  },
  {
   "cell_type": "code",
   "execution_count": 264,
   "id": "4539b9bd",
   "metadata": {},
   "outputs": [
    {
     "data": {
      "text/plain": [
       "DecisionTreeClassifier()"
      ]
     },
     "execution_count": 264,
     "metadata": {},
     "output_type": "execute_result"
    }
   ],
   "source": [
    "dt.fit(x5_tr,y5_tr)"
   ]
  },
  {
   "cell_type": "code",
   "execution_count": 265,
   "id": "b30826b5",
   "metadata": {},
   "outputs": [],
   "source": [
    "dt_p2=dt.predict(x5_te)"
   ]
  },
  {
   "cell_type": "code",
   "execution_count": 266,
   "id": "4dfb15e1",
   "metadata": {},
   "outputs": [
    {
     "data": {
      "text/plain": [
       "array([[911,   0],\n",
       "       [ 53, 981]], dtype=int64)"
      ]
     },
     "execution_count": 266,
     "metadata": {},
     "output_type": "execute_result"
    }
   ],
   "source": [
    "dt_cf1=confusion_matrix(dt_p2,y5_te)\n",
    "dt_cf1"
   ]
  },
  {
   "cell_type": "code",
   "execution_count": 267,
   "id": "0c990e04",
   "metadata": {},
   "outputs": [
    {
     "data": {
      "text/plain": [
       "97.27506426735218"
      ]
     },
     "execution_count": 267,
     "metadata": {},
     "output_type": "execute_result"
    }
   ],
   "source": [
    "dt_acc2=dt_cf1.diagonal().sum()/dt_cf1.sum()*100\n",
    "dt_acc2"
   ]
  },
  {
   "cell_type": "code",
   "execution_count": 268,
   "id": "f98b1ef1",
   "metadata": {},
   "outputs": [
    {
     "name": "stdout",
     "output_type": "stream",
     "text": [
      "              precision    recall  f1-score   support\n",
      "\n",
      "           0       0.95      1.00      0.97       911\n",
      "           1       1.00      0.95      0.97      1034\n",
      "\n",
      "    accuracy                           0.97      1945\n",
      "   macro avg       0.97      0.97      0.97      1945\n",
      "weighted avg       0.97      0.97      0.97      1945\n",
      "\n"
     ]
    }
   ],
   "source": [
    "print(classification_report(dt_p2,y5_te))"
   ]
  },
  {
   "cell_type": "code",
   "execution_count": 269,
   "id": "0077a67a",
   "metadata": {},
   "outputs": [],
   "source": [
    "dt_ac2=accuracy_score(dt_p2,y5_te)"
   ]
  },
  {
   "cell_type": "code",
   "execution_count": 270,
   "id": "ffcb6875",
   "metadata": {},
   "outputs": [],
   "source": [
    "dt_pre=precision_score(dt_p2,y5_te)"
   ]
  },
  {
   "cell_type": "code",
   "execution_count": 271,
   "id": "c5eba362",
   "metadata": {},
   "outputs": [],
   "source": [
    "dt_rec=recall_score(dt_p2,y5_te)"
   ]
  },
  {
   "cell_type": "code",
   "execution_count": 272,
   "id": "a77ec61e",
   "metadata": {},
   "outputs": [],
   "source": [
    "dt_f=f1_score(dt_p2,y5_te)"
   ]
  },
  {
   "cell_type": "markdown",
   "id": "2d20f2df",
   "metadata": {},
   "source": [
    "# KNN"
   ]
  },
  {
   "cell_type": "code",
   "execution_count": 273,
   "id": "f3b58e61",
   "metadata": {},
   "outputs": [],
   "source": [
    "from sklearn.neighbors import KNeighborsClassifier\n",
    "knn= KNeighborsClassifier(n_neighbors=7)"
   ]
  },
  {
   "cell_type": "code",
   "execution_count": 274,
   "id": "775c375d",
   "metadata": {},
   "outputs": [
    {
     "data": {
      "text/plain": [
       "KNeighborsClassifier(n_neighbors=7)"
      ]
     },
     "execution_count": 274,
     "metadata": {},
     "output_type": "execute_result"
    }
   ],
   "source": [
    "knn.fit(x5_tr,y5_tr)"
   ]
  },
  {
   "cell_type": "code",
   "execution_count": 275,
   "id": "18d17a53",
   "metadata": {},
   "outputs": [],
   "source": [
    "k_p2=knn.predict(x5_te)"
   ]
  },
  {
   "cell_type": "code",
   "execution_count": 276,
   "id": "c0314e83",
   "metadata": {},
   "outputs": [
    {
     "data": {
      "text/plain": [
       "array([[785,   0],\n",
       "       [179, 981]], dtype=int64)"
      ]
     },
     "execution_count": 276,
     "metadata": {},
     "output_type": "execute_result"
    }
   ],
   "source": [
    "k_cf1=confusion_matrix(k_p2,y5_te)\n",
    "k_cf1"
   ]
  },
  {
   "cell_type": "code",
   "execution_count": 277,
   "id": "1f236689",
   "metadata": {},
   "outputs": [
    {
     "data": {
      "text/plain": [
       "90.79691516709512"
      ]
     },
     "execution_count": 277,
     "metadata": {},
     "output_type": "execute_result"
    }
   ],
   "source": [
    "k_acc2=k_cf1.diagonal().sum()/k_cf1.sum()*100\n",
    "k_acc2"
   ]
  },
  {
   "cell_type": "code",
   "execution_count": 278,
   "id": "f2c4c640",
   "metadata": {},
   "outputs": [
    {
     "name": "stdout",
     "output_type": "stream",
     "text": [
      "              precision    recall  f1-score   support\n",
      "\n",
      "           0       0.81      1.00      0.90       785\n",
      "           1       1.00      0.85      0.92      1160\n",
      "\n",
      "    accuracy                           0.91      1945\n",
      "   macro avg       0.91      0.92      0.91      1945\n",
      "weighted avg       0.93      0.91      0.91      1945\n",
      "\n"
     ]
    }
   ],
   "source": [
    "print(classification_report(k_p2,y5_te))"
   ]
  },
  {
   "cell_type": "code",
   "execution_count": 279,
   "id": "e0eddbdb",
   "metadata": {},
   "outputs": [],
   "source": [
    "K_ac2=accuracy_score(k_p2,y5_te)"
   ]
  },
  {
   "cell_type": "code",
   "execution_count": 280,
   "id": "82be008c",
   "metadata": {},
   "outputs": [],
   "source": [
    "K_pre=precision_score(k_p2,y5_te)"
   ]
  },
  {
   "cell_type": "code",
   "execution_count": 281,
   "id": "5db0d78d",
   "metadata": {},
   "outputs": [],
   "source": [
    "K_rec=recall_score(k_p2,y5_te)"
   ]
  },
  {
   "cell_type": "code",
   "execution_count": 282,
   "id": "8547eac3",
   "metadata": {},
   "outputs": [],
   "source": [
    "K_f=f1_score(k_p2,y5_te)"
   ]
  },
  {
   "cell_type": "code",
   "execution_count": 283,
   "id": "2766d496",
   "metadata": {},
   "outputs": [],
   "source": [
    "lst=list()"
   ]
  },
  {
   "cell_type": "code",
   "execution_count": 341,
   "id": "d1780300",
   "metadata": {},
   "outputs": [],
   "source": [
    "for i in range (1,30):\n",
    "    knn=KNeighborsClassifier(n_neighbors=i)\n",
    "    knn.fit(x5_tr,y5_tr)\n",
    "    kn_pred=knn.predict(x5_te)\n",
    "    cf_k=confusion_matrix(kn_pred,y5_te)\n",
    "    acckn=cf_k.diagonal().sum()/cf_k.sum()*100\n",
    "    lst.append(acckn)"
   ]
  },
  {
   "cell_type": "code",
   "execution_count": 342,
   "id": "61a2039c",
   "metadata": {},
   "outputs": [
    {
     "data": {
      "image/png": "[encoded data removed]",
      "text/plain": [
       "<Figure size 640x480 with 1 Axes>"
      ]
     },
     "metadata": {},
     "output_type": "display_data"
    }
   ],
   "source": [
    "import matplotlib.pyplot as plt\n",
    "p=plt.plot(lst)"
   ]
  },
  {
   "cell_type": "markdown",
   "id": "955832b1",
   "metadata": {},
   "source": [
    "# Random forest"
   ]
  },
  {
   "cell_type": "code",
   "execution_count": 286,
   "id": "015ee8f1",
   "metadata": {},
   "outputs": [],
   "source": [
    "from sklearn.ensemble import RandomForestClassifier\n",
    "rf=RandomForestClassifier()"
   ]
  },
  {
   "cell_type": "code",
   "execution_count": 287,
   "id": "eea2f487",
   "metadata": {},
   "outputs": [
    {
     "data": {
      "text/plain": [
       "RandomForestClassifier()"
      ]
     },
     "execution_count": 287,
     "metadata": {},
     "output_type": "execute_result"
    }
   ],
   "source": [
    "rf.fit(x5_tr,y5_tr)"
   ]
  },
  {
   "cell_type": "code",
   "execution_count": 288,
   "id": "7059f40e",
   "metadata": {},
   "outputs": [
    {
     "data": {
      "text/plain": [
       "array([1, 0, 0, ..., 1, 1, 1], dtype=int64)"
      ]
     },
     "execution_count": 288,
     "metadata": {},
     "output_type": "execute_result"
    }
   ],
   "source": [
    "rf_p2=rf.predict(x5_te)\n",
    "rf_p2"
   ]
  },
  {
   "cell_type": "code",
   "execution_count": 289,
   "id": "477f6006",
   "metadata": {},
   "outputs": [
    {
     "data": {
      "text/plain": [
       "array([[939,   0],\n",
       "       [ 25, 981]], dtype=int64)"
      ]
     },
     "execution_count": 289,
     "metadata": {},
     "output_type": "execute_result"
    }
   ],
   "source": [
    "rf_cf1=confusion_matrix(rf_p2,y5_te)\n",
    "rf_cf1"
   ]
  },
  {
   "cell_type": "code",
   "execution_count": 290,
   "id": "2076c3de",
   "metadata": {},
   "outputs": [
    {
     "data": {
      "text/plain": [
       "98.7146529562982"
      ]
     },
     "execution_count": 290,
     "metadata": {},
     "output_type": "execute_result"
    }
   ],
   "source": [
    "rf_acc2=rf_cf1.diagonal().sum()/rf_cf1.sum()*100\n",
    "rf_acc2"
   ]
  },
  {
   "cell_type": "code",
   "execution_count": 291,
   "id": "ff98afb5",
   "metadata": {},
   "outputs": [
    {
     "name": "stdout",
     "output_type": "stream",
     "text": [
      "              precision    recall  f1-score   support\n",
      "\n",
      "           0       0.97      1.00      0.99       939\n",
      "           1       1.00      0.98      0.99      1006\n",
      "\n",
      "    accuracy                           0.99      1945\n",
      "   macro avg       0.99      0.99      0.99      1945\n",
      "weighted avg       0.99      0.99      0.99      1945\n",
      "\n"
     ]
    }
   ],
   "source": [
    "print(classification_report(rf_p2,y5_te))"
   ]
  },
  {
   "cell_type": "code",
   "execution_count": 292,
   "id": "e5c558c4",
   "metadata": {},
   "outputs": [],
   "source": [
    "rf_ac2=accuracy_score(rf_p2,y5_te)"
   ]
  },
  {
   "cell_type": "code",
   "execution_count": 293,
   "id": "5cfafb0f",
   "metadata": {},
   "outputs": [],
   "source": [
    "rf_pre=precision_score(rf_p2,y5_te)"
   ]
  },
  {
   "cell_type": "code",
   "execution_count": 294,
   "id": "830b37e9",
   "metadata": {},
   "outputs": [],
   "source": [
    "rf_rec=recall_score(rf_p2,y5_te)"
   ]
  },
  {
   "cell_type": "code",
   "execution_count": 295,
   "id": "9b87408e",
   "metadata": {},
   "outputs": [],
   "source": [
    "rf_f=f1_score(rf_p2,y5_te)"
   ]
  },
  {
   "cell_type": "markdown",
   "id": "4066433e",
   "metadata": {},
   "source": [
    "# ADA Boost"
   ]
  },
  {
   "cell_type": "code",
   "execution_count": 296,
   "id": "66c5c357",
   "metadata": {},
   "outputs": [],
   "source": [
    "from sklearn.ensemble import AdaBoostClassifier\n",
    "from sklearn.tree import DecisionTreeClassifier"
   ]
  },
  {
   "cell_type": "code",
   "execution_count": 297,
   "id": "53ab7f06",
   "metadata": {},
   "outputs": [],
   "source": [
    "adbo=AdaBoostClassifier(DecisionTreeClassifier(),n_estimators=5)"
   ]
  },
  {
   "cell_type": "code",
   "execution_count": 298,
   "id": "e884e8c0",
   "metadata": {},
   "outputs": [
    {
     "data": {
      "text/plain": [
       "AdaBoostClassifier(base_estimator=DecisionTreeClassifier(), n_estimators=5)"
      ]
     },
     "execution_count": 298,
     "metadata": {},
     "output_type": "execute_result"
    }
   ],
   "source": [
    "adbo.fit(x5_tr,y5_tr)"
   ]
  },
  {
   "cell_type": "code",
   "execution_count": 299,
   "id": "5536a7eb",
   "metadata": {},
   "outputs": [
    {
     "data": {
      "text/plain": [
       "array([1, 0, 0, ..., 1, 1, 1], dtype=int64)"
      ]
     },
     "execution_count": 299,
     "metadata": {},
     "output_type": "execute_result"
    }
   ],
   "source": [
    "ad_p2=adbo.predict(x5_te)\n",
    "ad_p2"
   ]
  },
  {
   "cell_type": "code",
   "execution_count": 300,
   "id": "d176e17d",
   "metadata": {},
   "outputs": [
    {
     "data": {
      "text/plain": [
       "array([[911,   0],\n",
       "       [ 53, 981]], dtype=int64)"
      ]
     },
     "execution_count": 300,
     "metadata": {},
     "output_type": "execute_result"
    }
   ],
   "source": [
    "ad_cf1=confusion_matrix(ad_p2,y5_te)\n",
    "ad_cf1"
   ]
  },
  {
   "cell_type": "code",
   "execution_count": 301,
   "id": "43a39772",
   "metadata": {},
   "outputs": [
    {
     "data": {
      "text/plain": [
       "97.27506426735218"
      ]
     },
     "execution_count": 301,
     "metadata": {},
     "output_type": "execute_result"
    }
   ],
   "source": [
    "ad_acc2=ad_cf1.diagonal().sum()/ad_cf1.sum()*100\n",
    "ad_acc2"
   ]
  },
  {
   "cell_type": "code",
   "execution_count": 302,
   "id": "ee274555",
   "metadata": {},
   "outputs": [
    {
     "name": "stdout",
     "output_type": "stream",
     "text": [
      "              precision    recall  f1-score   support\n",
      "\n",
      "           0       0.95      1.00      0.97       911\n",
      "           1       1.00      0.95      0.97      1034\n",
      "\n",
      "    accuracy                           0.97      1945\n",
      "   macro avg       0.97      0.97      0.97      1945\n",
      "weighted avg       0.97      0.97      0.97      1945\n",
      "\n"
     ]
    }
   ],
   "source": [
    "print(classification_report(ad_p2,y5_te))"
   ]
  },
  {
   "cell_type": "code",
   "execution_count": 303,
   "id": "a49eefae",
   "metadata": {},
   "outputs": [],
   "source": [
    "adbo_ac2=accuracy_score(ad_p2,y5_te)"
   ]
  },
  {
   "cell_type": "code",
   "execution_count": 304,
   "id": "888aa42c",
   "metadata": {},
   "outputs": [],
   "source": [
    "adbo_pre=precision_score(ad_p2,y5_te)"
   ]
  },
  {
   "cell_type": "code",
   "execution_count": 305,
   "id": "c9095353",
   "metadata": {},
   "outputs": [],
   "source": [
    "adbo_rec=recall_score(ad_p2,y5_te)"
   ]
  },
  {
   "cell_type": "code",
   "execution_count": 306,
   "id": "1a79823f",
   "metadata": {},
   "outputs": [],
   "source": [
    "adbo_f=f1_score(ad_p2,y5_te)"
   ]
  },
  {
   "cell_type": "markdown",
   "id": "7537b44b",
   "metadata": {},
   "source": [
    "# XG Boost"
   ]
  },
  {
   "cell_type": "code",
   "execution_count": 307,
   "id": "91e6bfac",
   "metadata": {},
   "outputs": [],
   "source": [
    "from xgboost import XGBClassifier\n",
    "xgb=XGBClassifier()"
   ]
  },
  {
   "cell_type": "code",
   "execution_count": 308,
   "id": "de07d26f",
   "metadata": {},
   "outputs": [
    {
     "data": {
      "text/plain": [
       "XGBClassifier(base_score=None, booster=None, callbacks=None,\n",
       "              colsample_bylevel=None, colsample_bynode=None,\n",
       "              colsample_bytree=None, early_stopping_rounds=None,\n",
       "              enable_categorical=False, eval_metric=None, feature_types=None,\n",
       "              gamma=None, gpu_id=None, grow_policy=None, importance_type=None,\n",
       "              interaction_constraints=None, learning_rate=None, max_bin=None,\n",
       "              max_cat_threshold=None, max_cat_to_onehot=None,\n",
       "              max_delta_step=None, max_depth=None, max_leaves=None,\n",
       "              min_child_weight=None, missing=nan, monotone_constraints=None,\n",
       "              n_estimators=100, n_jobs=None, num_parallel_tree=None,\n",
       "              predictor=None, random_state=None, ...)"
      ]
     },
     "execution_count": 308,
     "metadata": {},
     "output_type": "execute_result"
    }
   ],
   "source": [
    "xgb.fit(x5_tr,y5_tr)"
   ]
  },
  {
   "cell_type": "code",
   "execution_count": 309,
   "id": "148bcf5f",
   "metadata": {},
   "outputs": [
    {
     "data": {
      "text/plain": [
       "array([1, 0, 1, ..., 1, 1, 1])"
      ]
     },
     "execution_count": 309,
     "metadata": {},
     "output_type": "execute_result"
    }
   ],
   "source": [
    "xgb_p2=xgb.predict(x5_te)\n",
    "xgb_p2"
   ]
  },
  {
   "cell_type": "code",
   "execution_count": 310,
   "id": "0f714b87",
   "metadata": {},
   "outputs": [
    {
     "data": {
      "text/plain": [
       "array([[905,   0],\n",
       "       [ 59, 981]], dtype=int64)"
      ]
     },
     "execution_count": 310,
     "metadata": {},
     "output_type": "execute_result"
    }
   ],
   "source": [
    "xgb_cf1=confusion_matrix(xgb_p2,y5_te)\n",
    "xgb_cf1"
   ]
  },
  {
   "cell_type": "code",
   "execution_count": 311,
   "id": "04f94eae",
   "metadata": {},
   "outputs": [
    {
     "data": {
      "text/plain": [
       "96.96658097686375"
      ]
     },
     "execution_count": 311,
     "metadata": {},
     "output_type": "execute_result"
    }
   ],
   "source": [
    "xgb_acc2=xgb_cf1.diagonal().sum()/xgb_cf1.sum()*100\n",
    "xgb_acc2"
   ]
  },
  {
   "cell_type": "code",
   "execution_count": 312,
   "id": "50303459",
   "metadata": {},
   "outputs": [
    {
     "name": "stdout",
     "output_type": "stream",
     "text": [
      "              precision    recall  f1-score   support\n",
      "\n",
      "           0       0.94      1.00      0.97       905\n",
      "           1       1.00      0.94      0.97      1040\n",
      "\n",
      "    accuracy                           0.97      1945\n",
      "   macro avg       0.97      0.97      0.97      1945\n",
      "weighted avg       0.97      0.97      0.97      1945\n",
      "\n"
     ]
    }
   ],
   "source": [
    "print(classification_report(xgb_p2,y5_te))"
   ]
  },
  {
   "cell_type": "code",
   "execution_count": 313,
   "id": "4e67c1ea",
   "metadata": {},
   "outputs": [],
   "source": [
    "xgb_ac2=accuracy_score(xgb_p2,y5_te)"
   ]
  },
  {
   "cell_type": "code",
   "execution_count": 314,
   "id": "0398bc61",
   "metadata": {},
   "outputs": [],
   "source": [
    "xgb_pre=precision_score(xgb_p2,y5_te)"
   ]
  },
  {
   "cell_type": "code",
   "execution_count": 315,
   "id": "26850ca6",
   "metadata": {},
   "outputs": [],
   "source": [
    "xgb_rec=recall_score(xgb_p2,y5_te)"
   ]
  },
  {
   "cell_type": "code",
   "execution_count": 316,
   "id": "86734bf9",
   "metadata": {},
   "outputs": [],
   "source": [
    "xgb_f=f1_score(xgb_p2,y5_te)"
   ]
  },
  {
   "cell_type": "markdown",
   "id": "d5bb8717",
   "metadata": {},
   "source": [
    "# SVM"
   ]
  },
  {
   "cell_type": "code",
   "execution_count": 317,
   "id": "b8306cc4",
   "metadata": {},
   "outputs": [],
   "source": [
    "from sklearn.svm import SVC\n",
    "svc=SVC()"
   ]
  },
  {
   "cell_type": "code",
   "execution_count": 318,
   "id": "360f905b",
   "metadata": {},
   "outputs": [
    {
     "data": {
      "text/plain": [
       "SVC()"
      ]
     },
     "execution_count": 318,
     "metadata": {},
     "output_type": "execute_result"
    }
   ],
   "source": [
    "svc.fit(x5_tr,y5_tr)"
   ]
  },
  {
   "cell_type": "code",
   "execution_count": 319,
   "id": "6953f088",
   "metadata": {},
   "outputs": [
    {
     "data": {
      "text/plain": [
       "array([1, 0, 1, ..., 0, 1, 1], dtype=int64)"
      ]
     },
     "execution_count": 319,
     "metadata": {},
     "output_type": "execute_result"
    }
   ],
   "source": [
    "s_p2=svc.predict(x5_te)\n",
    "s_p2"
   ]
  },
  {
   "cell_type": "code",
   "execution_count": 320,
   "id": "65316bdd",
   "metadata": {},
   "outputs": [
    {
     "data": {
      "text/plain": [
       "array([[690, 202],\n",
       "       [274, 779]], dtype=int64)"
      ]
     },
     "execution_count": 320,
     "metadata": {},
     "output_type": "execute_result"
    }
   ],
   "source": [
    "s_cf1=confusion_matrix(s_p2,y5_te)\n",
    "s_cf1"
   ]
  },
  {
   "cell_type": "code",
   "execution_count": 321,
   "id": "ff993076",
   "metadata": {},
   "outputs": [
    {
     "data": {
      "text/plain": [
       "75.52699228791774"
      ]
     },
     "execution_count": 321,
     "metadata": {},
     "output_type": "execute_result"
    }
   ],
   "source": [
    "s_acc2=s_cf1.diagonal().sum()/s_cf1.sum()*100\n",
    "s_acc2"
   ]
  },
  {
   "cell_type": "code",
   "execution_count": 322,
   "id": "0a9a0c21",
   "metadata": {},
   "outputs": [
    {
     "name": "stdout",
     "output_type": "stream",
     "text": [
      "              precision    recall  f1-score   support\n",
      "\n",
      "           0       0.72      0.77      0.74       892\n",
      "           1       0.79      0.74      0.77      1053\n",
      "\n",
      "    accuracy                           0.76      1945\n",
      "   macro avg       0.75      0.76      0.75      1945\n",
      "weighted avg       0.76      0.76      0.76      1945\n",
      "\n"
     ]
    }
   ],
   "source": [
    "print(classification_report(s_p2,y5_te))"
   ]
  },
  {
   "cell_type": "code",
   "execution_count": 323,
   "id": "6a644b83",
   "metadata": {},
   "outputs": [],
   "source": [
    "svm_ac2=accuracy_score(s_p2,y5_te)"
   ]
  },
  {
   "cell_type": "code",
   "execution_count": 324,
   "id": "52886cbe",
   "metadata": {},
   "outputs": [],
   "source": [
    "svm_pre=precision_score(s_p2,y5_te)"
   ]
  },
  {
   "cell_type": "code",
   "execution_count": 325,
   "id": "cee5d68f",
   "metadata": {},
   "outputs": [],
   "source": [
    "svm_rec=recall_score(s_p2,y5_te)"
   ]
  },
  {
   "cell_type": "code",
   "execution_count": 326,
   "id": "ab1caca5",
   "metadata": {},
   "outputs": [],
   "source": [
    "svm_f=f1_score(s_p2,y5_te)"
   ]
  },
  {
   "cell_type": "markdown",
   "id": "45ae6dc5",
   "metadata": {},
   "source": [
    "# Naivy Bayes"
   ]
  },
  {
   "cell_type": "code",
   "execution_count": 327,
   "id": "fbf74bc5",
   "metadata": {},
   "outputs": [],
   "source": [
    "from sklearn.naive_bayes import MultinomialNB\n",
    "nb=MultinomialNB()"
   ]
  },
  {
   "cell_type": "code",
   "execution_count": 328,
   "id": "c040eb13",
   "metadata": {},
   "outputs": [
    {
     "data": {
      "text/plain": [
       "MultinomialNB()"
      ]
     },
     "execution_count": 328,
     "metadata": {},
     "output_type": "execute_result"
    }
   ],
   "source": [
    "nb.fit(x5_tr,y5_tr)"
   ]
  },
  {
   "cell_type": "code",
   "execution_count": 329,
   "id": "a02ca206",
   "metadata": {},
   "outputs": [],
   "source": [
    "n_p2=nb.predict(x5_te)"
   ]
  },
  {
   "cell_type": "code",
   "execution_count": 330,
   "id": "9e325908",
   "metadata": {},
   "outputs": [],
   "source": [
    "n_cf1=confusion_matrix(n_p2,y5_te)\n"
   ]
  },
  {
   "cell_type": "code",
   "execution_count": 331,
   "id": "fa9f7131",
   "metadata": {},
   "outputs": [
    {
     "data": {
      "text/plain": [
       "68.32904884318765"
      ]
     },
     "execution_count": 331,
     "metadata": {},
     "output_type": "execute_result"
    }
   ],
   "source": [
    "acc_n=n_cf1.diagonal().sum()/n_cf1.sum()*100\n",
    "acc_n"
   ]
  },
  {
   "cell_type": "code",
   "execution_count": 332,
   "id": "747f15b2",
   "metadata": {},
   "outputs": [
    {
     "name": "stdout",
     "output_type": "stream",
     "text": [
      "              precision    recall  f1-score   support\n",
      "\n",
      "           0       0.62      0.71      0.66       846\n",
      "           1       0.75      0.67      0.70      1099\n",
      "\n",
      "    accuracy                           0.68      1945\n",
      "   macro avg       0.68      0.69      0.68      1945\n",
      "weighted avg       0.69      0.68      0.68      1945\n",
      "\n"
     ]
    }
   ],
   "source": [
    "print(classification_report(n_p2,y5_te))"
   ]
  },
  {
   "cell_type": "code",
   "execution_count": 333,
   "id": "1bbe0193",
   "metadata": {},
   "outputs": [],
   "source": [
    "nb_ac2=accuracy_score(n_p2,y5_te)"
   ]
  },
  {
   "cell_type": "code",
   "execution_count": 334,
   "id": "802e74c3",
   "metadata": {},
   "outputs": [],
   "source": [
    "nb_pre=precision_score(n_p2,y5_te)"
   ]
  },
  {
   "cell_type": "code",
   "execution_count": 335,
   "id": "be90e391",
   "metadata": {},
   "outputs": [],
   "source": [
    "nb_rec=recall_score(n_p2,y5_te)"
   ]
  },
  {
   "cell_type": "code",
   "execution_count": 336,
   "id": "4a3ecbd4",
   "metadata": {},
   "outputs": [],
   "source": [
    "nb_f=f1_score(n_p2,y5_te)"
   ]
  },
  {
   "cell_type": "code",
   "execution_count": 337,
   "id": "a54495fb",
   "metadata": {},
   "outputs": [],
   "source": [
    "list_6=[\"LOGISTIC REGRESSION\",\"DECISION TREE\",\"KNN\",\"RANDOM FOREST\",\"ADA BOOST\",\"XGBOOST\",\"SVM\",\"NAIVEY BAYES\"]\n",
    "list_7=[lg_ac2,dt_ac2,rf_ac2,adbo_ac2,xgb_ac2,K_ac2,svm_ac2,nb_ac2]\n",
    "list_8=[lg_pre,dt_pre,rf_pre,adbo_pre,xgb_pre,K_pre,svm_pre,nb_pre]\n",
    "list_9=[lg_rec,dt_rec,rf_rec,adbo_rec,xgb_rec,K_rec,svm_rec,nb_rec]\n",
    "list_10=[lg_f,dt_f,rf_f,adbo_f,xgb_f,K_f,svm_f,nb_f]"
   ]
  },
  {
   "cell_type": "code",
   "execution_count": 338,
   "id": "640ab3e8",
   "metadata": {},
   "outputs": [
    {
     "data": {
      "text/html": [
       "<div>\n",
       "<style scoped>\n",
       "    .dataframe tbody tr th:only-of-type {\n",
       "        vertical-align: middle;\n",
       "    }\n",
       "\n",
       "    .dataframe tbody tr th {\n",
       "        vertical-align: top;\n",
       "    }\n",
       "\n",
       "    .dataframe thead th {\n",
       "        text-align: right;\n",
       "    }\n",
       "</style>\n",
       "<table border=\"1\" class=\"dataframe\">\n",
       "  <thead>\n",
       "    <tr style=\"text-align: right;\">\n",
       "      <th></th>\n",
       "      <th>Model Name</th>\n",
       "      <th>Accuracy</th>\n",
       "      <th>Precision</th>\n",
       "      <th>Recall</th>\n",
       "      <th>F1_score</th>\n",
       "    </tr>\n",
       "  </thead>\n",
       "  <tbody>\n",
       "    <tr>\n",
       "      <th>0</th>\n",
       "      <td>LOGISTIC REGRESSION</td>\n",
       "      <td>0.760411</td>\n",
       "      <td>0.793068</td>\n",
       "      <td>0.747358</td>\n",
       "      <td>0.769535</td>\n",
       "    </tr>\n",
       "    <tr>\n",
       "      <th>1</th>\n",
       "      <td>DECISION TREE</td>\n",
       "      <td>0.975321</td>\n",
       "      <td>1.000000</td>\n",
       "      <td>0.953353</td>\n",
       "      <td>0.976119</td>\n",
       "    </tr>\n",
       "    <tr>\n",
       "      <th>2</th>\n",
       "      <td>KNN</td>\n",
       "      <td>0.991260</td>\n",
       "      <td>1.000000</td>\n",
       "      <td>0.982966</td>\n",
       "      <td>0.991410</td>\n",
       "    </tr>\n",
       "    <tr>\n",
       "      <th>3</th>\n",
       "      <td>RANDOM FOREST</td>\n",
       "      <td>0.977378</td>\n",
       "      <td>1.000000</td>\n",
       "      <td>0.957073</td>\n",
       "      <td>0.978066</td>\n",
       "    </tr>\n",
       "    <tr>\n",
       "      <th>4</th>\n",
       "      <td>ADA BOOST</td>\n",
       "      <td>0.971722</td>\n",
       "      <td>1.000000</td>\n",
       "      <td>0.946911</td>\n",
       "      <td>0.972732</td>\n",
       "    </tr>\n",
       "    <tr>\n",
       "      <th>5</th>\n",
       "      <td>XGBOOST</td>\n",
       "      <td>0.803085</td>\n",
       "      <td>0.932722</td>\n",
       "      <td>0.742695</td>\n",
       "      <td>0.826932</td>\n",
       "    </tr>\n",
       "    <tr>\n",
       "      <th>6</th>\n",
       "      <td>SVM</td>\n",
       "      <td>0.751157</td>\n",
       "      <td>0.798165</td>\n",
       "      <td>0.732460</td>\n",
       "      <td>0.763902</td>\n",
       "    </tr>\n",
       "    <tr>\n",
       "      <th>7</th>\n",
       "      <td>NAIVEY BAYES</td>\n",
       "      <td>0.695630</td>\n",
       "      <td>0.762487</td>\n",
       "      <td>0.675700</td>\n",
       "      <td>0.716475</td>\n",
       "    </tr>\n",
       "  </tbody>\n",
       "</table>\n",
       "</div>"
      ],
      "text/plain": [
       "            Model Name  Accuracy  Precision    Recall  F1_score\n",
       "0  LOGISTIC REGRESSION  0.760411   0.793068  0.747358  0.769535\n",
       "1        DECISION TREE  0.975321   1.000000  0.953353  0.976119\n",
       "2                  KNN  0.991260   1.000000  0.982966  0.991410\n",
       "3        RANDOM FOREST  0.977378   1.000000  0.957073  0.978066\n",
       "4            ADA BOOST  0.971722   1.000000  0.946911  0.972732\n",
       "5              XGBOOST  0.803085   0.932722  0.742695  0.826932\n",
       "6                  SVM  0.751157   0.798165  0.732460  0.763902\n",
       "7         NAIVEY BAYES  0.695630   0.762487  0.675700  0.716475"
      ]
     },
     "execution_count": 338,
     "metadata": {},
     "output_type": "execute_result"
    }
   ],
   "source": [
    "d2=pd.DataFrame({\"Model Name\":list6,\"Accuracy\":list7,\"Precision\":list8,\"Recall\":list9,\"F1_score\":list10})\n",
    "d2"
   ]
  },
  {
   "cell_type": "code",
   "execution_count": null,
   "id": "843d04fa",
   "metadata": {},
   "outputs": [],
   "source": []
  },
  {
   "cell_type": "code",
   "execution_count": null,
   "id": "9ad78c6b",
   "metadata": {},
   "outputs": [],
   "source": []
  }
 ],
 "metadata": {
  "kernelspec": {
   "display_name": "Python 3 (ipykernel)",
   "language": "python",
   "name": "python3"
  },
  "language_info": {
   "codemirror_mode": {
    "name": "ipython",
    "version": 3
   },
   "file_extension": ".py",
   "mimetype": "text/x-python",
   "name": "python",
   "nbconvert_exporter": "python",
   "pygments_lexer": "ipython3",
   "version": "3.9.13"
  }
 },
 "nbformat": 4,
 "nbformat_minor": 5
}
